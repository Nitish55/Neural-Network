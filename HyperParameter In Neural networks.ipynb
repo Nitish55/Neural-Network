{
 "cells": [
  {
   "cell_type": "markdown",
   "metadata": {},
   "source": [
    "# Hyperparameter tuning Neural network\n",
    "**Keras tuner- Decide num of hidden layers and neuron in neural network**"
   ]
  },
  {
   "cell_type": "code",
   "execution_count": null,
   "metadata": {},
   "outputs": [],
   "source": [
    "#pip install keras-tuner"
   ]
  },
  {
   "cell_type": "code",
   "execution_count": 1,
   "metadata": {},
   "outputs": [],
   "source": [
    "import pandas as pd\n",
    "import numpy as np\n",
    "import tensorflow as tf\n",
    "from tensorflow import keras\n",
    "from tensorflow.keras import layers,Sequential\n",
    "from keras_tuner.tuners import RandomSearch\n",
    "\n",
    "from keras.layers import Dense\n",
    "from sklearn.model_selection import GridSearchCV\n",
    "from keras.wrappers.scikit_learn import KerasClassifier"
   ]
  },
  {
   "cell_type": "markdown",
   "metadata": {},
   "source": [
    "## Importing Dataset"
   ]
  },
  {
   "cell_type": "code",
   "execution_count": 2,
   "metadata": {},
   "outputs": [],
   "source": [
    "mnist=tf.keras.datasets.mnist"
   ]
  },
  {
   "cell_type": "code",
   "execution_count": 15,
   "metadata": {},
   "outputs": [],
   "source": [
    "(X_train,y_train),(X_test,y_test)=mnist.load_data()"
   ]
  },
  {
   "cell_type": "code",
   "execution_count": 16,
   "metadata": {},
   "outputs": [],
   "source": [
    "# Normalize\n",
    "X_train,X_test=X_train/255.0 ,X_test/255.0"
   ]
  },
  {
   "cell_type": "code",
   "execution_count": 17,
   "metadata": {},
   "outputs": [
    {
     "name": "stdout",
     "output_type": "stream",
     "text": [
      "X_train Shape (60000, 28, 28)\n"
     ]
    }
   ],
   "source": [
    "print(\"X_train Shape\",X_train.shape)"
   ]
  },
  {
   "cell_type": "markdown",
   "metadata": {},
   "source": [
    "## Hyperparameter Tuning"
   ]
  },
  {
   "cell_type": "markdown",
   "metadata": {},
   "source": [
    "**hp.Int-->** Incase we know inputs are integer\n",
    "\n",
    "**hp.choice-->** Incase we have several choice among the given several parameters"
   ]
  },
  {
   "cell_type": "code",
   "execution_count": 10,
   "metadata": {},
   "outputs": [],
   "source": [
    "def build_model(hp):\n",
    "    model = keras.Sequential()\n",
    "    model.add(layers.Flatten(input_shape=(28,28)))\n",
    "    model.add(layers.Dense(units=hp.Int('units_',\n",
    "                                            min_value=32,\n",
    "                                            max_value=512,\n",
    "                                            step=32),\n",
    "                               activation='relu'))\n",
    "    model.add(layers.Dense(10, activation='softmax'))\n",
    "    model.compile(\n",
    "        optimizer=keras.optimizers.Adam(\n",
    "            hp.Choice('learning_rate', [1e-2, 1e-3, 1e-4])),\n",
    "        loss='sparse_categorical_crossentropy',\n",
    "        metrics=['accuracy'])\n",
    "    return model"
   ]
  },
  {
   "cell_type": "markdown",
   "metadata": {},
   "source": [
    "**max_trails=5**-- Deep neural network fits thousands  of permutation and combinantion of model to find best hyperparameter, using this keyword model onlytry 5 models\n",
    "\n",
    "**executions_per_trial=3** -- In each try it will try with 3 diferent models."
   ]
  },
  {
   "cell_type": "code",
   "execution_count": 11,
   "metadata": {},
   "outputs": [
    {
     "name": "stdout",
     "output_type": "stream",
     "text": [
      "INFO:tensorflow:Reloading Oracle from existing project my_dict\\Hypertuning\\oracle.json\n"
     ]
    }
   ],
   "source": [
    "tuner = RandomSearch(\n",
    "    build_model,\n",
    "    objective='val_accuracy',\n",
    "    max_trials=5,\n",
    "    executions_per_trial=3,\n",
    "    directory='my_dict',\n",
    "    project_name='Hypertuning')"
   ]
  },
  {
   "cell_type": "markdown",
   "metadata": {},
   "source": [
    "**Check the hyperparamets**"
   ]
  },
  {
   "cell_type": "code",
   "execution_count": 12,
   "metadata": {},
   "outputs": [
    {
     "name": "stdout",
     "output_type": "stream",
     "text": [
      "Search space summary\n",
      "Default search space size: 2\n",
      "units_ (Int)\n",
      "{'default': None, 'conditions': [], 'min_value': 32, 'max_value': 512, 'step': 32, 'sampling': None}\n",
      "learning_rate (Choice)\n",
      "{'default': 0.01, 'conditions': [], 'values': [0.01, 0.001, 0.0001], 'ordered': True}\n"
     ]
    }
   ],
   "source": [
    "tuner.search_space_summary()"
   ]
  },
  {
   "cell_type": "markdown",
   "metadata": {},
   "source": [
    "**Fitting the model**"
   ]
  },
  {
   "cell_type": "code",
   "execution_count": 13,
   "metadata": {},
   "outputs": [
    {
     "name": "stdout",
     "output_type": "stream",
     "text": [
      "Trial 6 Complete [00h 02m 02s]\n",
      "val_accuracy: 0.9516999920209249\n",
      "\n",
      "Best val_accuracy So Far: 0.9760333299636841\n",
      "Total elapsed time: 00h 13m 55s\n",
      "INFO:tensorflow:Oracle triggered exit\n"
     ]
    }
   ],
   "source": [
    "tuner.search(X_train,y_train,epochs=5,validation_data=(X_test,y_test))"
   ]
  },
  {
   "cell_type": "markdown",
   "metadata": {},
   "source": [
    "**Summary of the result**"
   ]
  },
  {
   "cell_type": "code",
   "execution_count": 14,
   "metadata": {},
   "outputs": [
    {
     "name": "stdout",
     "output_type": "stream",
     "text": [
      "Results summary\n",
      "Results in my_dict\\Hypertuning\n",
      "Showing 10 best trials\n",
      "Objective(name='val_accuracy', direction='max')\n",
      "Trial summary\n",
      "Hyperparameters:\n",
      "units_: 96\n",
      "learning_rate: 0.001\n",
      "Score: 0.9760333299636841\n",
      "Trial summary\n",
      "Hyperparameters:\n",
      "units_: 512\n",
      "learning_rate: 0.0001\n",
      "Score: 0.9678333401679993\n",
      "Trial summary\n",
      "Hyperparameters:\n",
      "units_: 256\n",
      "learning_rate: 0.0001\n",
      "Score: 0.9606333374977112\n",
      "Trial summary\n",
      "Hyperparameters:\n",
      "units_: 128\n",
      "learning_rate: 0.0001\n",
      "Score: 0.9516999920209249\n",
      "Trial summary\n",
      "Hyperparameters:\n",
      "units_: 96\n",
      "learning_rate: 0.0001\n",
      "Score: 0.945633331934611\n"
     ]
    }
   ],
   "source": [
    "tuner.results_summary()"
   ]
  },
  {
   "cell_type": "markdown",
   "metadata": {},
   "source": [
    "# Using Loops"
   ]
  },
  {
   "cell_type": "markdown",
   "metadata": {},
   "source": [
    "**Int('units_' + str(i)**--> we used this coz in case of epochs we can keep an eye on units assigned as in epochs it as units_1,units_2 and so on "
   ]
  },
  {
   "cell_type": "code",
   "execution_count": 6,
   "metadata": {},
   "outputs": [],
   "source": [
    "def build_model2(hp):\n",
    "    model = keras.Sequential()\n",
    "    model.add(layers.Flatten(input_shape=(28,28)))\n",
    "    for i in range(hp.Int(\"layers\",2,6)):\n",
    "        model.add(layers.Dense(units=hp.Int('units_' + str(i),\n",
    "                                            min_value=10,\n",
    "                                            max_value=250,\n",
    "                                            step=25),\n",
    "                               activation=hp.Choice(\"act\"+str(i),[\"LeakyReLU\",'relu'])))\n",
    "    model.add(layers.Dense(10, activation='softmax'))\n",
    "    model.compile(\n",
    "        optimizer=keras.optimizers.Adam(\n",
    "            hp.Choice('learning_rate', [1e-2, 1e-3, 1e-4])),\n",
    "        loss='sparse_categorical_crossentropy',\n",
    "        metrics=['accuracy'])\n",
    "    return model"
   ]
  },
  {
   "cell_type": "markdown",
   "metadata": {},
   "source": [
    "## Note-\n",
    "Always give separate name to `directory` and `project_name`,otherwise it won't replace the tuner it will only take previous defined tuner."
   ]
  },
  {
   "cell_type": "code",
   "execution_count": 10,
   "metadata": {},
   "outputs": [],
   "source": [
    "tuner_nw = RandomSearch(\n",
    "    build_model2,\n",
    "    objective='val_accuracy',\n",
    "    max_trials=3,\n",
    "    executions_per_trial=3,\n",
    "    directory='my_dict_loop',\n",
    "    project_name='Hypertuning_loop')"
   ]
  },
  {
   "cell_type": "code",
   "execution_count": 11,
   "metadata": {},
   "outputs": [
    {
     "name": "stdout",
     "output_type": "stream",
     "text": [
      "Search space summary\n",
      "Default search space size: 6\n",
      "layers (Int)\n",
      "{'default': None, 'conditions': [], 'min_value': 2, 'max_value': 6, 'step': 1, 'sampling': None}\n",
      "units_0 (Int)\n",
      "{'default': None, 'conditions': [], 'min_value': 10, 'max_value': 250, 'step': 25, 'sampling': None}\n",
      "act0 (Choice)\n",
      "{'default': 'LeakyReLU', 'conditions': [], 'values': ['LeakyReLU', 'relu'], 'ordered': False}\n",
      "units_1 (Int)\n",
      "{'default': None, 'conditions': [], 'min_value': 10, 'max_value': 250, 'step': 25, 'sampling': None}\n",
      "act1 (Choice)\n",
      "{'default': 'LeakyReLU', 'conditions': [], 'values': ['LeakyReLU', 'relu'], 'ordered': False}\n",
      "learning_rate (Choice)\n",
      "{'default': 0.01, 'conditions': [], 'values': [0.01, 0.001, 0.0001], 'ordered': True}\n"
     ]
    }
   ],
   "source": [
    "tuner_nw.search_space_summary()"
   ]
  },
  {
   "cell_type": "code",
   "execution_count": 12,
   "metadata": {},
   "outputs": [
    {
     "name": "stdout",
     "output_type": "stream",
     "text": [
      "Trial 3 Complete [00h 01m 23s]\n",
      "val_accuracy: 0.9300333460172018\n",
      "\n",
      "Best val_accuracy So Far: 0.966533342997233\n",
      "Total elapsed time: 00h 04m 46s\n",
      "INFO:tensorflow:Oracle triggered exit\n"
     ]
    }
   ],
   "source": [
    "tuner_nw.search(X_train,y_train,epochs=3,validation_data=(X_test,y_test))"
   ]
  },
  {
   "cell_type": "code",
   "execution_count": 13,
   "metadata": {},
   "outputs": [
    {
     "name": "stdout",
     "output_type": "stream",
     "text": [
      "Results summary\n",
      "Results in my_dict_loop\\Hypertuning_loop\n",
      "Showing 10 best trials\n",
      "Objective(name='val_accuracy', direction='max')\n",
      "Trial summary\n",
      "Hyperparameters:\n",
      "layers: 6\n",
      "units_0: 235\n",
      "act0: LeakyReLU\n",
      "units_1: 110\n",
      "act1: relu\n",
      "learning_rate: 0.001\n",
      "units_2: 210\n",
      "act2: LeakyReLU\n",
      "units_3: 185\n",
      "act3: relu\n",
      "units_4: 10\n",
      "act4: LeakyReLU\n",
      "units_5: 10\n",
      "act5: LeakyReLU\n",
      "Score: 0.966533342997233\n",
      "Trial summary\n",
      "Hyperparameters:\n",
      "layers: 4\n",
      "units_0: 60\n",
      "act0: relu\n",
      "units_1: 85\n",
      "act1: LeakyReLU\n",
      "learning_rate: 0.01\n",
      "units_2: 10\n",
      "act2: LeakyReLU\n",
      "units_3: 10\n",
      "act3: LeakyReLU\n",
      "Score: 0.9568333427111307\n",
      "Trial summary\n",
      "Hyperparameters:\n",
      "layers: 5\n",
      "units_0: 35\n",
      "act0: LeakyReLU\n",
      "units_1: 85\n",
      "act1: relu\n",
      "learning_rate: 0.01\n",
      "units_2: 85\n",
      "act2: LeakyReLU\n",
      "units_3: 160\n",
      "act3: relu\n",
      "units_4: 60\n",
      "act4: relu\n",
      "units_5: 235\n",
      "act5: relu\n",
      "Score: 0.9300333460172018\n"
     ]
    }
   ],
   "source": [
    "tuner_nw.results_summary()"
   ]
  },
  {
   "cell_type": "markdown",
   "metadata": {},
   "source": [
    "# Different Problem"
   ]
  },
  {
   "cell_type": "markdown",
   "metadata": {},
   "source": [
    "## loading dataset"
   ]
  },
  {
   "cell_type": "code",
   "execution_count": 2,
   "metadata": {},
   "outputs": [
    {
     "data": {
      "text/html": [
       "<div>\n",
       "<style scoped>\n",
       "    .dataframe tbody tr th:only-of-type {\n",
       "        vertical-align: middle;\n",
       "    }\n",
       "\n",
       "    .dataframe tbody tr th {\n",
       "        vertical-align: top;\n",
       "    }\n",
       "\n",
       "    .dataframe thead th {\n",
       "        text-align: right;\n",
       "    }\n",
       "</style>\n",
       "<table border=\"1\" class=\"dataframe\">\n",
       "  <thead>\n",
       "    <tr style=\"text-align: right;\">\n",
       "      <th></th>\n",
       "      <th>T</th>\n",
       "      <th>TM</th>\n",
       "      <th>Tm</th>\n",
       "      <th>SLP</th>\n",
       "      <th>H</th>\n",
       "      <th>VV</th>\n",
       "      <th>V</th>\n",
       "      <th>VM</th>\n",
       "      <th>PM 2.5</th>\n",
       "    </tr>\n",
       "  </thead>\n",
       "  <tbody>\n",
       "    <tr>\n",
       "      <th>0</th>\n",
       "      <td>7.4</td>\n",
       "      <td>9.8</td>\n",
       "      <td>4.8</td>\n",
       "      <td>1017.6</td>\n",
       "      <td>93.0</td>\n",
       "      <td>0.5</td>\n",
       "      <td>4.3</td>\n",
       "      <td>9.4</td>\n",
       "      <td>219.720833</td>\n",
       "    </tr>\n",
       "    <tr>\n",
       "      <th>1</th>\n",
       "      <td>7.8</td>\n",
       "      <td>12.7</td>\n",
       "      <td>4.4</td>\n",
       "      <td>1018.5</td>\n",
       "      <td>87.0</td>\n",
       "      <td>0.6</td>\n",
       "      <td>4.4</td>\n",
       "      <td>11.1</td>\n",
       "      <td>182.187500</td>\n",
       "    </tr>\n",
       "    <tr>\n",
       "      <th>2</th>\n",
       "      <td>6.7</td>\n",
       "      <td>13.4</td>\n",
       "      <td>2.4</td>\n",
       "      <td>1019.4</td>\n",
       "      <td>82.0</td>\n",
       "      <td>0.6</td>\n",
       "      <td>4.8</td>\n",
       "      <td>11.1</td>\n",
       "      <td>154.037500</td>\n",
       "    </tr>\n",
       "    <tr>\n",
       "      <th>3</th>\n",
       "      <td>8.6</td>\n",
       "      <td>15.5</td>\n",
       "      <td>3.3</td>\n",
       "      <td>1018.7</td>\n",
       "      <td>72.0</td>\n",
       "      <td>0.8</td>\n",
       "      <td>8.1</td>\n",
       "      <td>20.6</td>\n",
       "      <td>223.208333</td>\n",
       "    </tr>\n",
       "    <tr>\n",
       "      <th>4</th>\n",
       "      <td>12.4</td>\n",
       "      <td>20.9</td>\n",
       "      <td>4.4</td>\n",
       "      <td>1017.3</td>\n",
       "      <td>61.0</td>\n",
       "      <td>1.3</td>\n",
       "      <td>8.7</td>\n",
       "      <td>22.2</td>\n",
       "      <td>200.645833</td>\n",
       "    </tr>\n",
       "  </tbody>\n",
       "</table>\n",
       "</div>"
      ],
      "text/plain": [
       "      T    TM   Tm     SLP     H   VV    V    VM      PM 2.5\n",
       "0   7.4   9.8  4.8  1017.6  93.0  0.5  4.3   9.4  219.720833\n",
       "1   7.8  12.7  4.4  1018.5  87.0  0.6  4.4  11.1  182.187500\n",
       "2   6.7  13.4  2.4  1019.4  82.0  0.6  4.8  11.1  154.037500\n",
       "3   8.6  15.5  3.3  1018.7  72.0  0.8  8.1  20.6  223.208333\n",
       "4  12.4  20.9  4.4  1017.3  61.0  1.3  8.7  22.2  200.645833"
      ]
     },
     "execution_count": 2,
     "metadata": {},
     "output_type": "execute_result"
    }
   ],
   "source": [
    "df=pd.read_csv('Real_Combine.csv')\n",
    "df.drop(\"Unnamed: 0\",axis=1,inplace=True)\n",
    "df.head()"
   ]
  },
  {
   "cell_type": "markdown",
   "metadata": {},
   "source": [
    "**This dataset is regarding AQI where PMI 2.5 show the air quality index**"
   ]
  },
  {
   "cell_type": "markdown",
   "metadata": {},
   "source": [
    "## Checking null"
   ]
  },
  {
   "cell_type": "code",
   "execution_count": 3,
   "metadata": {},
   "outputs": [
    {
     "data": {
      "text/plain": [
       "T         0\n",
       "TM        0\n",
       "Tm        0\n",
       "SLP       0\n",
       "H         0\n",
       "VV        0\n",
       "V         0\n",
       "VM        0\n",
       "PM 2.5    1\n",
       "dtype: int64"
      ]
     },
     "execution_count": 3,
     "metadata": {},
     "output_type": "execute_result"
    }
   ],
   "source": [
    "df.isnull().sum()"
   ]
  },
  {
   "cell_type": "markdown",
   "metadata": {},
   "source": [
    "### Removing null"
   ]
  },
  {
   "cell_type": "code",
   "execution_count": 4,
   "metadata": {},
   "outputs": [],
   "source": [
    "df.dropna(axis=0,inplace=True)"
   ]
  },
  {
   "cell_type": "code",
   "execution_count": 5,
   "metadata": {},
   "outputs": [
    {
     "data": {
      "text/plain": [
       "T         0\n",
       "TM        0\n",
       "Tm        0\n",
       "SLP       0\n",
       "H         0\n",
       "VV        0\n",
       "V         0\n",
       "VM        0\n",
       "PM 2.5    0\n",
       "dtype: int64"
      ]
     },
     "execution_count": 5,
     "metadata": {},
     "output_type": "execute_result"
    }
   ],
   "source": [
    "df.isnull().sum()"
   ]
  },
  {
   "cell_type": "markdown",
   "metadata": {},
   "source": [
    "#### Splitting the data"
   ]
  },
  {
   "cell_type": "code",
   "execution_count": 6,
   "metadata": {},
   "outputs": [],
   "source": [
    "from sklearn.model_selection import train_test_split\n",
    "df_train,df_test=train_test_split(df,train_size=0.8,random_state=100)"
   ]
  },
  {
   "cell_type": "code",
   "execution_count": 7,
   "metadata": {},
   "outputs": [
    {
     "name": "stdout",
     "output_type": "stream",
     "text": [
      "(873, 9)\n",
      "(219, 9)\n"
     ]
    }
   ],
   "source": [
    "print(df_train.shape)\n",
    "print(df_test.shape)"
   ]
  },
  {
   "cell_type": "code",
   "execution_count": 8,
   "metadata": {},
   "outputs": [],
   "source": [
    "## scaling\n",
    "from sklearn.preprocessing import StandardScaler\n",
    "scaler=StandardScaler()"
   ]
  },
  {
   "cell_type": "code",
   "execution_count": 9,
   "metadata": {},
   "outputs": [
    {
     "data": {
      "text/plain": [
       "Index(['T', 'TM', 'Tm', 'SLP', 'H', 'VV', 'V', 'VM', 'PM 2.5'], dtype='object')"
      ]
     },
     "execution_count": 9,
     "metadata": {},
     "output_type": "execute_result"
    }
   ],
   "source": [
    "cols=df_train.columns\n",
    "cols"
   ]
  },
  {
   "cell_type": "code",
   "execution_count": 10,
   "metadata": {},
   "outputs": [
    {
     "data": {
      "text/html": [
       "<div>\n",
       "<style scoped>\n",
       "    .dataframe tbody tr th:only-of-type {\n",
       "        vertical-align: middle;\n",
       "    }\n",
       "\n",
       "    .dataframe tbody tr th {\n",
       "        vertical-align: top;\n",
       "    }\n",
       "\n",
       "    .dataframe thead tr th {\n",
       "        text-align: left;\n",
       "    }\n",
       "</style>\n",
       "<table border=\"1\" class=\"dataframe\">\n",
       "  <thead>\n",
       "    <tr>\n",
       "      <th></th>\n",
       "      <th>T</th>\n",
       "      <th>TM</th>\n",
       "      <th>Tm</th>\n",
       "      <th>SLP</th>\n",
       "      <th>H</th>\n",
       "      <th>VV</th>\n",
       "      <th>V</th>\n",
       "      <th>VM</th>\n",
       "      <th>PM 2.5</th>\n",
       "    </tr>\n",
       "  </thead>\n",
       "  <tbody>\n",
       "    <tr>\n",
       "      <th>0</th>\n",
       "      <td>-0.133179</td>\n",
       "      <td>-0.263944</td>\n",
       "      <td>-0.069670</td>\n",
       "      <td>0.310347</td>\n",
       "      <td>0.444521</td>\n",
       "      <td>0.110612</td>\n",
       "      <td>-0.794044</td>\n",
       "      <td>-0.630246</td>\n",
       "      <td>-0.718550</td>\n",
       "    </tr>\n",
       "    <tr>\n",
       "      <th>1</th>\n",
       "      <td>0.588877</td>\n",
       "      <td>0.367806</td>\n",
       "      <td>1.096328</td>\n",
       "      <td>-0.717711</td>\n",
       "      <td>1.267366</td>\n",
       "      <td>0.378845</td>\n",
       "      <td>-0.055615</td>\n",
       "      <td>0.124819</td>\n",
       "      <td>-0.966534</td>\n",
       "    </tr>\n",
       "    <tr>\n",
       "      <th>2</th>\n",
       "      <td>-1.257919</td>\n",
       "      <td>-0.895695</td>\n",
       "      <td>-1.289900</td>\n",
       "      <td>1.114341</td>\n",
       "      <td>0.444521</td>\n",
       "      <td>-1.230556</td>\n",
       "      <td>-1.532473</td>\n",
       "      <td>-1.119640</td>\n",
       "      <td>1.372811</td>\n",
       "    </tr>\n",
       "    <tr>\n",
       "      <th>3</th>\n",
       "      <td>1.047105</td>\n",
       "      <td>1.119890</td>\n",
       "      <td>0.472655</td>\n",
       "      <td>-0.559548</td>\n",
       "      <td>-2.277199</td>\n",
       "      <td>0.512962</td>\n",
       "      <td>0.814677</td>\n",
       "      <td>0.376508</td>\n",
       "      <td>0.029900</td>\n",
       "    </tr>\n",
       "    <tr>\n",
       "      <th>4</th>\n",
       "      <td>0.741620</td>\n",
       "      <td>0.593431</td>\n",
       "      <td>1.096328</td>\n",
       "      <td>-0.335484</td>\n",
       "      <td>-0.441621</td>\n",
       "      <td>-0.157622</td>\n",
       "      <td>1.315754</td>\n",
       "      <td>1.439192</td>\n",
       "      <td>-0.564060</td>\n",
       "    </tr>\n",
       "  </tbody>\n",
       "</table>\n",
       "</div>"
      ],
      "text/plain": [
       "          T        TM        Tm       SLP         H        VV         V  \\\n",
       "0 -0.133179 -0.263944 -0.069670  0.310347  0.444521  0.110612 -0.794044   \n",
       "1  0.588877  0.367806  1.096328 -0.717711  1.267366  0.378845 -0.055615   \n",
       "2 -1.257919 -0.895695 -1.289900  1.114341  0.444521 -1.230556 -1.532473   \n",
       "3  1.047105  1.119890  0.472655 -0.559548 -2.277199  0.512962  0.814677   \n",
       "4  0.741620  0.593431  1.096328 -0.335484 -0.441621 -0.157622  1.315754   \n",
       "\n",
       "         VM    PM 2.5  \n",
       "0 -0.630246 -0.718550  \n",
       "1  0.124819 -0.966534  \n",
       "2 -1.119640  1.372811  \n",
       "3  0.376508  0.029900  \n",
       "4  1.439192 -0.564060  "
      ]
     },
     "execution_count": 10,
     "metadata": {},
     "output_type": "execute_result"
    }
   ],
   "source": [
    "df_train=pd.DataFrame(scaler.fit_transform(df_train),columns=[cols])\n",
    "df_train.head()"
   ]
  },
  {
   "cell_type": "code",
   "execution_count": 11,
   "metadata": {},
   "outputs": [
    {
     "data": {
      "text/html": [
       "<div>\n",
       "<style scoped>\n",
       "    .dataframe tbody tr th:only-of-type {\n",
       "        vertical-align: middle;\n",
       "    }\n",
       "\n",
       "    .dataframe tbody tr th {\n",
       "        vertical-align: top;\n",
       "    }\n",
       "\n",
       "    .dataframe thead tr th {\n",
       "        text-align: left;\n",
       "    }\n",
       "</style>\n",
       "<table border=\"1\" class=\"dataframe\">\n",
       "  <thead>\n",
       "    <tr>\n",
       "      <th></th>\n",
       "      <th>T</th>\n",
       "      <th>TM</th>\n",
       "      <th>Tm</th>\n",
       "      <th>SLP</th>\n",
       "      <th>H</th>\n",
       "      <th>VV</th>\n",
       "      <th>V</th>\n",
       "      <th>VM</th>\n",
       "      <th>PM 2.5</th>\n",
       "    </tr>\n",
       "  </thead>\n",
       "  <tbody>\n",
       "    <tr>\n",
       "      <th>0</th>\n",
       "      <td>-1.966089</td>\n",
       "      <td>-2.535237</td>\n",
       "      <td>-1.628853</td>\n",
       "      <td>1.430666</td>\n",
       "      <td>1.457254</td>\n",
       "      <td>-1.632907</td>\n",
       "      <td>-0.161105</td>\n",
       "      <td>-0.630246</td>\n",
       "      <td>0.005902</td>\n",
       "    </tr>\n",
       "    <tr>\n",
       "      <th>1</th>\n",
       "      <td>-0.646949</td>\n",
       "      <td>-0.444444</td>\n",
       "      <td>-0.923831</td>\n",
       "      <td>0.745294</td>\n",
       "      <td>-1.454354</td>\n",
       "      <td>0.781196</td>\n",
       "      <td>0.339972</td>\n",
       "      <td>0.698110</td>\n",
       "      <td>0.924840</td>\n",
       "    </tr>\n",
       "    <tr>\n",
       "      <th>2</th>\n",
       "      <td>-0.508092</td>\n",
       "      <td>-0.594861</td>\n",
       "      <td>-0.435739</td>\n",
       "      <td>0.863917</td>\n",
       "      <td>0.254633</td>\n",
       "      <td>-1.364673</td>\n",
       "      <td>-0.345712</td>\n",
       "      <td>-0.630246</td>\n",
       "      <td>1.322814</td>\n",
       "    </tr>\n",
       "    <tr>\n",
       "      <th>3</th>\n",
       "      <td>0.686077</td>\n",
       "      <td>0.397889</td>\n",
       "      <td>0.879398</td>\n",
       "      <td>-1.337182</td>\n",
       "      <td>1.077479</td>\n",
       "      <td>0.512962</td>\n",
       "      <td>0.128993</td>\n",
       "      <td>0.376508</td>\n",
       "      <td>-0.648055</td>\n",
       "    </tr>\n",
       "    <tr>\n",
       "      <th>4</th>\n",
       "      <td>0.699963</td>\n",
       "      <td>0.458056</td>\n",
       "      <td>0.933631</td>\n",
       "      <td>-1.258101</td>\n",
       "      <td>0.634408</td>\n",
       "      <td>-0.157622</td>\n",
       "      <td>1.104774</td>\n",
       "      <td>0.376508</td>\n",
       "      <td>-0.917037</td>\n",
       "    </tr>\n",
       "  </tbody>\n",
       "</table>\n",
       "</div>"
      ],
      "text/plain": [
       "          T        TM        Tm       SLP         H        VV         V  \\\n",
       "0 -1.966089 -2.535237 -1.628853  1.430666  1.457254 -1.632907 -0.161105   \n",
       "1 -0.646949 -0.444444 -0.923831  0.745294 -1.454354  0.781196  0.339972   \n",
       "2 -0.508092 -0.594861 -0.435739  0.863917  0.254633 -1.364673 -0.345712   \n",
       "3  0.686077  0.397889  0.879398 -1.337182  1.077479  0.512962  0.128993   \n",
       "4  0.699963  0.458056  0.933631 -1.258101  0.634408 -0.157622  1.104774   \n",
       "\n",
       "         VM    PM 2.5  \n",
       "0 -0.630246  0.005902  \n",
       "1  0.698110  0.924840  \n",
       "2 -0.630246  1.322814  \n",
       "3  0.376508 -0.648055  \n",
       "4  0.376508 -0.917037  "
      ]
     },
     "execution_count": 11,
     "metadata": {},
     "output_type": "execute_result"
    }
   ],
   "source": [
    "df_test=pd.DataFrame(scaler.transform(df_test),columns=[cols])\n",
    "df_test.head()"
   ]
  },
  {
   "cell_type": "code",
   "execution_count": 12,
   "metadata": {},
   "outputs": [],
   "source": [
    "## Find X_train and Y_train\n",
    "X_train=df_train.iloc[:,0:-1]\n",
    "y_train=df_train.iloc[:,-1]"
   ]
  },
  {
   "cell_type": "code",
   "execution_count": 13,
   "metadata": {},
   "outputs": [
    {
     "data": {
      "text/plain": [
       "0   -0.718550\n",
       "1   -0.966534\n",
       "2    1.372811\n",
       "3    0.029900\n",
       "4   -0.564060\n",
       "Name: (PM 2.5,), dtype: float64"
      ]
     },
     "execution_count": 13,
     "metadata": {},
     "output_type": "execute_result"
    }
   ],
   "source": [
    "y_train.head()"
   ]
  },
  {
   "cell_type": "code",
   "execution_count": 14,
   "metadata": {},
   "outputs": [],
   "source": [
    "## Find X_test and y_test\n",
    "X_test=df_test.iloc[:,0:-1]\n",
    "y_test=df_test.iloc[:,-1]"
   ]
  },
  {
   "cell_type": "code",
   "execution_count": 15,
   "metadata": {},
   "outputs": [
    {
     "data": {
      "text/plain": [
       "0    0.005902\n",
       "1    0.924840\n",
       "2    1.322814\n",
       "3   -0.648055\n",
       "4   -0.917037\n",
       "Name: (PM 2.5,), dtype: float64"
      ]
     },
     "execution_count": 15,
     "metadata": {},
     "output_type": "execute_result"
    }
   ],
   "source": [
    "y_test.head()"
   ]
  },
  {
   "cell_type": "markdown",
   "metadata": {},
   "source": [
    "## Hyperparameters\n",
    "* How many number of hidden layers we should have?\n",
    "* How many number of neurons we should have in hidden layers?\n",
    "* Learning Rate"
   ]
  },
  {
   "cell_type": "code",
   "execution_count": 16,
   "metadata": {},
   "outputs": [],
   "source": [
    "def final_model(hp):\n",
    "    model = keras.Sequential()\n",
    "    for i in range(hp.Int('num_layers', 2, 20)):\n",
    "        model.add(layers.Dense(units=hp.Int('units_' + str(i),\n",
    "                                            min_value=32,\n",
    "                                            max_value=512,\n",
    "                                            step=32),\n",
    "                               activation='relu'))\n",
    "    model.add(layers.Dense(1, activation='linear'))\n",
    "    model.compile(\n",
    "        optimizer=keras.optimizers.Adam(\n",
    "            hp.Choice('learning_rate', [1e-2, 1e-3, 1e-4])),\n",
    "        loss='mean_absolute_error',\n",
    "        metrics=['mean_absolute_error'])\n",
    "    return model"
   ]
  },
  {
   "cell_type": "code",
   "execution_count": 17,
   "metadata": {},
   "outputs": [],
   "source": [
    "final_tuner = RandomSearch(\n",
    "    final_model,\n",
    "    objective='val_mean_absolute_error',\n",
    "    max_trials=3,\n",
    "    executions_per_trial=3,\n",
    "    directory='project',\n",
    "    project_name='Air Quality Index')"
   ]
  },
  {
   "cell_type": "code",
   "execution_count": 18,
   "metadata": {},
   "outputs": [
    {
     "name": "stdout",
     "output_type": "stream",
     "text": [
      "Search space summary\n",
      "Default search space size: 4\n",
      "num_layers (Int)\n",
      "{'default': None, 'conditions': [], 'min_value': 2, 'max_value': 20, 'step': 1, 'sampling': None}\n",
      "units_0 (Int)\n",
      "{'default': None, 'conditions': [], 'min_value': 32, 'max_value': 512, 'step': 32, 'sampling': None}\n",
      "units_1 (Int)\n",
      "{'default': None, 'conditions': [], 'min_value': 32, 'max_value': 512, 'step': 32, 'sampling': None}\n",
      "learning_rate (Choice)\n",
      "{'default': 0.01, 'conditions': [], 'values': [0.01, 0.001, 0.0001], 'ordered': True}\n"
     ]
    }
   ],
   "source": [
    "final_tuner.search_space_summary()"
   ]
  },
  {
   "cell_type": "code",
   "execution_count": 19,
   "metadata": {},
   "outputs": [
    {
     "name": "stdout",
     "output_type": "stream",
     "text": [
      "Trial 3 Complete [00h 00m 12s]\n",
      "val_mean_absolute_error: 0.47732870777448017\n",
      "\n",
      "Best val_mean_absolute_error So Far: 0.4519602755705516\n",
      "Total elapsed time: 00h 00m 48s\n",
      "INFO:tensorflow:Oracle triggered exit\n"
     ]
    }
   ],
   "source": [
    "final_tuner.search(X_train, y_train,\n",
    "             epochs=5,\n",
    "             validation_data=(X_test, y_test))"
   ]
  },
  {
   "cell_type": "code",
   "execution_count": 20,
   "metadata": {},
   "outputs": [
    {
     "name": "stdout",
     "output_type": "stream",
     "text": [
      "Results summary\n",
      "Results in project\\Air Quality Index\n",
      "Showing 10 best trials\n",
      "Objective(name='val_mean_absolute_error', direction='min')\n",
      "Trial summary\n",
      "Hyperparameters:\n",
      "num_layers: 9\n",
      "units_0: 416\n",
      "units_1: 288\n",
      "learning_rate: 0.001\n",
      "units_2: 448\n",
      "units_3: 224\n",
      "units_4: 448\n",
      "units_5: 448\n",
      "units_6: 448\n",
      "units_7: 64\n",
      "units_8: 128\n",
      "Score: 0.4519602755705516\n",
      "Trial summary\n",
      "Hyperparameters:\n",
      "num_layers: 5\n",
      "units_0: 352\n",
      "units_1: 128\n",
      "learning_rate: 0.01\n",
      "units_2: 64\n",
      "units_3: 480\n",
      "units_4: 480\n",
      "units_5: 416\n",
      "units_6: 416\n",
      "units_7: 416\n",
      "units_8: 352\n",
      "Score: 0.47732870777448017\n",
      "Trial summary\n",
      "Hyperparameters:\n",
      "num_layers: 9\n",
      "units_0: 320\n",
      "units_1: 96\n",
      "learning_rate: 0.01\n",
      "units_2: 32\n",
      "units_3: 32\n",
      "units_4: 32\n",
      "units_5: 32\n",
      "units_6: 32\n",
      "units_7: 32\n",
      "units_8: 32\n",
      "Score: 0.49050647020339966\n"
     ]
    }
   ],
   "source": [
    "final_tuner.results_summary()"
   ]
  },
  {
   "cell_type": "markdown",
   "metadata": {},
   "source": [
    "## Summary\n",
    "* Here best hyperparameter is having 9 layer since val_mean_absolute_error is 45% error, as we are taking the lowest error\n",
    "* units give the num of neurons like-\n",
    "* units_0: 416 neurons\n",
    "* units_1: 288 neurons\n",
    "* units_2: 448 neurons\n",
    "* units_3: 224 neurons\n",
    "* units_4: 448 neurons"
   ]
  },
  {
   "cell_type": "code",
   "execution_count": null,
   "metadata": {},
   "outputs": [],
   "source": []
  }
 ],
 "metadata": {
  "kernelspec": {
   "display_name": "Python 3",
   "language": "python",
   "name": "python3"
  },
  "language_info": {
   "codemirror_mode": {
    "name": "ipython",
    "version": 3
   },
   "file_extension": ".py",
   "mimetype": "text/x-python",
   "name": "python",
   "nbconvert_exporter": "python",
   "pygments_lexer": "ipython3",
   "version": "3.7.6"
  }
 },
 "nbformat": 4,
 "nbformat_minor": 4
}
