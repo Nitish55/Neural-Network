{
 "cells": [
  {
   "cell_type": "markdown",
   "metadata": {},
   "source": [
    "# Develop LSTM Models For Univariate Time Series Forecasting"
   ]
  },
  {
   "cell_type": "markdown",
   "metadata": {},
   "source": [
    "## Problem statement \n",
    "\n",
    "**Suppose the numbers here represent the sales of the company every month**\n",
    "   `M1`,`M2`,`M3`,`M4`,`M5`,`M6`,`M7` ,`M8`,`M9`\n",
    "   \n",
    "[110, 125 ,133, 146, 158, 172, 187, 196, 210]\n",
    "\n",
    "* Task is to predict the nest sales like for month 10 and so on, considering the sales of the past 3 months\n",
    "\n",
    "**for example**\n",
    "\n",
    "To find the sale on M10, we consider sales of month (M7,M8,M9), likewise for M11,M12 and so on\n"
   ]
  },
  {
   "cell_type": "code",
   "execution_count": 1,
   "metadata": {},
   "outputs": [],
   "source": [
    "# univariate lstm example\n",
    "import numpy as np\n",
    "from tensorflow.keras.models import Sequential\n",
    "from tensorflow.keras.layers import LSTM\n",
    "from tensorflow.keras.layers import Dense\n",
    "from tensorflow.keras.layers import Flatten"
   ]
  },
  {
   "cell_type": "code",
   "execution_count": 2,
   "metadata": {},
   "outputs": [],
   "source": [
    "# preparing independent and dependent features\n",
    "def  prepare_data(timeseries_data, n_steps):\n",
    "    X,y=[],[]\n",
    "    for i in range(len(timeseries_data)):\n",
    "        # find the end of this pattern\n",
    "        end_lop=i + n_steps\n",
    "        # We did -1 beacuse at 6 we get end_lop=9 i.x X=[187, 196, 210] we dont get Y here\n",
    "        # That why at i=5 X=[172 187 196] we get y=210 so we want the loop to end at len(data)-1\n",
    "        if end_lop > len(timeseries_data)-1:\n",
    "            break\n",
    "        newX=timeseries_data[i:end_lop]\n",
    "        newY=timeseries_data[end_lop]\n",
    "        X.append(newX)\n",
    "        y.append(newY)\n",
    "    return np.array(X), np.array(y)\n",
    "        "
   ]
  },
  {
   "cell_type": "code",
   "execution_count": 3,
   "metadata": {},
   "outputs": [
    {
     "name": "stdout",
     "output_type": "stream",
     "text": [
      "[[110 125 133]\n",
      " [125 133 146]\n",
      " [133 146 158]\n",
      " [146 158 172]\n",
      " [158 172 187]\n",
      " [172 187 196]]\n",
      "----------------------------------------------------------------------------------------------------\n",
      "[146 158 172 187 196 210]\n"
     ]
    }
   ],
   "source": [
    "# define input sequence\n",
    "timeseries_data = [110, 125, 133, 146, 158, 172, 187, 196, 210]\n",
    "# choose a number of time steps\n",
    "n_steps = 3\n",
    "# split into samples\n",
    "X, y = prepare_data(timeseries_data, n_steps) \n",
    "print(X)\n",
    "print(\"-\"*100)\n",
    "print(y)"
   ]
  },
  {
   "cell_type": "markdown",
   "metadata": {},
   "source": [
    "### Shape of the data"
   ]
  },
  {
   "cell_type": "code",
   "execution_count": 4,
   "metadata": {},
   "outputs": [
    {
     "name": "stdout",
     "output_type": "stream",
     "text": [
      "(6, 3)\n",
      "----------------------------------------------------------------------------------------------------\n",
      "(6,)\n"
     ]
    }
   ],
   "source": [
    "print(X.shape)\n",
    "print(\"-\"*100)\n",
    "print(y.shape)"
   ]
  },
  {
   "cell_type": "code",
   "execution_count": 5,
   "metadata": {},
   "outputs": [
    {
     "data": {
      "text/plain": [
       "(6, 3, 1)"
      ]
     },
     "execution_count": 5,
     "metadata": {},
     "output_type": "execute_result"
    }
   ],
   "source": [
    "### In LSTM we need shape of input into 3 dimension \n",
    "# reshape from [samples, timesteps] into [samples, timesteps, features]\n",
    "n_features = 1\n",
    "X=X.reshape(X.shape[0],X.shape[1],n_features)\n",
    "X.shape"
   ]
  },
  {
   "cell_type": "markdown",
   "metadata": {},
   "source": [
    "# Building LSTM Model"
   ]
  },
  {
   "cell_type": "code",
   "execution_count": 6,
   "metadata": {},
   "outputs": [],
   "source": [
    "# define model\n",
    "model = Sequential()\n",
    "# here n_steps=3(Based no num of time steps) ,n_features=1\n",
    "model.add(LSTM(50,activation=\"relu\",return_sequences=True,input_shape=(n_steps,n_features)))\n",
    "model.add(LSTM(50, activation='relu'))\n",
    "model.add(Dense(1))\n",
    "model.compile(optimizer='adam', loss='mse')"
   ]
  },
  {
   "cell_type": "code",
   "execution_count": 7,
   "metadata": {},
   "outputs": [
    {
     "name": "stdout",
     "output_type": "stream",
     "text": [
      "Model: \"sequential\"\n",
      "_________________________________________________________________\n",
      " Layer (type)                Output Shape              Param #   \n",
      "=================================================================\n",
      " lstm (LSTM)                 (None, 3, 50)             10400     \n",
      "                                                                 \n",
      " lstm_1 (LSTM)               (None, 50)                20200     \n",
      "                                                                 \n",
      " dense (Dense)               (None, 1)                 51        \n",
      "                                                                 \n",
      "=================================================================\n",
      "Total params: 30,651\n",
      "Trainable params: 30,651\n",
      "Non-trainable params: 0\n",
      "_________________________________________________________________\n"
     ]
    }
   ],
   "source": [
    "### Model summmary\n",
    "model.summary()"
   ]
  },
  {
   "cell_type": "code",
   "execution_count": 8,
   "metadata": {},
   "outputs": [
    {
     "name": "stdout",
     "output_type": "stream",
     "text": [
      "Epoch 1/150\n",
      "1/1 [==============================] - 5s 5s/step - loss: 32732.2871\n",
      "Epoch 2/150\n",
      "1/1 [==============================] - 0s 15ms/step - loss: 31353.5879\n",
      "Epoch 3/150\n",
      "1/1 [==============================] - 0s 20ms/step - loss: 30493.8027\n",
      "Epoch 4/150\n",
      "1/1 [==============================] - 0s 10ms/step - loss: 29798.0176\n",
      "Epoch 5/150\n",
      "1/1 [==============================] - 0s 10ms/step - loss: 29142.8809\n",
      "Epoch 6/150\n",
      "1/1 [==============================] - 0s 23ms/step - loss: 28527.2656\n",
      "Epoch 7/150\n",
      "1/1 [==============================] - 0s 10ms/step - loss: 27888.4551\n",
      "Epoch 8/150\n",
      "1/1 [==============================] - 0s 15ms/step - loss: 27197.9160\n",
      "Epoch 9/150\n",
      "1/1 [==============================] - 0s 15ms/step - loss: 26452.0449\n",
      "Epoch 10/150\n",
      "1/1 [==============================] - 0s 12ms/step - loss: 25768.7637\n",
      "Epoch 11/150\n",
      "1/1 [==============================] - 0s 15ms/step - loss: 25006.9629\n",
      "Epoch 12/150\n",
      "1/1 [==============================] - 0s 15ms/step - loss: 24139.4121\n",
      "Epoch 13/150\n",
      "1/1 [==============================] - 0s 10ms/step - loss: 23284.4434\n",
      "Epoch 14/150\n",
      "1/1 [==============================] - 0s 23ms/step - loss: 22529.8066\n",
      "Epoch 15/150\n",
      "1/1 [==============================] - 0s 9ms/step - loss: 21847.5234\n",
      "Epoch 16/150\n",
      "1/1 [==============================] - 0s 15ms/step - loss: 21202.4316\n",
      "Epoch 17/150\n",
      "1/1 [==============================] - 0s 20ms/step - loss: 20528.0625\n",
      "Epoch 18/150\n",
      "1/1 [==============================] - 0s 10ms/step - loss: 19748.3047\n",
      "Epoch 19/150\n",
      "1/1 [==============================] - 0s 23ms/step - loss: 18924.3516\n",
      "Epoch 20/150\n",
      "1/1 [==============================] - 0s 10ms/step - loss: 18194.1348\n",
      "Epoch 21/150\n",
      "1/1 [==============================] - 0s 25ms/step - loss: 17467.9004\n",
      "Epoch 22/150\n",
      "1/1 [==============================] - 0s 15ms/step - loss: 16748.3613\n",
      "Epoch 23/150\n",
      "1/1 [==============================] - 0s 10ms/step - loss: 16050.8369\n",
      "Epoch 24/150\n",
      "1/1 [==============================] - 0s 15ms/step - loss: 15311.8193\n",
      "Epoch 25/150\n",
      "1/1 [==============================] - 0s 15ms/step - loss: 14543.2021\n",
      "Epoch 26/150\n",
      "1/1 [==============================] - 0s 20ms/step - loss: 13759.3438\n",
      "Epoch 27/150\n",
      "1/1 [==============================] - 0s 10ms/step - loss: 12968.4023\n",
      "Epoch 28/150\n",
      "1/1 [==============================] - 0s 10ms/step - loss: 12170.9336\n",
      "Epoch 29/150\n",
      "1/1 [==============================] - 0s 10ms/step - loss: 11362.4736\n",
      "Epoch 30/150\n",
      "1/1 [==============================] - 0s 10ms/step - loss: 10532.1729\n",
      "Epoch 31/150\n",
      "1/1 [==============================] - 0s 10ms/step - loss: 9651.8291\n",
      "Epoch 32/150\n",
      "1/1 [==============================] - 0s 20ms/step - loss: 8671.1357\n",
      "Epoch 33/150\n",
      "1/1 [==============================] - 0s 20ms/step - loss: 7517.7812\n",
      "Epoch 34/150\n",
      "1/1 [==============================] - 0s 17ms/step - loss: 6166.5991\n",
      "Epoch 35/150\n",
      "1/1 [==============================] - 0s 10ms/step - loss: 4975.8306\n",
      "Epoch 36/150\n",
      "1/1 [==============================] - 0s 10ms/step - loss: 4093.2693\n",
      "Epoch 37/150\n",
      "1/1 [==============================] - 0s 10ms/step - loss: 3107.8503\n",
      "Epoch 38/150\n",
      "1/1 [==============================] - 0s 10ms/step - loss: 2130.1094\n",
      "Epoch 39/150\n",
      "1/1 [==============================] - 0s 25ms/step - loss: 1492.2783\n",
      "Epoch 40/150\n",
      "1/1 [==============================] - 0s 15ms/step - loss: 928.0098\n",
      "Epoch 41/150\n",
      "1/1 [==============================] - 0s 15ms/step - loss: 464.9021\n",
      "Epoch 42/150\n",
      "1/1 [==============================] - 0s 15ms/step - loss: 155.5699\n",
      "Epoch 43/150\n",
      "1/1 [==============================] - 0s 10ms/step - loss: 21.5135\n",
      "Epoch 44/150\n",
      "1/1 [==============================] - 0s 16ms/step - loss: 73.5813\n",
      "Epoch 45/150\n",
      "1/1 [==============================] - 0s 5ms/step - loss: 235.0934\n",
      "Epoch 46/150\n",
      "1/1 [==============================] - 0s 25ms/step - loss: 401.2415\n",
      "Epoch 47/150\n",
      "1/1 [==============================] - 0s 10ms/step - loss: 531.0267\n",
      "Epoch 48/150\n",
      "1/1 [==============================] - 0s 14ms/step - loss: 612.6824\n",
      "Epoch 49/150\n",
      "1/1 [==============================] - 0s 21ms/step - loss: 641.3362\n",
      "Epoch 50/150\n",
      "1/1 [==============================] - 0s 10ms/step - loss: 618.2822\n",
      "Epoch 51/150\n",
      "1/1 [==============================] - 0s 20ms/step - loss: 552.7083\n",
      "Epoch 52/150\n",
      "1/1 [==============================] - 0s 10ms/step - loss: 459.7008\n",
      "Epoch 53/150\n",
      "1/1 [==============================] - 0s 10ms/step - loss: 355.9867\n",
      "Epoch 54/150\n",
      "1/1 [==============================] - 0s 10ms/step - loss: 256.0710\n",
      "Epoch 55/150\n",
      "1/1 [==============================] - 0s 20ms/step - loss: 170.0069\n",
      "Epoch 56/150\n",
      "1/1 [==============================] - 0s 10ms/step - loss: 103.0013\n",
      "Epoch 57/150\n",
      "1/1 [==============================] - 0s 10ms/step - loss: 56.7829\n",
      "Epoch 58/150\n",
      "1/1 [==============================] - 0s 15ms/step - loss: 29.9710\n",
      "Epoch 59/150\n",
      "1/1 [==============================] - 0s 14ms/step - loss: 17.6785\n",
      "Epoch 60/150\n",
      "1/1 [==============================] - 0s 15ms/step - loss: 16.2468\n",
      "Epoch 61/150\n",
      "1/1 [==============================] - 0s 10ms/step - loss: 22.4441\n",
      "Epoch 62/150\n",
      "1/1 [==============================] - 0s 20ms/step - loss: 33.1142\n",
      "Epoch 63/150\n",
      "1/1 [==============================] - 0s 20ms/step - loss: 45.3870\n",
      "Epoch 64/150\n",
      "1/1 [==============================] - 0s 19ms/step - loss: 56.9974\n",
      "Epoch 65/150\n",
      "1/1 [==============================] - 0s 10ms/step - loss: 66.4344\n",
      "Epoch 66/150\n",
      "1/1 [==============================] - 0s 20ms/step - loss: 72.8913\n",
      "Epoch 67/150\n",
      "1/1 [==============================] - 0s 15ms/step - loss: 76.0934\n",
      "Epoch 68/150\n",
      "1/1 [==============================] - 0s 10ms/step - loss: 76.1265\n",
      "Epoch 69/150\n",
      "1/1 [==============================] - 0s 15ms/step - loss: 73.3256\n",
      "Epoch 70/150\n",
      "1/1 [==============================] - 0s 10ms/step - loss: 68.2023\n",
      "Epoch 71/150\n",
      "1/1 [==============================] - 0s 10ms/step - loss: 61.3852\n",
      "Epoch 72/150\n",
      "1/1 [==============================] - 0s 10ms/step - loss: 53.5621\n",
      "Epoch 73/150\n",
      "1/1 [==============================] - 0s 15ms/step - loss: 45.4170\n",
      "Epoch 74/150\n",
      "1/1 [==============================] - 0s 15ms/step - loss: 37.5768\n",
      "Epoch 75/150\n",
      "1/1 [==============================] - 0s 15ms/step - loss: 30.5616\n",
      "Epoch 76/150\n",
      "1/1 [==============================] - 0s 15ms/step - loss: 24.7550\n",
      "Epoch 77/150\n",
      "1/1 [==============================] - 0s 15ms/step - loss: 20.3840\n",
      "Epoch 78/150\n",
      "1/1 [==============================] - 0s 15ms/step - loss: 17.5175\n",
      "Epoch 79/150\n",
      "1/1 [==============================] - 0s 15ms/step - loss: 16.0791\n",
      "Epoch 80/150\n",
      "1/1 [==============================] - 0s 17ms/step - loss: 15.8714\n",
      "Epoch 81/150\n",
      "1/1 [==============================] - 0s 15ms/step - loss: 16.6103\n",
      "Epoch 82/150\n",
      "1/1 [==============================] - 0s 10ms/step - loss: 17.9652\n",
      "Epoch 83/150\n",
      "1/1 [==============================] - 0s 15ms/step - loss: 19.5987\n",
      "Epoch 84/150\n",
      "1/1 [==============================] - 0s 12ms/step - loss: 21.2048\n",
      "Epoch 85/150\n",
      "1/1 [==============================] - 0s 12ms/step - loss: 22.5381\n",
      "Epoch 86/150\n",
      "1/1 [==============================] - 0s 26ms/step - loss: 23.4319\n",
      "Epoch 87/150\n",
      "1/1 [==============================] - 0s 19ms/step - loss: 23.8047\n",
      "Epoch 88/150\n",
      "1/1 [==============================] - 0s 19ms/step - loss: 23.6548\n",
      "Epoch 89/150\n",
      "1/1 [==============================] - 0s 15ms/step - loss: 23.0460\n",
      "Epoch 90/150\n",
      "1/1 [==============================] - 0s 15ms/step - loss: 22.0889\n",
      "Epoch 91/150\n",
      "1/1 [==============================] - 0s 18ms/step - loss: 20.9181\n",
      "Epoch 92/150\n",
      "1/1 [==============================] - 0s 15ms/step - loss: 19.6724\n",
      "Epoch 93/150\n",
      "1/1 [==============================] - 0s 10ms/step - loss: 18.4772\n",
      "Epoch 94/150\n",
      "1/1 [==============================] - 0s 15ms/step - loss: 17.4321\n",
      "Epoch 95/150\n",
      "1/1 [==============================] - 0s 18ms/step - loss: 16.6033\n",
      "Epoch 96/150\n",
      "1/1 [==============================] - 0s 10ms/step - loss: 16.0222\n",
      "Epoch 97/150\n",
      "1/1 [==============================] - 0s 15ms/step - loss: 15.6878\n",
      "Epoch 98/150\n",
      "1/1 [==============================] - 0s 14ms/step - loss: 15.5728\n",
      "Epoch 99/150\n",
      "1/1 [==============================] - 0s 25ms/step - loss: 15.6314\n",
      "Epoch 100/150\n",
      "1/1 [==============================] - 0s 14ms/step - loss: 15.8076\n",
      "Epoch 101/150\n",
      "1/1 [==============================] - 0s 13ms/step - loss: 16.0435\n",
      "Epoch 102/150\n",
      "1/1 [==============================] - 0s 15ms/step - loss: 16.2863\n",
      "Epoch 103/150\n",
      "1/1 [==============================] - 0s 12ms/step - loss: 16.4931\n",
      "Epoch 104/150\n",
      "1/1 [==============================] - 0s 17ms/step - loss: 16.6339\n",
      "Epoch 105/150\n",
      "1/1 [==============================] - 0s 13ms/step - loss: 16.6929\n",
      "Epoch 106/150\n",
      "1/1 [==============================] - 0s 12ms/step - loss: 16.6674\n",
      "Epoch 107/150\n",
      "1/1 [==============================] - 0s 12ms/step - loss: 16.5661\n",
      "Epoch 108/150\n",
      "1/1 [==============================] - 0s 10ms/step - loss: 16.4057\n",
      "Epoch 109/150\n",
      "1/1 [==============================] - 0s 14ms/step - loss: 16.2076\n",
      "Epoch 110/150\n",
      "1/1 [==============================] - 0s 18ms/step - loss: 15.9945\n",
      "Epoch 111/150\n",
      "1/1 [==============================] - 0s 18ms/step - loss: 15.7878\n",
      "Epoch 112/150\n",
      "1/1 [==============================] - 0s 17ms/step - loss: 15.6044\n",
      "Epoch 113/150\n",
      "1/1 [==============================] - 0s 15ms/step - loss: 15.4562\n",
      "Epoch 114/150\n",
      "1/1 [==============================] - 0s 15ms/step - loss: 15.3488\n",
      "Epoch 115/150\n",
      "1/1 [==============================] - 0s 15ms/step - loss: 15.2823\n",
      "Epoch 116/150\n",
      "1/1 [==============================] - 0s 14ms/step - loss: 15.2519\n",
      "Epoch 117/150\n",
      "1/1 [==============================] - 0s 20ms/step - loss: 15.2494\n",
      "Epoch 118/150\n",
      "1/1 [==============================] - 0s 14ms/step - loss: 15.2643\n",
      "Epoch 119/150\n",
      "1/1 [==============================] - 0s 14ms/step - loss: 15.2861\n",
      "Epoch 120/150\n",
      "1/1 [==============================] - 0s 22ms/step - loss: 15.3050\n",
      "Epoch 121/150\n",
      "1/1 [==============================] - 0s 15ms/step - loss: 15.3132\n",
      "Epoch 122/150\n",
      "1/1 [==============================] - 0s 13ms/step - loss: 15.3050\n",
      "Epoch 123/150\n",
      "1/1 [==============================] - 0s 15ms/step - loss: 15.2776\n",
      "Epoch 124/150\n",
      "1/1 [==============================] - 0s 15ms/step - loss: 15.2302\n",
      "Epoch 125/150\n",
      "1/1 [==============================] - 0s 20ms/step - loss: 15.1634\n",
      "Epoch 126/150\n",
      "1/1 [==============================] - 0s 16ms/step - loss: 15.0786\n",
      "Epoch 127/150\n",
      "1/1 [==============================] - 0s 26ms/step - loss: 14.9766\n",
      "Epoch 128/150\n",
      "1/1 [==============================] - 0s 20ms/step - loss: 14.8572\n",
      "Epoch 129/150\n",
      "1/1 [==============================] - 0s 13ms/step - loss: 14.7173\n",
      "Epoch 130/150\n",
      "1/1 [==============================] - 0s 13ms/step - loss: 14.5508\n",
      "Epoch 131/150\n",
      "1/1 [==============================] - 0s 13ms/step - loss: 14.3458\n",
      "Epoch 132/150\n",
      "1/1 [==============================] - 0s 20ms/step - loss: 14.0842\n",
      "Epoch 133/150\n",
      "1/1 [==============================] - 0s 20ms/step - loss: 13.7417\n",
      "Epoch 134/150\n",
      "1/1 [==============================] - 0s 15ms/step - loss: 13.3007\n",
      "Epoch 135/150\n",
      "1/1 [==============================] - 0s 15ms/step - loss: 12.7971\n",
      "Epoch 136/150\n",
      "1/1 [==============================] - 0s 15ms/step - loss: 12.5961\n",
      "Epoch 137/150\n",
      "1/1 [==============================] - 0s 15ms/step - loss: 12.4446\n",
      "Epoch 138/150\n",
      "1/1 [==============================] - 0s 15ms/step - loss: 11.9530\n",
      "Epoch 139/150\n",
      "1/1 [==============================] - 0s 14ms/step - loss: 11.5629\n",
      "Epoch 140/150\n",
      "1/1 [==============================] - 0s 14ms/step - loss: 11.3157\n",
      "Epoch 141/150\n",
      "1/1 [==============================] - 0s 15ms/step - loss: 11.0798\n",
      "Epoch 142/150\n",
      "1/1 [==============================] - 0s 14ms/step - loss: 10.7721\n",
      "Epoch 143/150\n",
      "1/1 [==============================] - 0s 13ms/step - loss: 10.4033\n",
      "Epoch 144/150\n",
      "1/1 [==============================] - 0s 10ms/step - loss: 10.0789\n",
      "Epoch 145/150\n",
      "1/1 [==============================] - 0s 12ms/step - loss: 9.8577\n",
      "Epoch 146/150\n",
      "1/1 [==============================] - 0s 15ms/step - loss: 9.5168\n",
      "Epoch 147/150\n",
      "1/1 [==============================] - 0s 14ms/step - loss: 9.1111\n",
      "Epoch 148/150\n",
      "1/1 [==============================] - 0s 10ms/step - loss: 8.8149\n",
      "Epoch 149/150\n",
      "1/1 [==============================] - 0s 10ms/step - loss: 8.4992\n",
      "Epoch 150/150\n",
      "1/1 [==============================] - 0s 16ms/step - loss: 8.1255\n"
     ]
    },
    {
     "data": {
      "text/plain": [
       "<keras.callbacks.History at 0x2b959f59d08>"
      ]
     },
     "execution_count": 8,
     "metadata": {},
     "output_type": "execute_result"
    }
   ],
   "source": [
    "model.fit(X, y, epochs=150, verbose=1)"
   ]
  },
  {
   "cell_type": "markdown",
   "metadata": {},
   "source": [
    "# Predicting For the next 10 data"
   ]
  },
  {
   "cell_type": "markdown",
   "metadata": {},
   "source": [
    "**Testing with the data suppose [110,155,200]**"
   ]
  },
  {
   "cell_type": "code",
   "execution_count": 9,
   "metadata": {},
   "outputs": [],
   "source": [
    "x_input=np.array([85,205,295])\n",
    "input_lst=list(x_input)\n",
    "input_lst\n",
    "n_features=1"
   ]
  },
  {
   "cell_type": "code",
   "execution_count": 10,
   "metadata": {},
   "outputs": [
    {
     "name": "stdout",
     "output_type": "stream",
     "text": [
      "(3,)\n",
      "----------------------------------------------------------------------------------------------------\n",
      "3\n"
     ]
    }
   ],
   "source": [
    "print(x_input.shape)\n",
    "print(\"-\"*100)\n",
    "print(n_steps)"
   ]
  },
  {
   "cell_type": "code",
   "execution_count": 11,
   "metadata": {},
   "outputs": [],
   "source": [
    "# x_input=np.array([87,196,210])\n",
    "# input_lst=list(x_input)\n",
    "# input_lst\n",
    "# n_features=1\n"
   ]
  },
  {
   "cell_type": "code",
   "execution_count": 12,
   "metadata": {},
   "outputs": [
    {
     "name": "stdout",
     "output_type": "stream",
     "text": [
      "0 day input [[[ 85]\n",
      "  [205]\n",
      "  [295]]]\n",
      "0 day Output [178.02893]\n",
      "1 day input [205.         295.         178.02893066]\n",
      "1 day output [[274.00946]]\n",
      "2 day input [295.         178.02893066 274.00946045]\n",
      "2 day output [[303.68927]]\n",
      "3 day input [178.02893 274.00946 303.68927]\n",
      "3 day output [[265.20743]]\n",
      "4 day input [274.00946 303.68927 265.20743]\n",
      "4 day output [[332.35342]]\n",
      "5 day input [303.68927 265.20743 332.35342]\n",
      "5 day output [[348.79776]]\n",
      "6 day input [265.20743 332.35342 348.79776]\n",
      "6 day output [[349.99326]]\n",
      "7 day input [332.35342 348.79776 349.99326]\n",
      "7 day output [[399.55832]]\n",
      "8 day input [348.79776 349.99326 399.55832]\n",
      "8 day output [[418.93817]]\n",
      "9 day input [349.99326 399.55832 418.93817]\n",
      "9 day output [[440.08563]]\n"
     ]
    }
   ],
   "source": [
    "i=0\n",
    "out_lst=[]\n",
    "while i<10:\n",
    "    if len(input_lst) >3:\n",
    "        x_input=np.array(input_lst[1:])\n",
    "        print(\"{} day input {}\".format(i,x_input))\n",
    "        #print(x_input)\n",
    "        x_input=x_input.reshape(1,n_steps,n_features)\n",
    "        yhat = model.predict(x_input, verbose=0)\n",
    "        print(\"{} day output {}\".format(i,yhat))\n",
    "        input_lst.append(yhat[0][0])\n",
    "        input_lst=input_lst[1:] # reset shape of input again to 3\n",
    "        out_lst.append(yhat[0][0])\n",
    "        i=i+1\n",
    "    else:\n",
    "        x_input=x_input.reshape(1,n_steps,n_features)\n",
    "        print(\"{} day input {}\".format(i,x_input))\n",
    "        yhat=model.predict(x_input,verbose=0)\n",
    "        input_lst.append(yhat[0][0])\n",
    "        out_lst.append(yhat[0][0])\n",
    "        print(\"{} day Output {}\".format(i,out_lst))\n",
    "        i=i+1"
   ]
  },
  {
   "cell_type": "markdown",
   "metadata": {},
   "source": [
    "**y_hat[0][0] output is**\n",
    "* 161.63893\n",
    "\n",
    "1. that is why we do y_hat[0][0] in order to get 161.63 esel we get array([161.63])"
   ]
  },
  {
   "cell_type": "markdown",
   "metadata": {},
   "source": [
    "#### The input Data\n"
   ]
  },
  {
   "cell_type": "code",
   "execution_count": 13,
   "metadata": {},
   "outputs": [
    {
     "data": {
      "text/plain": [
       "[110, 125, 133, 146, 158, 172, 187, 196, 210]"
      ]
     },
     "execution_count": 13,
     "metadata": {},
     "output_type": "execute_result"
    }
   ],
   "source": [
    "timeseries_data"
   ]
  },
  {
   "cell_type": "markdown",
   "metadata": {},
   "source": [
    "### the output data"
   ]
  },
  {
   "cell_type": "code",
   "execution_count": 14,
   "metadata": {},
   "outputs": [
    {
     "data": {
      "text/plain": [
       "[178.02893,\n",
       " 274.00946,\n",
       " 303.68927,\n",
       " 265.20743,\n",
       " 332.35342,\n",
       " 348.79776,\n",
       " 349.99326,\n",
       " 399.55832,\n",
       " 418.93817,\n",
       " 440.08563]"
      ]
     },
     "execution_count": 14,
     "metadata": {},
     "output_type": "execute_result"
    }
   ],
   "source": [
    "out_lst"
   ]
  },
  {
   "cell_type": "markdown",
   "metadata": {},
   "source": [
    "# Visualizaing The Output"
   ]
  },
  {
   "cell_type": "code",
   "execution_count": 15,
   "metadata": {},
   "outputs": [],
   "source": [
    "import matplotlib.pyplot as plt"
   ]
  },
  {
   "cell_type": "code",
   "execution_count": 16,
   "metadata": {},
   "outputs": [],
   "source": [
    "day_new=np.arange(1,10)\n",
    "day_pred=np.arange(10,20)"
   ]
  },
  {
   "cell_type": "code",
   "execution_count": 17,
   "metadata": {},
   "outputs": [
    {
     "data": {
      "text/plain": [
       "[<matplotlib.lines.Line2D at 0x2b96012b548>]"
      ]
     },
     "execution_count": 17,
     "metadata": {},
     "output_type": "execute_result"
    },
    {
     "data": {
      "image/png": "[encoded data removed]",
      "text/plain": [
       "<Figure size 432x288 with 1 Axes>"
      ]
     },
     "metadata": {
      "needs_background": "light"
     },
     "output_type": "display_data"
    }
   ],
   "source": [
    "plt.plot(timeseries_data,day_new)"
   ]
  },
  {
   "cell_type": "code",
   "execution_count": 18,
   "metadata": {},
   "outputs": [
    {
     "data": {
      "text/plain": [
       "[<matplotlib.lines.Line2D at 0x2b9601e8248>]"
      ]
     },
     "execution_count": 18,
     "metadata": {},
     "output_type": "execute_result"
    },
    {
     "data": {
      "image/png": "[encoded data removed]",
      "text/plain": [
       "<Figure size 432x288 with 1 Axes>"
      ]
     },
     "metadata": {
      "needs_background": "light"
     },
     "output_type": "display_data"
    }
   ],
   "source": [
    "plt.plot(timeseries_data,day_new)\n",
    "plt.plot(out_lst,day_pred)"
   ]
  },
  {
   "cell_type": "code",
   "execution_count": null,
   "metadata": {},
   "outputs": [],
   "source": []
  }
 ],
 "metadata": {
  "kernelspec": {
   "display_name": "Python 3",
   "language": "python",
   "name": "python3"
  },
  "language_info": {
   "codemirror_mode": {
    "name": "ipython",
    "version": 3
   },
   "file_extension": ".py",
   "mimetype": "text/x-python",
   "name": "python",
   "nbconvert_exporter": "python",
   "pygments_lexer": "ipython3",
   "version": "3.7.6"
  }
 },
 "nbformat": 4,
 "nbformat_minor": 4
}
