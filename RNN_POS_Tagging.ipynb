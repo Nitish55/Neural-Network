{
  "cells": [
    {
      "cell_type": "markdown",
      "metadata": {
        "id": "m1bIjxg25BTf"
      },
      "source": [
        "# POS Tagging - An Overview\n",
        "\n",
        "The process of classifying words into their __parts of speech__ and labeling them accordingly is known as **part-of-speech tagging**, or simply **POS-tagging**.\n",
        "\n",
        "The NLTK library has a number of corpora which contains word and its POS tag. The following table provide information about each tag:\n",
        "\n",
        "![pos_tagging.png](data:image/png;base64,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)"
      ]
    },
    {
      "cell_type": "markdown",
      "metadata": {
        "id": "cqWCo4AqO5ui"
      },
      "source": [
        "# Notebook layout\n",
        "1. Preprocess data\n",
        "2. Vanilla RNN\n",
        "3. Word Embeddings\n",
        "4. LSTM\n",
        "5. GRU\n",
        "6. Bidirectional LSTM\n",
        "7. Model Evaluation"
      ]
    },
    {
      "cell_type": "code",
      "execution_count": 6,
      "metadata": {
        "id": "7Yeo2OMePV2d"
      },
      "outputs": [],
      "source": [
        "# import necessary libraries\n",
        "import warnings\n",
        "warnings.filterwarnings(\"ignore\")\n",
        "\n",
        "import numpy as np\n",
        "\n",
        "from matplotlib import pyplot as plt\n",
        "\n",
        "from nltk.corpus import brown\n",
        "from nltk.corpus import treebank\n",
        "from nltk.corpus import conll2000\n",
        "\n",
        "import seaborn as sns\n",
        "\n",
        "from gensim.models import KeyedVectors\n",
        "\n",
        "from keras.preprocessing.sequence import pad_sequences\n",
        "from keras.utils.np_utils import to_categorical\n",
        "from keras.models import Sequential\n",
        "from keras.layers import Embedding\n",
        "from keras.layers import Dense, Input\n",
        "from keras.layers import TimeDistributed\n",
        "from keras.layers import LSTM, GRU, Bidirectional, SimpleRNN, RNN\n",
        "from keras.models import Model\n",
        "from keras.preprocessing.text import Tokenizer\n",
        "\n",
        "from sklearn.model_selection import train_test_split\n",
        "from sklearn.utils import shuffle\n"
      ]
    },
    {
      "cell_type": "markdown",
      "metadata": {
        "id": "anjonuxIP0Dk"
      },
      "source": [
        "### why we need POS tagging , for Example\n",
        "\n",
        "* Sentence 1- This is a green leaf **Here greens means Adjective**\n",
        "* Sentence 2- I like greens in my food  **Here greens means Noun**\n",
        "* Sentence 3- The greens that you see there is golf course  **Here greens means Noun**\n",
        "\n"
      ]
    },
    {
      "cell_type": "markdown",
      "metadata": {
        "id": "Jn25TXLHRrUi"
      },
      "source": [
        "# 1. Preprocess data\n",
        "#### Load the Data"
      ]
    },
    {
      "cell_type": "code",
      "execution_count": 7,
      "metadata": {
        "colab": {
          "base_uri": "https://localhost:8080/"
        },
        "id": "JRHE8c_4YJyT",
        "outputId": "674d17e1-a94c-4e20-9309-1fe642b90a5c"
      },
      "outputs": [
        {
          "output_type": "stream",
          "name": "stdout",
          "text": [
            "[nltk_data] Downloading package universal_tagset to /root/nltk_data...\n",
            "[nltk_data]   Package universal_tagset is already up-to-date!\n",
            "[nltk_data] Downloading package treebank to /root/nltk_data...\n",
            "[nltk_data]   Package treebank is already up-to-date!\n",
            "[nltk_data] Downloading package brown to /root/nltk_data...\n",
            "[nltk_data]   Package brown is already up-to-date!\n",
            "[nltk_data] Downloading package conll2000 to /root/nltk_data...\n",
            "[nltk_data]   Package conll2000 is already up-to-date!\n"
          ]
        },
        {
          "output_type": "execute_result",
          "data": {
            "text/plain": [
              "True"
            ]
          },
          "metadata": {},
          "execution_count": 7
        }
      ],
      "source": [
        "import nltk\n",
        "nltk.download('universal_tagset')\n",
        "nltk.download('treebank')\n",
        "nltk.download('brown')\n",
        "nltk.download('conll2000')"
      ]
    },
    {
      "cell_type": "code",
      "execution_count": 8,
      "metadata": {
        "id": "fDQ5kb2NRyfj"
      },
      "outputs": [],
      "source": [
        "# load POS tagged corpora from NLTK\n",
        "treebank_corpus = treebank.tagged_sents(tagset='universal')\n",
        "brown_corpus = brown.tagged_sents(tagset='universal')\n",
        "conll_corpus = conll2000.tagged_sents(tagset='universal')\n",
        "tagged_sentences = treebank_corpus + brown_corpus + conll_corpus"
      ]
    },
    {
      "cell_type": "code",
      "execution_count": 9,
      "metadata": {
        "colab": {
          "base_uri": "https://localhost:8080/"
        },
        "id": "OV_Uc-h0RwQl",
        "outputId": "bf229a12-399a-45d9-c8e6-f7e85b7f57fa"
      },
      "outputs": [
        {
          "output_type": "execute_result",
          "data": {
            "text/plain": [
              "[('``', '.'),\n",
              " ('We', 'PRON'),\n",
              " ('have', 'VERB'),\n",
              " ('no', 'DET'),\n",
              " ('useful', 'ADJ'),\n",
              " ('information', 'NOUN'),\n",
              " ('on', 'ADP'),\n",
              " ('whether', 'ADP'),\n",
              " ('users', 'NOUN'),\n",
              " ('are', 'VERB'),\n",
              " ('at', 'ADP'),\n",
              " ('risk', 'NOUN'),\n",
              " (',', '.'),\n",
              " (\"''\", '.'),\n",
              " ('said', 'VERB'),\n",
              " ('*T*-1', 'X'),\n",
              " ('James', 'NOUN'),\n",
              " ('A.', 'NOUN'),\n",
              " ('Talcott', 'NOUN'),\n",
              " ('of', 'ADP'),\n",
              " ('Boston', 'NOUN'),\n",
              " (\"'s\", 'PRT'),\n",
              " ('Dana-Farber', 'NOUN'),\n",
              " ('Cancer', 'NOUN'),\n",
              " ('Institute', 'NOUN'),\n",
              " ('.', '.')]"
            ]
          },
          "metadata": {},
          "execution_count": 9
        }
      ],
      "source": [
        "# let's look at the data\n",
        "tagged_sentences[11]"
      ]
    },
    {
      "cell_type": "markdown",
      "metadata": {
        "id": "JN7JCYHUY3mi"
      },
      "source": [
        "## Divide data in words (X) and tags (Y)\n",
        "\n",
        "Since this is a **many-to-many** problem, each data point will be a different sentence of the corpora.\n",
        "\n",
        "Each data point will have multiple words in the **input sequence**. This is what we will refer to as **X**.\n",
        "\n",
        "Each word will have its correpsonding tag in the **output sequence**. This what we will refer to as **Y**.\n",
        "\n",
        "Sample dataset:\n",
        "\n",
        "|                    X                        |                 Y                |\n",
        "|---------------------------------------------|----------------------------------|\n",
        "|   Mr. Vinken is chairman of Elsevier        |   NOUN NOUN VERB NOUN ADP NOUN   |\n",
        "|     We have no useful information           |      PRON VERB DET ADJ NOUN      |"
      ]
    },
    {
      "cell_type": "code",
      "execution_count": 10,
      "metadata": {
        "id": "HtytuQJEWyrM"
      },
      "outputs": [],
      "source": [
        "X = [] # store input sequence\n",
        "Y = [] # store output sequence\n",
        "\n",
        "for sentence in tagged_sentences:\n",
        "    X_sentence = []\n",
        "    Y_sentence = []\n",
        "    for entity in sentence:  # In here entity will fetch on word by word and we append that into X\n",
        "    # for eg word such as  [('We', 'PRON'),('have', 'VERB'),('no', 'DET'),('useful', 'ADJ')]  here in entity in 1 itr we get  ('We', 'PRON')  so we \n",
        "    #fetch \"we\" in X and \"PRON\" in Y and so on\n",
        "        X_sentence.append(entity[0])  # entity[0] contains the word\n",
        "        Y_sentence.append(entity[1])  # entity[1] contains corresponding tag\n",
        "        \n",
        "    X.append(X_sentence)\n",
        "    Y.append(Y_sentence)"
      ]
    },
    {
      "cell_type": "code",
      "execution_count": 11,
      "metadata": {
        "colab": {
          "base_uri": "https://localhost:8080/"
        },
        "id": "JmUM4eKYZiF9",
        "outputId": "85e85054-ef1c-454d-fb92-e098637a9f9f"
      },
      "outputs": [
        {
          "output_type": "execute_result",
          "data": {
            "text/plain": [
              "['Pierre',\n",
              " 'Vinken',\n",
              " ',',\n",
              " '61',\n",
              " 'years',\n",
              " 'old',\n",
              " ',',\n",
              " 'will',\n",
              " 'join',\n",
              " 'the',\n",
              " 'board',\n",
              " 'as',\n",
              " 'a',\n",
              " 'nonexecutive',\n",
              " 'director',\n",
              " 'Nov.',\n",
              " '29',\n",
              " '.']"
            ]
          },
          "metadata": {},
          "execution_count": 11
        }
      ],
      "source": [
        "X[0]"
      ]
    },
    {
      "cell_type": "markdown",
      "source": [
        "**COnverting the words and tage in lower case**"
      ],
      "metadata": {
        "id": "vP_6szBYgalR"
      }
    },
    {
      "cell_type": "code",
      "execution_count": 12,
      "metadata": {
        "id": "DNA-Prg3aJ3L"
      },
      "outputs": [],
      "source": [
        "num_words=[inner_loop.lower() for outer_loop in X for inner_loop in outer_loop]"
      ]
    },
    {
      "cell_type": "code",
      "source": [
        "num_words[:10]"
      ],
      "metadata": {
        "colab": {
          "base_uri": "https://localhost:8080/"
        },
        "id": "LnzRXyt0fvdh",
        "outputId": "ac720418-deaa-4e00-fad6-1770bfa0aa7f"
      },
      "execution_count": 13,
      "outputs": [
        {
          "output_type": "execute_result",
          "data": {
            "text/plain": [
              "['pierre', 'vinken', ',', '61', 'years', 'old', ',', 'will', 'join', 'the']"
            ]
          },
          "metadata": {},
          "execution_count": 13
        }
      ]
    },
    {
      "cell_type": "code",
      "source": [
        "# length of numbr of words\n",
        "len(num_words)"
      ],
      "metadata": {
        "colab": {
          "base_uri": "https://localhost:8080/"
        },
        "id": "-pE_6KOHhWxU",
        "outputId": "7533de24-ab75-48ad-c3a6-88e0398ab08a"
      },
      "execution_count": 14,
      "outputs": [
        {
          "output_type": "execute_result",
          "data": {
            "text/plain": [
              "1520972"
            ]
          },
          "metadata": {},
          "execution_count": 14
        }
      ]
    },
    {
      "cell_type": "code",
      "source": [
        "# length of Vocubulary\n",
        "num_words=len(set([word.lower() for sentence in X for word in sentence]))"
      ],
      "metadata": {
        "id": "w2yCJLeJhs3s"
      },
      "execution_count": 15,
      "outputs": []
    },
    {
      "cell_type": "markdown",
      "source": [
        "## Similarly for Number of tags\n"
      ],
      "metadata": {
        "id": "L4YvdHVvh9rM"
      }
    },
    {
      "cell_type": "code",
      "source": [
        "num_tags   = len(set([word.lower() for sentence in Y for word in sentence]))"
      ],
      "metadata": {
        "id": "QVYkIsh_hz3Z"
      },
      "execution_count": 16,
      "outputs": []
    },
    {
      "cell_type": "code",
      "source": [
        "print(\"Total number of tagged sentences: {}\".format(len(X)))\n",
        "print(\"Vocabulary size: {}\".format(num_words))\n",
        "print(\"Total number of tags: {}\".format(num_tags))"
      ],
      "metadata": {
        "colab": {
          "base_uri": "https://localhost:8080/"
        },
        "id": "kIda3ZrbiEJd",
        "outputId": "8440311f-93c7-4e15-f7b6-b4ec43fe427a"
      },
      "execution_count": 17,
      "outputs": [
        {
          "output_type": "stream",
          "name": "stdout",
          "text": [
            "Total number of tagged sentences: 72202\n",
            "Vocabulary size: 59448\n",
            "Total number of tags: 12\n"
          ]
        }
      ]
    },
    {
      "cell_type": "markdown",
      "source": [
        "#### lets have a peek of the data"
      ],
      "metadata": {
        "id": "xtVcZhKlE3GG"
      }
    },
    {
      "cell_type": "code",
      "source": [
        "# let's look at first data point\n",
        "# this is one data point that will be fed to the RNN\n",
        "print('sample X: ',X[0],\"\\n\")\n",
        "print('sample X: ',Y[0],\"\\n\")"
      ],
      "metadata": {
        "id": "F2g8NNexiKJ3",
        "colab": {
          "base_uri": "https://localhost:8080/"
        },
        "outputId": "1cb30bc0-cece-4e07-e045-6753ba10942b"
      },
      "execution_count": 18,
      "outputs": [
        {
          "output_type": "stream",
          "name": "stdout",
          "text": [
            "sample X:  ['Pierre', 'Vinken', ',', '61', 'years', 'old', ',', 'will', 'join', 'the', 'board', 'as', 'a', 'nonexecutive', 'director', 'Nov.', '29', '.'] \n",
            "\n",
            "sample X:  ['NOUN', 'NOUN', '.', 'NUM', 'NOUN', 'ADJ', '.', 'VERB', 'VERB', 'DET', 'NOUN', 'ADP', 'DET', 'ADJ', 'NOUN', 'NOUN', 'NUM', '.'] \n",
            "\n"
          ]
        }
      ]
    },
    {
      "cell_type": "code",
      "source": [
        "# In this many-to-many problem, the length of each input and output sequence must be the same.\n",
        "# Since each word is tagged, it's important to make sure that the length of input sequence equals the output sequence\n",
        "print(\"Length of first input sequence  : {}\".format(len(X[0])))\n",
        "print(\"Length of first output sequence : {}\".format(len(Y[0])))"
      ],
      "metadata": {
        "colab": {
          "base_uri": "https://localhost:8080/"
        },
        "id": "Jj_Zupm-FEnX",
        "outputId": "4078aac6-81d9-4446-cee6-c15950c5357d"
      },
      "execution_count": 19,
      "outputs": [
        {
          "output_type": "stream",
          "name": "stdout",
          "text": [
            "Length of first input sequence  : 18\n",
            "Length of first output sequence : 18\n"
          ]
        }
      ]
    },
    {
      "cell_type": "markdown",
      "source": [
        "## Vectorise X and Y\n",
        "\n",
        "#### Encode X and Y to integer values\n",
        "\n",
        "We'll use the Tokenizer() function from Keras library to encode text sequence to integer sequence"
      ],
      "metadata": {
        "id": "-m2keaudMbyV"
      }
    },
    {
      "cell_type": "markdown",
      "source": [
        "**Encoding X**"
      ],
      "metadata": {
        "id": "Gkep7vPiM3VC"
      }
    },
    {
      "cell_type": "code",
      "source": [
        "# encode X\n",
        "\n",
        "word_tokenizer = Tokenizer()                      # instantiate tokeniser\n",
        "word_tokenizer.fit_on_texts(X)                    # fit tokeniser on data\n",
        "X_encoded = word_tokenizer.texts_to_sequences(X)  # use the tokeniser to encode input sequence"
      ],
      "metadata": {
        "id": "lfgv75klHQdX"
      },
      "execution_count": 20,
      "outputs": []
    },
    {
      "cell_type": "code",
      "source": [
        "word_index=word_tokenizer.word_index\n",
        "type(word_index)"
      ],
      "metadata": {
        "colab": {
          "base_uri": "https://localhost:8080/"
        },
        "id": "04g81ACzM-FZ",
        "outputId": "f3dcad4d-5acb-40b3-e05e-9b823d94a800"
      },
      "execution_count": 21,
      "outputs": [
        {
          "output_type": "execute_result",
          "data": {
            "text/plain": [
              "dict"
            ]
          },
          "metadata": {},
          "execution_count": 21
        }
      ]
    },
    {
      "cell_type": "markdown",
      "source": [
        "#### Tokenizer assign values to each word lets have alook on the first 10 words and the value assigned to it"
      ],
      "metadata": {
        "id": "qFr1W6rZPE2J"
      }
    },
    {
      "cell_type": "code",
      "source": [
        "{k:word_index[k] for k in list(word_index)[:10]}"
      ],
      "metadata": {
        "colab": {
          "base_uri": "https://localhost:8080/"
        },
        "id": "e_7RwukGNNz-",
        "outputId": "e57d3a00-661d-487a-aec3-c5948a123273"
      },
      "execution_count": 22,
      "outputs": [
        {
          "output_type": "execute_result",
          "data": {
            "text/plain": [
              "{',': 2,\n",
              " '.': 3,\n",
              " 'a': 7,\n",
              " 'and': 5,\n",
              " 'for': 10,\n",
              " 'in': 8,\n",
              " 'of': 4,\n",
              " 'that': 9,\n",
              " 'the': 1,\n",
              " 'to': 6}"
            ]
          },
          "metadata": {},
          "execution_count": 22
        }
      ]
    },
    {
      "cell_type": "markdown",
      "source": [
        "**Encoding Y**"
      ],
      "metadata": {
        "id": "TdieDseoPlqx"
      }
    },
    {
      "cell_type": "code",
      "source": [
        "# encode Y\n",
        "\n",
        "tag_tokenizer = Tokenizer()\n",
        "tag_tokenizer.fit_on_texts(Y)\n",
        "Y_encoded = tag_tokenizer.texts_to_sequences(Y)"
      ],
      "metadata": {
        "id": "APKUlUPdPoSX"
      },
      "execution_count": 23,
      "outputs": []
    },
    {
      "cell_type": "code",
      "source": [
        "# look at first encoded data point\n",
        "\n",
        "print(\"** Raw data point **\", \"\\n\", \"-\"*100, \"\\n\")\n",
        "print('X: ', X[0])\n",
        "print('Y: ', Y[0])\n",
        "print()\n",
        "print(\"** Encoded data point **\", \"\\n\", \"-\"*100, \"\\n\")\n",
        "print('X: ', X_encoded[0])\n",
        "print('Y: ', Y_encoded[0])"
      ],
      "metadata": {
        "colab": {
          "base_uri": "https://localhost:8080/"
        },
        "id": "zwC0uakkPvTh",
        "outputId": "87ffb167-2491-4e7c-bbdb-2eee7f0a74f4"
      },
      "execution_count": 24,
      "outputs": [
        {
          "output_type": "stream",
          "name": "stdout",
          "text": [
            "** Raw data point ** \n",
            " ---------------------------------------------------------------------------------------------------- \n",
            "\n",
            "X:  ['Pierre', 'Vinken', ',', '61', 'years', 'old', ',', 'will', 'join', 'the', 'board', 'as', 'a', 'nonexecutive', 'director', 'Nov.', '29', '.']\n",
            "Y:  ['NOUN', 'NOUN', '.', 'NUM', 'NOUN', 'ADJ', '.', 'VERB', 'VERB', 'DET', 'NOUN', 'ADP', 'DET', 'ADJ', 'NOUN', 'NOUN', 'NUM', '.']\n",
            "\n",
            "** Encoded data point ** \n",
            " ---------------------------------------------------------------------------------------------------- \n",
            "\n",
            "X:  [6423, 24231, 2, 7652, 102, 170, 2, 47, 1898, 1, 269, 17, 7, 13230, 619, 1711, 2761, 3]\n",
            "Y:  [1, 1, 3, 11, 1, 6, 3, 2, 2, 5, 1, 4, 5, 6, 1, 1, 11, 3]\n"
          ]
        }
      ]
    },
    {
      "cell_type": "markdown",
      "source": [
        "**Make sure that each sequence of input and output is same length**"
      ],
      "metadata": {
        "id": "203dTuMESl_h"
      }
    },
    {
      "cell_type": "code",
      "source": [
        "nl=0\n",
        "for i in range(len(X)):\n",
        "  if len(X[i])==len(Y[i]):\n",
        "    nl=0\n",
        "  else:\n",
        "    nl=1\n",
        "if nl==1:\n",
        "  print(\"Diff Length\")\n",
        "else:\n",
        "  print(\"Same length\")\n"
      ],
      "metadata": {
        "colab": {
          "base_uri": "https://localhost:8080/"
        },
        "id": "9HErjhgLVmkV",
        "outputId": "cbddc1de-534b-4ede-9185-9ba2467f6d53"
      },
      "execution_count": 25,
      "outputs": [
        {
          "output_type": "stream",
          "name": "stdout",
          "text": [
            "Same length\n"
          ]
        }
      ]
    },
    {
      "cell_type": "markdown",
      "source": [
        "# Altrenate way using comprehension"
      ],
      "metadata": {
        "id": "l01S0TwYWnDk"
      }
    },
    {
      "cell_type": "code",
      "source": [
        "different_length=[1 if len(inputs)!=len(output) else 0 for inputs,output in zip(X_encoded,Y_encoded)]"
      ],
      "metadata": {
        "id": "LXKD0Ow_VolJ"
      },
      "execution_count": 26,
      "outputs": []
    },
    {
      "cell_type": "code",
      "source": [
        "[\"Difflength\" if sum(different_length) else \"Same Length\"]"
      ],
      "metadata": {
        "colab": {
          "base_uri": "https://localhost:8080/"
        },
        "id": "nWOMI6gkYwnF",
        "outputId": "27b42df4-0e76-484b-8af8-55ed87a7b90a"
      },
      "execution_count": 27,
      "outputs": [
        {
          "output_type": "execute_result",
          "data": {
            "text/plain": [
              "['Same Length']"
            ]
          },
          "metadata": {},
          "execution_count": 27
        }
      ]
    },
    {
      "cell_type": "markdown",
      "source": [
        "## Pad sequences\n",
        "\n",
        "The next step after encoding the data is to define the sequence lengths. As of now, the sentences present in the data are of various lengths. We need to either pad short sentences or truncate long sentences to a fixed length. This fixed length, however, is a hyperparameter."
      ],
      "metadata": {
        "id": "oZxkIeCUaj2p"
      }
    },
    {
      "cell_type": "markdown",
      "source": [
        "#### lets check for the max length in the encode sequence"
      ],
      "metadata": {
        "id": "JV-LDiCpa3V4"
      }
    },
    {
      "cell_type": "code",
      "source": [
        "lengths=[len(i) for i in X_encoded]\n",
        "print(\"Length of longest sentence: {}\".format(max(lengths)))"
      ],
      "metadata": {
        "colab": {
          "base_uri": "https://localhost:8080/"
        },
        "id": "S_zKKuQ8aq0h",
        "outputId": "bd1ce42f-0d98-4ab5-8f5f-7c95f6f552a0"
      },
      "execution_count": 28,
      "outputs": [
        {
          "output_type": "stream",
          "name": "stdout",
          "text": [
            "Length of longest sentence: 271\n"
          ]
        }
      ]
    },
    {
      "cell_type": "code",
      "source": [
        "sns.boxplot(lengths)\n",
        "plt.show"
      ],
      "metadata": {
        "colab": {
          "base_uri": "https://localhost:8080/",
          "height": 282
        },
        "id": "pxlkZs9ybBc_",
        "outputId": "edc32a93-1db0-4828-b54b-0f1d0c5cf247"
      },
      "execution_count": 29,
      "outputs": [
        {
          "output_type": "execute_result",
          "data": {
            "text/plain": [
              "<function matplotlib.pyplot.show>"
            ]
          },
          "metadata": {},
          "execution_count": 29
        },
        {
          "output_type": "display_data",
          "data": {
            "image/png": "[encoded data removed]",
            "text/plain": [
              "<Figure size 432x288 with 1 Axes>"
            ]
          },
          "metadata": {
            "needs_background": "light"
          }
        }
      ]
    },
    {
      "cell_type": "markdown",
      "source": [
        "### here we from the boxplot there are few outliers i.e few senteces are quite long so we simply get rid of thoso sentences\n",
        "### Or simply we can truncate these sentences to the length so that they are no more Outliers"
      ],
      "metadata": {
        "id": "fbgWdkX0bph-"
      }
    },
    {
      "cell_type": "code",
      "source": [
        "# Pad each sequence to MAX_SEQ_LENGTH using KERAS' pad_sequences() function. \n",
        "# Sentences longer than MAX_SEQ_LENGTH are truncated.\n",
        "# Sentences shorter than MAX_SEQ_LENGTH are padded with zeroes.\n",
        "\n",
        "# Truncation and padding can either be 'pre' or 'post'. \n",
        "# For padding we are using 'pre' padding type, that is, add zeroes on the left side.\n",
        "# For truncation, we are using 'post', that is, truncate a sentence from right side.\n",
        "\n",
        "MAX_SEQ_LENGTH = 110  # sequences greater than 110 in length will be truncated\n",
        "X_padded=pad_sequences(X_encoded,maxlen=MAX_SEQ_LENGTH,padding=\"pre\",truncating=\"post\")\n",
        "Y_padded=pad_sequences(Y_encoded,maxlen=MAX_SEQ_LENGTH,padding=\"pre\",truncating=\"post\")"
      ],
      "metadata": {
        "id": "G2TGDY73bgB6"
      },
      "execution_count": 30,
      "outputs": []
    },
    {
      "cell_type": "code",
      "source": [
        "# print the first sequence\n",
        "print(X_padded[0], \"\\n\"*3)\n",
        "print(Y_padded[0])"
      ],
      "metadata": {
        "colab": {
          "base_uri": "https://localhost:8080/"
        },
        "id": "tLFC6gU0dQWp",
        "outputId": "860d11e8-3090-42d4-b895-ac86b8d7d032"
      },
      "execution_count": 31,
      "outputs": [
        {
          "output_type": "stream",
          "name": "stdout",
          "text": [
            "[    0     0     0     0     0     0     0     0     0     0     0     0\n",
            "     0     0     0     0     0     0     0     0     0     0     0     0\n",
            "     0     0     0     0     0     0     0     0     0     0     0     0\n",
            "     0     0     0     0     0     0     0     0     0     0     0     0\n",
            "     0     0     0     0     0     0     0     0     0     0     0     0\n",
            "     0     0     0     0     0     0     0     0     0     0     0     0\n",
            "     0     0     0     0     0     0     0     0     0     0     0     0\n",
            "     0     0     0     0     0     0     0     0  6423 24231     2  7652\n",
            "   102   170     2    47  1898     1   269    17     7 13230   619  1711\n",
            "  2761     3] \n",
            "\n",
            "\n",
            "\n",
            "[ 0  0  0  0  0  0  0  0  0  0  0  0  0  0  0  0  0  0  0  0  0  0  0  0\n",
            "  0  0  0  0  0  0  0  0  0  0  0  0  0  0  0  0  0  0  0  0  0  0  0  0\n",
            "  0  0  0  0  0  0  0  0  0  0  0  0  0  0  0  0  0  0  0  0  0  0  0  0\n",
            "  0  0  0  0  0  0  0  0  0  0  0  0  0  0  0  0  0  0  0  0  1  1  3 11\n",
            "  1  6  3  2  2  5  1  4  5  6  1  1 11  3]\n"
          ]
        }
      ]
    },
    {
      "cell_type": "markdown",
      "source": [
        "## RNN will learn the zero to zero mapping while training. So we don't need to worry about the padded zeroes. Please note that zero is not reserved for any word or tag, it's only reserved for padding."
      ],
      "metadata": {
        "id": "eE7Qe8vtf_Aq"
      }
    },
    {
      "cell_type": "code",
      "source": [
        "# assign padded sequences to X and Y\n",
        "X, Y = X_padded, Y_padded"
      ],
      "metadata": {
        "id": "-Jp9bB2-eM_i"
      },
      "execution_count": 32,
      "outputs": []
    },
    {
      "cell_type": "markdown",
      "source": [
        "## Word embeddings\n",
        "Currently, each word and each tag is encoded as an integer. \n",
        "\n",
        "We'll use a more sophisticated technique to represent the input words (X) using what's known as **word embeddings**.\n",
        "\n",
        "However, to represent each tag in Y, we'll simply use **one-hot encoding** scheme since there are only 13 tags in the dataset and the LSTM will have no problems in learning its own representation of these tags.\n",
        "\n",
        "To use word embeddings, you can go for either of the following models:\n",
        "1. word2vec model: https://code.google.com/archive/p/word2vec/\n",
        "2. GloVe model : https://nlp.stanford.edu/projects/glove/\n",
        "\n",
        "We're using the word2vec model for no particular reason. Both of these are very efficient in representing words. You can try both and see which one works better.\n",
        "\n",
        "Dimensions of a word embedding is: (VOCABULARY_SIZE, EMBEDDING_DIMENSION)"
      ],
      "metadata": {
        "id": "VxatnqKClChy"
      }
    },
    {
      "cell_type": "markdown",
      "source": [
        "## Downloading the pre-trained Word2vec google model(word2vec-google-news-300)\n",
        "\n",
        "* downloading pre traine word2vec embeding weights, also we made tweak in the weights which are pre-trained"
      ],
      "metadata": {
        "id": "nrfhwFf8sCfz"
      }
    },
    {
      "cell_type": "code",
      "source": [
        "import gensim.downloader as api\n",
        "path = api.load(\"word2vec-google-news-300\", return_path=True)\n",
        "print(path)"
      ],
      "metadata": {
        "id": "EOgICK0lnhZg",
        "colab": {
          "base_uri": "https://localhost:8080/"
        },
        "outputId": "cbf6b8d7-561f-4820-9ac7-7dc2a016aa01"
      },
      "execution_count": 33,
      "outputs": [
        {
          "output_type": "stream",
          "name": "stdout",
          "text": [
            "[==================================================] 100.0% 1662.8/1662.8MB downloaded\n",
            "/root/gensim-data/word2vec-google-news-300/word2vec-google-news-300.gz\n"
          ]
        }
      ]
    },
    {
      "cell_type": "code",
      "source": [
        "path = '/root/gensim-data/word2vec-google-news-300/word2vec-google-news-300.gz'\n",
        "\n",
        "# load word2vec using the following function present in the gensim library\n",
        "word2vec = KeyedVectors.load_word2vec_format(path, binary=True)"
      ],
      "metadata": {
        "id": "yLBOb6Mfo1Gz"
      },
      "execution_count": 34,
      "outputs": []
    },
    {
      "cell_type": "code",
      "source": [
        "# word2vec effectiveness\n",
        "#word2vec.most_similar(positive = [\"King\", \"Woman\"], negative = [\"Man\"])"
      ],
      "metadata": {
        "id": "W9XiMoERsata"
      },
      "execution_count": 35,
      "outputs": []
    },
    {
      "cell_type": "markdown",
      "source": [
        "# Output-\n",
        "[('Queen', 0.4929388165473938),\n",
        "\n",
        " ('Tupou_V.', 0.45174291729927063),\n",
        "\n",
        " ('Oprah_BFF_Gayle', 0.4422132670879364),\n",
        "\n",
        " ('Jackson', 0.440250426530838),\n",
        "\n",
        " ('NECN_Alison', 0.43312832713127136),\n",
        "\n",
        " ('Whitfield', 0.42834725975990295),\n",
        "\n",
        " ('Ida_Vandross', 0.42084527015686035),\n",
        "\n",
        " ('prosecutor_Dan_Satterberg', 0.42075902223587036),\n",
        "\n",
        " ('martin_Luther_King', 0.42059648036956787),\n",
        " \n",
        " ('Coretta_King', 0.42027339339256287)]"
      ],
      "metadata": {
        "id": "SFuYbdCCuTXI"
      }
    },
    {
      "cell_type": "markdown",
      "source": [
        "# It means- King-Men+women=Queen, i.e why queen prob is very high in the result we get"
      ],
      "metadata": {
        "id": "f6quh441ue6x"
      }
    },
    {
      "cell_type": "markdown",
      "source": [
        "# Assign word vectors from word2vec model"
      ],
      "metadata": {
        "id": "yFezjGs-xnnL"
      }
    },
    {
      "cell_type": "code",
      "source": [
        "# assign word vectors from word2vec model\n",
        "\n",
        "EMBEDDING_SIZE  = 300  # each word in word2vec model is represented using a 300 dimensional vector\n",
        "VOCABULARY_SIZE = len(word_tokenizer.word_index) + 1 # becuse 0 was included in padding and 0 is not included any conversion thats way means\n",
        "# if , = 2, 0 is 0 not assigned anything\n",
        "\n",
        "# create an empty embedding matix\n",
        "embedding_weights = np.zeros((VOCABULARY_SIZE, EMBEDDING_SIZE))\n",
        "\n",
        "# create a word to index dictionary mapping\n",
        "word2id = word_tokenizer.word_index"
      ],
      "metadata": {
        "id": "UjmfdOBDvuUj"
      },
      "execution_count": 36,
      "outputs": []
    },
    {
      "cell_type": "code",
      "source": [
        "{i: word2id[i] for i in list(word2id)[:10]}"
      ],
      "metadata": {
        "id": "plzEttK-wpyL",
        "colab": {
          "base_uri": "https://localhost:8080/"
        },
        "outputId": "d28e6aea-e080-4846-81f0-e0a47c996810"
      },
      "execution_count": 37,
      "outputs": [
        {
          "output_type": "execute_result",
          "data": {
            "text/plain": [
              "{',': 2,\n",
              " '.': 3,\n",
              " 'a': 7,\n",
              " 'and': 5,\n",
              " 'for': 10,\n",
              " 'in': 8,\n",
              " 'of': 4,\n",
              " 'that': 9,\n",
              " 'the': 1,\n",
              " 'to': 6}"
            ]
          },
          "metadata": {},
          "execution_count": 37
        }
      ]
    },
    {
      "cell_type": "code",
      "source": [
        "\n",
        "# copy vectors from word2vec model to the words present in corpus\n",
        "for word, index in word2id.items():\n",
        "    try:\n",
        "        embedding_weights[index, :] = word2vec[word]\n",
        "    except KeyError:\n",
        "        pass"
      ],
      "metadata": {
        "id": "qRivhjOM14Td"
      },
      "execution_count": 38,
      "outputs": []
    },
    {
      "cell_type": "markdown",
      "source": [
        "### Explaination of this code\n",
        "* i.e where for eg- 'a': 7, then from word2vec corresponding prob value of 7 is assigned and so on"
      ],
      "metadata": {
        "id": "8NrI6czW4WhR"
      }
    },
    {
      "cell_type": "code",
      "source": [
        "dt={5:0,\n",
        "    9:1,\n",
        "    11:2}\n",
        "na=np.zeros((3,2))\n",
        "na"
      ],
      "metadata": {
        "id": "l5F3ed1j2IIL",
        "colab": {
          "base_uri": "https://localhost:8080/"
        },
        "outputId": "75f0909b-e897-4325-85bd-97e776a2b886"
      },
      "execution_count": 39,
      "outputs": [
        {
          "output_type": "execute_result",
          "data": {
            "text/plain": [
              "array([[0., 0.],\n",
              "       [0., 0.],\n",
              "       [0., 0.]])"
            ]
          },
          "metadata": {},
          "execution_count": 39
        }
      ]
    },
    {
      "cell_type": "code",
      "source": [
        "for i ,j in dt.items():\n",
        "  na[j, :] = i\n",
        "na"
      ],
      "metadata": {
        "id": "oiZPPCWq3LS4",
        "colab": {
          "base_uri": "https://localhost:8080/"
        },
        "outputId": "ca5c25b1-8386-48ea-d35a-9c280153fd4d"
      },
      "execution_count": 40,
      "outputs": [
        {
          "output_type": "execute_result",
          "data": {
            "text/plain": [
              "array([[ 5.,  5.],\n",
              "       [ 9.,  9.],\n",
              "       [11., 11.]])"
            ]
          },
          "metadata": {},
          "execution_count": 40
        }
      ]
    },
    {
      "cell_type": "code",
      "source": [
        "# check embedding dimension\n",
        "print(\"Embeddings shape: {}\".format(embedding_weights.shape))"
      ],
      "metadata": {
        "id": "iPJ-j-r531Dn",
        "colab": {
          "base_uri": "https://localhost:8080/"
        },
        "outputId": "09fbc2c2-0f14-42a9-9b91-c12b8db406a1"
      },
      "execution_count": 41,
      "outputs": [
        {
          "output_type": "stream",
          "name": "stdout",
          "text": [
            "Embeddings shape: (59449, 300)\n"
          ]
        }
      ]
    },
    {
      "cell_type": "code",
      "source": [
        "# let's look at an embedding of a word\n",
        "embedding_weights[word_tokenizer.word_index['joy']]"
      ],
      "metadata": {
        "id": "3kJevDeb4ae1",
        "colab": {
          "base_uri": "https://localhost:8080/"
        },
        "outputId": "bc00e3f0-72da-40e8-843b-76d525535983"
      },
      "execution_count": 42,
      "outputs": [
        {
          "output_type": "execute_result",
          "data": {
            "text/plain": [
              "array([ 0.4453125 , -0.20019531,  0.20019531, -0.03149414,  0.078125  ,\n",
              "       -0.390625  ,  0.13671875, -0.13867188,  0.05395508,  0.10546875,\n",
              "       -0.05029297, -0.23730469,  0.19921875,  0.12597656, -0.12695312,\n",
              "        0.34179688,  0.06347656,  0.26757812, -0.07324219, -0.29101562,\n",
              "        0.10498047,  0.11914062,  0.23730469,  0.00640869,  0.12451172,\n",
              "       -0.00939941, -0.02770996,  0.03076172,  0.07421875, -0.22851562,\n",
              "       -0.08056641, -0.05273438,  0.16894531,  0.19824219, -0.15625   ,\n",
              "       -0.08740234,  0.10742188, -0.07177734,  0.05200195,  0.25976562,\n",
              "        0.171875  , -0.13574219,  0.06738281,  0.00531006,  0.15527344,\n",
              "       -0.03515625,  0.08789062,  0.3359375 , -0.12890625,  0.17578125,\n",
              "       -0.08642578,  0.32421875, -0.09033203,  0.35351562,  0.24316406,\n",
              "       -0.07470703, -0.06640625, -0.17578125,  0.06689453, -0.03833008,\n",
              "        0.0100708 , -0.21484375, -0.03686523,  0.04394531,  0.02209473,\n",
              "        0.00219727, -0.22460938,  0.03015137, -0.21582031,  0.16015625,\n",
              "        0.23339844, -0.16699219, -0.09228516,  0.10644531,  0.19335938,\n",
              "       -0.26757812,  0.15722656, -0.08691406,  0.11181641,  0.14941406,\n",
              "       -0.20507812,  0.04882812, -0.07519531, -0.21582031, -0.10107422,\n",
              "       -0.13378906, -0.06103516,  0.05444336,  0.07470703,  0.09521484,\n",
              "       -0.0144043 ,  0.27929688, -0.25585938, -0.05273438, -0.22460938,\n",
              "        0.10253906, -0.15136719,  0.21289062, -0.04711914, -0.12109375,\n",
              "        0.04663086,  0.25976562,  0.13574219,  0.00799561,  0.02001953,\n",
              "        0.1796875 ,  0.30664062,  0.06152344,  0.13574219, -0.09619141,\n",
              "       -0.07421875,  0.38671875,  0.20800781,  0.12695312,  0.05200195,\n",
              "        0.17675781, -0.16796875, -0.19335938, -0.06152344, -0.07568359,\n",
              "       -0.18457031,  0.06030273, -0.15136719, -0.1953125 , -0.23339844,\n",
              "        0.00738525, -0.02478027, -0.09765625, -0.06054688,  0.20214844,\n",
              "       -0.2734375 ,  0.00595093, -0.34570312, -0.12988281,  0.00418091,\n",
              "        0.09960938,  0.0246582 ,  0.15917969, -0.02038574,  0.30273438,\n",
              "       -0.20800781, -0.20214844, -0.03930664, -0.06494141,  0.00436401,\n",
              "       -0.02270508, -0.171875  ,  0.30273438, -0.16113281, -0.49414062,\n",
              "        0.3515625 ,  0.39257812,  0.09814453,  0.41796875,  0.05371094,\n",
              "        0.02392578, -0.03710938, -0.08251953, -0.38671875, -0.40625   ,\n",
              "       -0.05664062,  0.203125  , -0.01782227,  0.3359375 ,  0.19140625,\n",
              "       -0.44335938,  0.00927734,  0.24804688, -0.05102539,  0.19726562,\n",
              "        0.03881836,  0.03442383, -0.40039062, -0.09912109, -0.07128906,\n",
              "        0.21484375, -0.01422119,  0.04907227, -0.07421875, -0.21582031,\n",
              "       -0.41992188,  0.02172852,  0.11083984, -0.33398438, -0.2734375 ,\n",
              "       -0.05322266, -0.16601562, -0.28515625, -0.12207031,  0.04882812,\n",
              "       -0.0625    , -0.04077148, -0.16503906,  0.0480957 , -0.21191406,\n",
              "        0.20019531, -0.2109375 ,  0.10839844, -0.14648438, -0.07958984,\n",
              "       -0.05151367, -0.16601562, -0.24902344, -0.375     ,  0.05664062,\n",
              "       -0.13671875, -0.2578125 ,  0.28515625, -0.04736328,  0.13574219,\n",
              "       -0.14550781,  0.19433594, -0.21972656,  0.08447266, -0.10791016,\n",
              "       -0.11816406, -0.16015625,  0.12060547, -0.10888672,  0.04345703,\n",
              "        0.11474609, -0.08447266, -0.00720215,  0.03662109, -0.38671875,\n",
              "       -0.03881836, -0.03198242,  0.00344849,  0.22558594, -0.06787109,\n",
              "       -0.16699219,  0.2421875 ,  0.05712891,  0.27539062, -0.0456543 ,\n",
              "       -0.19042969, -0.17285156,  0.00836182, -0.03271484,  0.16992188,\n",
              "       -0.18554688, -0.0703125 , -0.32617188, -0.00668335, -0.02770996,\n",
              "        0.3359375 ,  0.125     , -0.2109375 ,  0.06005859, -0.07080078,\n",
              "        0.11132812,  0.125     ,  0.25390625,  0.29296875, -0.03125   ,\n",
              "        0.09033203, -0.20507812, -0.07861328,  0.02062988, -0.0546875 ,\n",
              "       -0.23339844,  0.00096893, -0.04516602,  0.16894531, -0.22167969,\n",
              "        0.08105469,  0.33398438,  0.09619141,  0.00866699, -0.03271484,\n",
              "        0.05493164,  0.12109375,  0.16210938, -0.10302734,  0.27148438,\n",
              "       -0.03344727, -0.30273438,  0.04223633,  0.08496094, -0.15527344,\n",
              "        0.10107422, -0.11474609, -0.13085938,  0.22949219,  0.12988281,\n",
              "        0.09863281, -0.03588867,  0.10693359, -0.24902344,  0.19238281,\n",
              "       -0.05322266, -0.09033203, -0.31640625, -0.5703125 , -0.15917969,\n",
              "        0.0291748 , -0.0246582 , -0.07714844, -0.04663086, -0.17578125])"
            ]
          },
          "metadata": {},
          "execution_count": 42
        }
      ]
    },
    {
      "cell_type": "code",
      "source": [
        "# let's look at an embedding of a word\n",
        "embedding_weights[word_tokenizer.word_index['joy']].shape"
      ],
      "metadata": {
        "id": "hGRzdygy41wj",
        "colab": {
          "base_uri": "https://localhost:8080/"
        },
        "outputId": "5f345669-fa5a-4007-9005-b2073122b095"
      },
      "execution_count": 43,
      "outputs": [
        {
          "output_type": "execute_result",
          "data": {
            "text/plain": [
              "(300,)"
            ]
          },
          "metadata": {},
          "execution_count": 43
        }
      ]
    },
    {
      "cell_type": "markdown",
      "source": [
        "## here JOY is assigned to all 300 dimensions for each feature represenation like(Gender,Royal,Age, food etc.)"
      ],
      "metadata": {
        "id": "Z-KVxRzX4-j_"
      }
    },
    {
      "cell_type": "markdown",
      "source": [
        "# Use one-hot encoding for output sequences (Y)**"
      ],
      "metadata": {
        "id": "iPpbh86O57vP"
      }
    },
    {
      "cell_type": "code",
      "source": [
        "# use Keras' to_categorical function to one-hot encode Y\n",
        "Y = to_categorical(Y)"
      ],
      "metadata": {
        "id": "LrXPzTbo44PM"
      },
      "execution_count": 44,
      "outputs": []
    },
    {
      "cell_type": "code",
      "source": [
        "# print Y of the first output sequqnce\n",
        "print(Y.shape)"
      ],
      "metadata": {
        "id": "CEoW42NT6Skv",
        "colab": {
          "base_uri": "https://localhost:8080/"
        },
        "outputId": "2d42471a-e67b-4620-a3c7-66138dde2140"
      },
      "execution_count": 45,
      "outputs": [
        {
          "output_type": "stream",
          "name": "stdout",
          "text": [
            "(72202, 110, 13)\n"
          ]
        }
      ]
    },
    {
      "cell_type": "markdown",
      "source": [
        "# Split data in training, validation and tesing sets\n",
        "\n",
        "**Note here splitting is of sentences not of words**"
      ],
      "metadata": {
        "id": "vpLDoTzF60WE"
      }
    },
    {
      "cell_type": "code",
      "source": [
        "# split entire data into training and testing sets\n",
        "TEST_SIZE = 0.15\n",
        "X_train, X_test, Y_train, Y_test = train_test_split(X, Y, test_size=TEST_SIZE, random_state=4)"
      ],
      "metadata": {
        "id": "SBs-aBOM6Vsm"
      },
      "execution_count": 46,
      "outputs": []
    },
    {
      "cell_type": "markdown",
      "source": [
        "**Validation split**"
      ],
      "metadata": {
        "id": "sT35RTRl6-t5"
      }
    },
    {
      "cell_type": "code",
      "source": [
        "# split training data into training and validation sets\n",
        "VALID_SIZE = 0.15\n",
        "X_train, X_validation, Y_train, Y_validation = train_test_split(X_train, Y_train, test_size=VALID_SIZE, random_state=4)"
      ],
      "metadata": {
        "id": "-Z6PLzzR67w1"
      },
      "execution_count": 47,
      "outputs": []
    },
    {
      "cell_type": "code",
      "source": [
        "# print number of samples in each set\n",
        "print(\"TRAINING DATA\")\n",
        "print('Shape of input sequences: {}'.format(X_train.shape))\n",
        "print('Shape of output sequences: {}'.format(Y_train.shape))\n",
        "print(\"-\"*50)\n",
        "print(\"VALIDATION DATA\")\n",
        "print('Shape of input sequences: {}'.format(X_validation.shape))\n",
        "print('Shape of output sequences: {}'.format(Y_validation.shape))\n",
        "print(\"-\"*50)\n",
        "print(\"TESTING DATA\")\n",
        "print('Shape of input sequences: {}'.format(X_test.shape))\n",
        "print('Shape of output sequences: {}'.format(Y_test.shape))"
      ],
      "metadata": {
        "id": "b9sWcRXn7N2e",
        "colab": {
          "base_uri": "https://localhost:8080/"
        },
        "outputId": "188981d4-d59c-4af5-d0e5-2e164067ed25"
      },
      "execution_count": 48,
      "outputs": [
        {
          "output_type": "stream",
          "name": "stdout",
          "text": [
            "TRAINING DATA\n",
            "Shape of input sequences: (52165, 110)\n",
            "Shape of output sequences: (52165, 110, 13)\n",
            "--------------------------------------------------\n",
            "VALIDATION DATA\n",
            "Shape of input sequences: (9206, 110)\n",
            "Shape of output sequences: (9206, 110, 13)\n",
            "--------------------------------------------------\n",
            "TESTING DATA\n",
            "Shape of input sequences: (10831, 110)\n",
            "Shape of output sequences: (10831, 110, 13)\n"
          ]
        }
      ]
    },
    {
      "cell_type": "markdown",
      "source": [
        "Before using RNN, we must make sure the dimensions of the data are what an RNN expects. In general, an RNN expects the following shape\n",
        "\n",
        "Shape of X:\n",
        "(#samples, #timesteps, #features)\n",
        "\n",
        "Shape of Y:\n",
        "(#samples, #timesteps, #features)\n",
        "\n",
        "\n",
        "![rnn_tensor.png](data:image/png;base64,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)\n",
        "\n",
        "Now, there can be various variations in the shape that you use to feed an RNN depending on the type of architecture. Since the problem we're working on has a many-to-many architecture, the input and the output both include number of timesteps which is nothing but the sequence length. But notice that the tensor X doesn't have the third dimension, that is, number of features. That's because we're going to use word embeddings before feeding in the data to an RNN, and hence there is no need to explicitly mention the third dimension. That's because when you use the Embedding() layer in Keras, you the training data will automatically be converted to (#samples, #timesteps, #features) where #features will be the embedding dimention (and note that the Embedding layer is always the very first layer of an RNN). While using the embedding layer we only need to reshape the data to (#samples, #timesteps) which is what we have done. However, note that you'll need to shape it to (#samples, #timesteps, #features) in case you don't use the Embedding() layer in Keras."
      ],
      "metadata": {
        "id": "-FcDFMlW7mth"
      }
    },
    {
      "cell_type": "markdown",
      "source": [
        "# 2. Vanilla RNN\n",
        "\n",
        "### Uninitialised fixed embeddings\n",
        "First let's try running a vanilla RNN. For this RNN we won't use the pre-trained word embeddings. We'll use randomly inititalised embeddings. Moreover, we won't update the embeddings weights."
      ],
      "metadata": {
        "id": "lF4TBc_L-Cp_"
      }
    },
    {
      "cell_type": "code",
      "source": [
        "# total number of tags\n",
        "NUM_CLASSES = Y.shape[2]\n",
        "NUM_CLASSES"
      ],
      "metadata": {
        "id": "QAgqJw7T7ejl",
        "colab": {
          "base_uri": "https://localhost:8080/"
        },
        "outputId": "31bcaf4d-4233-4c42-b6d0-5234fee166a3"
      },
      "execution_count": 49,
      "outputs": [
        {
          "output_type": "execute_result",
          "data": {
            "text/plain": [
              "13"
            ]
          },
          "metadata": {},
          "execution_count": 49
        }
      ]
    },
    {
      "cell_type": "code",
      "source": [
        "print(\"VOCABULARY_SIZE\",VOCABULARY_SIZE)\n",
        "print(\"EMBEDDING_SIZE\",EMBEDDING_SIZE)\n",
        "print('MAX_SEQ_LENGTH',MAX_SEQ_LENGTH)"
      ],
      "metadata": {
        "id": "McB7xZCu-lpT",
        "colab": {
          "base_uri": "https://localhost:8080/"
        },
        "outputId": "18bfeae7-05a3-4589-80ef-e09b16f2840d"
      },
      "execution_count": 50,
      "outputs": [
        {
          "output_type": "stream",
          "name": "stdout",
          "text": [
            "VOCABULARY_SIZE 59449\n",
            "EMBEDDING_SIZE 300\n",
            "MAX_SEQ_LENGTH 110\n"
          ]
        }
      ]
    },
    {
      "cell_type": "code",
      "source": [
        "# create architecture\n",
        "\n",
        "rnn_model = Sequential()\n",
        "\n",
        "# create embedding layer - usually the first layer in text problems\n",
        "rnn_model.add(Embedding(input_dim     =  VOCABULARY_SIZE,         # vocabulary size - number of unique words in data\n",
        "                        output_dim    =  EMBEDDING_SIZE,          # length of vector with which each word is represented\n",
        "                        input_length  =  MAX_SEQ_LENGTH,          # length of input sequence\n",
        "                        trainable     =  False                    # False - don't update the embeddings\n",
        "))\n",
        "\n",
        "# add an RNN layer which contains 64 RNN cells\n",
        "rnn_model.add(SimpleRNN(64, \n",
        "              return_sequences=True  # True - return whole sequence; False - return single output of the end of the sequence\n",
        "))\n",
        "\n",
        "# add time distributed (output at each sequence) layer\n",
        "rnn_model.add(TimeDistributed(Dense(NUM_CLASSES, activation='softmax')))"
      ],
      "metadata": {
        "id": "s-k_pWvS-NfP"
      },
      "execution_count": 51,
      "outputs": []
    },
    {
      "cell_type": "markdown",
      "source": [
        "**TimeDistributed**\n",
        "* It means we are not going to wait till the end of the sentence, the output of RNN is picked up and made predictions at evert Time Steps\n",
        "* We have sequence of words coming as embedding and as in when we see more and more words in a sequence, we go try predicting the POS tags for each of word.\n",
        "i.e Everytime we had a word we already have context of the previous part of the sentence, Using that context and current word we try to predict what the POS tag for this new word.\n",
        "So we not wait for end of sequence and try to come up with prediction after every word.... this is what Time Distributed does\n",
        "\n",
        "**Embedding**\n",
        "* Think of embedding as Matrix multiplication Eg-\n",
        "If we were given a vector of length 10 and we want to embed this a shorter vector of length 5, The transformation we apply is in form of matrix of order (5*10) so--\n",
        "\n",
        "(5*10) matrix multiplication (10*1) result is (5*1)\n",
        "\n",
        "**trainable=False**\n",
        "* Means the weights here are frozed they are static"
      ],
      "metadata": {
        "id": "MNu9sa7fcYUf"
      }
    },
    {
      "cell_type": "markdown",
      "source": [
        "## Compile model"
      ],
      "metadata": {
        "id": "auksYk7TGgM3"
      }
    },
    {
      "cell_type": "code",
      "source": [
        "rnn_model.compile(loss      =  'categorical_crossentropy',\n",
        "                  optimizer =  'adam',\n",
        "                  metrics   =  ['acc'])"
      ],
      "metadata": {
        "id": "e_Pwug35-P9H"
      },
      "execution_count": 52,
      "outputs": []
    },
    {
      "cell_type": "code",
      "source": [
        "# check summary of the model\n",
        "rnn_model.summary()"
      ],
      "metadata": {
        "id": "U6kCeMlaGjO-",
        "colab": {
          "base_uri": "https://localhost:8080/"
        },
        "outputId": "6a5b93d4-b9e1-4420-87b3-c2ad1b90a0fe"
      },
      "execution_count": 53,
      "outputs": [
        {
          "output_type": "stream",
          "name": "stdout",
          "text": [
            "Model: \"sequential\"\n",
            "_________________________________________________________________\n",
            " Layer (type)                Output Shape              Param #   \n",
            "=================================================================\n",
            " embedding (Embedding)       (None, 110, 300)          17834700  \n",
            "                                                                 \n",
            " simple_rnn (SimpleRNN)      (None, 110, 64)           23360     \n",
            "                                                                 \n",
            " time_distributed (TimeDistr  (None, 110, 13)          845       \n",
            " ibuted)                                                         \n",
            "                                                                 \n",
            "=================================================================\n",
            "Total params: 17,858,905\n",
            "Trainable params: 24,205\n",
            "Non-trainable params: 17,834,700\n",
            "_________________________________________________________________\n"
          ]
        }
      ]
    },
    {
      "cell_type": "markdown",
      "source": [
        "**Since we have done trainable     =  False**\n",
        "\n",
        "* Most of parameters are non-trainable over here"
      ],
      "metadata": {
        "id": "R3jlEgj1lHga"
      }
    },
    {
      "cell_type": "markdown",
      "source": [
        "## Fit model"
      ],
      "metadata": {
        "id": "Sen_if01Grw-"
      }
    },
    {
      "cell_type": "code",
      "source": [
        "rnn_training = rnn_model.fit(X_train, Y_train, batch_size=128, epochs=10, validation_data=(X_validation, Y_validation))"
      ],
      "metadata": {
        "id": "vqJjqWzvGnze",
        "colab": {
          "base_uri": "https://localhost:8080/"
        },
        "outputId": "144d053f-8633-433e-f4cb-ef335cd1e8db"
      },
      "execution_count": 54,
      "outputs": [
        {
          "output_type": "stream",
          "name": "stdout",
          "text": [
            "Epoch 1/10\n",
            "408/408 [==============================] - 52s 120ms/step - loss: 0.4854 - acc: 0.8631 - val_loss: 0.3181 - val_acc: 0.9037\n",
            "Epoch 2/10\n",
            "408/408 [==============================] - 50s 122ms/step - loss: 0.2639 - acc: 0.9193 - val_loss: 0.2210 - val_acc: 0.9322\n",
            "Epoch 3/10\n",
            "408/408 [==============================] - 49s 119ms/step - loss: 0.1995 - acc: 0.9382 - val_loss: 0.1798 - val_acc: 0.9433\n",
            "Epoch 4/10\n",
            "408/408 [==============================] - 48s 117ms/step - loss: 0.1688 - acc: 0.9462 - val_loss: 0.1568 - val_acc: 0.9495\n",
            "Epoch 5/10\n",
            "408/408 [==============================] - 48s 116ms/step - loss: 0.1499 - acc: 0.9515 - val_loss: 0.1415 - val_acc: 0.9541\n",
            "Epoch 6/10\n",
            "408/408 [==============================] - 47s 115ms/step - loss: 0.1372 - acc: 0.9551 - val_loss: 0.1311 - val_acc: 0.9568\n",
            "Epoch 7/10\n",
            "408/408 [==============================] - 48s 117ms/step - loss: 0.1283 - acc: 0.9577 - val_loss: 0.1239 - val_acc: 0.9588\n",
            "Epoch 8/10\n",
            "408/408 [==============================] - 48s 118ms/step - loss: 0.1219 - acc: 0.9594 - val_loss: 0.1190 - val_acc: 0.9601\n",
            "Epoch 9/10\n",
            "408/408 [==============================] - 47s 116ms/step - loss: 0.1174 - acc: 0.9607 - val_loss: 0.1149 - val_acc: 0.9614\n",
            "Epoch 10/10\n",
            "408/408 [==============================] - 47s 116ms/step - loss: 0.1141 - acc: 0.9615 - val_loss: 0.1120 - val_acc: 0.9620\n"
          ]
        }
      ]
    },
    {
      "cell_type": "code",
      "source": [
        "# visualise training history\n",
        "plt.plot(rnn_training.history['acc'])\n",
        "plt.plot(rnn_training.history['val_acc'])\n",
        "plt.title('model accuracy')\n",
        "plt.ylabel('accuracy')\n",
        "plt.xlabel('epoch')\n",
        "plt.legend(['train', 'test'], loc=\"lower right\")\n",
        "plt.show()"
      ],
      "metadata": {
        "id": "3D_tlG7CG144",
        "colab": {
          "base_uri": "https://localhost:8080/",
          "height": 295
        },
        "outputId": "e3983203-69b9-4892-e0c1-3c47e830a7a1"
      },
      "execution_count": 55,
      "outputs": [
        {
          "output_type": "display_data",
          "data": {
            "image/png": "[encoded data removed]",
            "text/plain": [
              "<Figure size 432x288 with 1 Axes>"
            ]
          },
          "metadata": {
            "needs_background": "light"
          }
        }
      ]
    },
    {
      "cell_type": "markdown",
      "source": [
        "## Uninitialised trainable embeddings\n",
        "* by doing Trainable=True i.e weigth are allowed to train"
      ],
      "metadata": {
        "id": "wDA2tPYikSfi"
      }
    },
    {
      "cell_type": "code",
      "source": [
        "# create architecture\n",
        "\n",
        "rnn_model = Sequential()\n",
        "# create embedding layer - usually the first layer in text problems\n",
        "rnn_model.add(Embedding(input_dim     =  VOCABULARY_SIZE,         # vocabulary size - number of unique words in data\n",
        "                        output_dim    =  EMBEDDING_SIZE,          # length of vector with which each word is represented\n",
        "                        input_length  =  MAX_SEQ_LENGTH,          # length of input sequence\n",
        "                        trainable     =  True                     # True - update the embeddings while training\n",
        "))\n",
        "\n",
        "\n",
        "# add an RNN layer which contains 64 RNN cells\n",
        "rnn_model.add(SimpleRNN(64, \n",
        "              return_sequences=True  # True - return whole sequence; False - return single output of the end of the sequence\n",
        "))\n",
        "\n",
        "\n",
        "# add time distributed (output at each sequence) layer\n",
        "rnn_model.add(TimeDistributed(Dense(NUM_CLASSES, activation='softmax')))"
      ],
      "metadata": {
        "id": "wDRlvxn0iZ8I"
      },
      "execution_count": 56,
      "outputs": []
    },
    {
      "cell_type": "markdown",
      "source": [
        "## Compile model"
      ],
      "metadata": {
        "id": "FfyM6qMok6VU"
      }
    },
    {
      "cell_type": "code",
      "source": [
        "rnn_model.compile(loss      =  'categorical_crossentropy',\n",
        "                  optimizer =  'adam',\n",
        "                  metrics   =  ['acc'])"
      ],
      "metadata": {
        "id": "zRRAMHIIkunX"
      },
      "execution_count": 57,
      "outputs": []
    },
    {
      "cell_type": "code",
      "source": [
        "# check summary of the model\n",
        "rnn_model.summary()"
      ],
      "metadata": {
        "colab": {
          "base_uri": "https://localhost:8080/"
        },
        "id": "KrXRxTsDk-kv",
        "outputId": "dd5bffcc-a3c8-4ef1-967f-a9d0910a2cff"
      },
      "execution_count": 58,
      "outputs": [
        {
          "output_type": "stream",
          "name": "stdout",
          "text": [
            "Model: \"sequential_1\"\n",
            "_________________________________________________________________\n",
            " Layer (type)                Output Shape              Param #   \n",
            "=================================================================\n",
            " embedding_1 (Embedding)     (None, 110, 300)          17834700  \n",
            "                                                                 \n",
            " simple_rnn_1 (SimpleRNN)    (None, 110, 64)           23360     \n",
            "                                                                 \n",
            " time_distributed_1 (TimeDis  (None, 110, 13)          845       \n",
            " tributed)                                                       \n",
            "                                                                 \n",
            "=================================================================\n",
            "Total params: 17,858,905\n",
            "Trainable params: 17,858,905\n",
            "Non-trainable params: 0\n",
            "_________________________________________________________________\n"
          ]
        }
      ]
    },
    {
      "cell_type": "markdown",
      "source": [
        "**Since we have done trainable     =  True**\n",
        "\n",
        "* Most of parameters are Trainable over here"
      ],
      "metadata": {
        "id": "zpnWoz5mleoJ"
      }
    },
    {
      "cell_type": "markdown",
      "source": [
        "## Fit model"
      ],
      "metadata": {
        "id": "r0JX9zs8l_e4"
      }
    },
    {
      "cell_type": "code",
      "source": [
        "rnn_training = rnn_model.fit(X_train, Y_train, batch_size=128, epochs=10, validation_data=(X_validation, Y_validation))"
      ],
      "metadata": {
        "colab": {
          "base_uri": "https://localhost:8080/"
        },
        "id": "pOF6KQORlBYX",
        "outputId": "8a15efcc-45d6-497e-de96-e02f56781d1f"
      },
      "execution_count": 59,
      "outputs": [
        {
          "output_type": "stream",
          "name": "stdout",
          "text": [
            "Epoch 1/10\n",
            "408/408 [==============================] - 65s 156ms/step - loss: 0.2121 - acc: 0.9520 - val_loss: 0.0421 - val_acc: 0.9880\n",
            "Epoch 2/10\n",
            "408/408 [==============================] - 64s 156ms/step - loss: 0.0296 - acc: 0.9907 - val_loss: 0.0279 - val_acc: 0.9906\n",
            "Epoch 3/10\n",
            "408/408 [==============================] - 64s 156ms/step - loss: 0.0199 - acc: 0.9932 - val_loss: 0.0253 - val_acc: 0.9911\n",
            "Epoch 4/10\n",
            "408/408 [==============================] - 63s 155ms/step - loss: 0.0163 - acc: 0.9942 - val_loss: 0.0245 - val_acc: 0.9913\n",
            "Epoch 5/10\n",
            "408/408 [==============================] - 63s 155ms/step - loss: 0.0142 - acc: 0.9950 - val_loss: 0.0244 - val_acc: 0.9915\n",
            "Epoch 6/10\n",
            "408/408 [==============================] - 63s 153ms/step - loss: 0.0124 - acc: 0.9956 - val_loss: 0.0250 - val_acc: 0.9913\n",
            "Epoch 7/10\n",
            "408/408 [==============================] - 62s 153ms/step - loss: 0.0108 - acc: 0.9963 - val_loss: 0.0257 - val_acc: 0.9913\n",
            "Epoch 8/10\n",
            "408/408 [==============================] - 63s 154ms/step - loss: 0.0093 - acc: 0.9969 - val_loss: 0.0270 - val_acc: 0.9911\n",
            "Epoch 9/10\n",
            "408/408 [==============================] - 63s 153ms/step - loss: 0.0079 - acc: 0.9974 - val_loss: 0.0285 - val_acc: 0.9909\n",
            "Epoch 10/10\n",
            "408/408 [==============================] - 63s 153ms/step - loss: 0.0067 - acc: 0.9979 - val_loss: 0.0305 - val_acc: 0.9907\n"
          ]
        }
      ]
    },
    {
      "cell_type": "code",
      "source": [
        "# visualise training history\n",
        "plt.plot(rnn_training.history['acc'])\n",
        "plt.plot(rnn_training.history['val_acc'])\n",
        "plt.title('model accuracy')\n",
        "plt.ylabel('accuracy')\n",
        "plt.xlabel('epoch')\n",
        "plt.legend(['train', 'test'], loc=\"lower right\")\n",
        "plt.show()"
      ],
      "metadata": {
        "id": "a8lNvqOemKHZ",
        "colab": {
          "base_uri": "https://localhost:8080/",
          "height": 295
        },
        "outputId": "7a133add-9a9e-4acb-88d1-252b1b43869b"
      },
      "execution_count": 62,
      "outputs": [
        {
          "output_type": "display_data",
          "data": {
            "image/png": "[encoded data removed]",
            "text/plain": [
              "<Figure size 432x288 with 1 Axes>"
            ]
          },
          "metadata": {
            "needs_background": "light"
          }
        }
      ]
    },
    {
      "cell_type": "markdown",
      "source": [
        "## here both accuracy and val accuracy are high by using the trainable weights"
      ],
      "metadata": {
        "id": "DQ2ml2_-ayTY"
      }
    },
    {
      "cell_type": "markdown",
      "source": [
        "# Using pre-trained embedding weights\n",
        "\n",
        "By taking the pre trained weights of Word2Vec which we have done before in this excercise. also we are allowe=ing them to be tweaked by doung trainabel =True"
      ],
      "metadata": {
        "id": "iD3ugsPbeYq6"
      }
    },
    {
      "cell_type": "code",
      "source": [
        "# create architecture\n",
        "\n",
        "rnn_model = Sequential()\n",
        "\n",
        "# create embedding layer - usually the first layer in text problems\n",
        "rnn_model.add(Embedding(input_dim     =  VOCABULARY_SIZE,         # vocabulary size - number of unique words in data\n",
        "                        output_dim    =  EMBEDDING_SIZE,          # length of vector with which each word is represented\n",
        "                        input_length  =  MAX_SEQ_LENGTH,          # length of input sequence\n",
        "                        weights       = [embedding_weights],      # word embedding matrix\n",
        "                        trainable     =  True                     # True - update the embeddings while training\n",
        "))\n",
        "\n",
        "# add an RNN layer which contains 64 RNN cells\n",
        "rnn_model.add(SimpleRNN(64, \n",
        "              return_sequences=True  # True - return whole sequence; False - return single output of the end of the sequence\n",
        "))\n",
        "\n",
        "# add time distributed (output at each sequence) layer\n",
        "rnn_model.add(TimeDistributed(Dense(NUM_CLASSES, activation='softmax')))"
      ],
      "metadata": {
        "id": "NSSzCVQZeWYg"
      },
      "execution_count": 66,
      "outputs": []
    },
    {
      "cell_type": "markdown",
      "source": [
        "## Compile model"
      ],
      "metadata": {
        "id": "e55CkIpMezai"
      }
    },
    {
      "cell_type": "code",
      "source": [
        "rnn_model.compile(loss      =  'categorical_crossentropy',\n",
        "                  optimizer =  'adam',\n",
        "                  metrics   =  ['acc'])\n",
        "rnn_model.summary()"
      ],
      "metadata": {
        "colab": {
          "base_uri": "https://localhost:8080/"
        },
        "id": "9TjkywGNeWIc",
        "outputId": "e609b220-fba4-45da-c522-48bbb655df19"
      },
      "execution_count": 67,
      "outputs": [
        {
          "output_type": "stream",
          "name": "stdout",
          "text": [
            "Model: \"sequential_3\"\n",
            "_________________________________________________________________\n",
            " Layer (type)                Output Shape              Param #   \n",
            "=================================================================\n",
            " embedding_3 (Embedding)     (None, 110, 300)          17834700  \n",
            "                                                                 \n",
            " simple_rnn_2 (SimpleRNN)    (None, 110, 64)           23360     \n",
            "                                                                 \n",
            " time_distributed_3 (TimeDis  (None, 110, 13)          845       \n",
            " tributed)                                                       \n",
            "                                                                 \n",
            "=================================================================\n",
            "Total params: 17,858,905\n",
            "Trainable params: 17,858,905\n",
            "Non-trainable params: 0\n",
            "_________________________________________________________________\n"
          ]
        }
      ]
    },
    {
      "cell_type": "markdown",
      "source": [
        "## Fit model"
      ],
      "metadata": {
        "id": "Bl6lwl4ke7XJ"
      }
    },
    {
      "cell_type": "code",
      "source": [
        "rnn_training = rnn_model.fit(X_train, Y_train, batch_size=128, epochs=10, validation_data=(X_validation, Y_validation))"
      ],
      "metadata": {
        "colab": {
          "base_uri": "https://localhost:8080/"
        },
        "id": "lljKuRFteVyT",
        "outputId": "96f96d6e-d635-47ae-e504-4b0a0f5c4d2f"
      },
      "execution_count": 68,
      "outputs": [
        {
          "output_type": "stream",
          "name": "stdout",
          "text": [
            "Epoch 1/10\n",
            "408/408 [==============================] - 69s 166ms/step - loss: 0.1753 - acc: 0.9648 - val_loss: 0.0329 - val_acc: 0.9897\n",
            "Epoch 2/10\n",
            "408/408 [==============================] - 67s 163ms/step - loss: 0.0250 - acc: 0.9917 - val_loss: 0.0252 - val_acc: 0.9913\n",
            "Epoch 3/10\n",
            "408/408 [==============================] - 66s 163ms/step - loss: 0.0184 - acc: 0.9935 - val_loss: 0.0235 - val_acc: 0.9916\n",
            "Epoch 4/10\n",
            "408/408 [==============================] - 66s 162ms/step - loss: 0.0156 - acc: 0.9944 - val_loss: 0.0230 - val_acc: 0.9918\n",
            "Epoch 5/10\n",
            "408/408 [==============================] - 66s 161ms/step - loss: 0.0137 - acc: 0.9951 - val_loss: 0.0230 - val_acc: 0.9918\n",
            "Epoch 6/10\n",
            "408/408 [==============================] - 66s 161ms/step - loss: 0.0121 - acc: 0.9957 - val_loss: 0.0234 - val_acc: 0.9919\n",
            "Epoch 7/10\n",
            "408/408 [==============================] - 66s 161ms/step - loss: 0.0107 - acc: 0.9963 - val_loss: 0.0242 - val_acc: 0.9917\n",
            "Epoch 8/10\n",
            "408/408 [==============================] - 65s 161ms/step - loss: 0.0093 - acc: 0.9968 - val_loss: 0.0252 - val_acc: 0.9916\n",
            "Epoch 9/10\n",
            "408/408 [==============================] - 66s 161ms/step - loss: 0.0081 - acc: 0.9973 - val_loss: 0.0265 - val_acc: 0.9914\n",
            "Epoch 10/10\n",
            "408/408 [==============================] - 66s 161ms/step - loss: 0.0069 - acc: 0.9977 - val_loss: 0.0282 - val_acc: 0.9912\n"
          ]
        }
      ]
    },
    {
      "cell_type": "code",
      "source": [
        "# visualise training history\n",
        "plt.plot(rnn_training.history['acc'])\n",
        "plt.plot(rnn_training.history['val_acc'])\n",
        "plt.title('model accuracy')\n",
        "plt.ylabel('accuracy')\n",
        "plt.xlabel('epoch')\n",
        "plt.legend(['train', 'test'], loc=\"lower right\")\n",
        "plt.show()"
      ],
      "metadata": {
        "colab": {
          "base_uri": "https://localhost:8080/",
          "height": 295
        },
        "id": "mG6K1OrTeVcd",
        "outputId": "d4e8f7a8-873f-4519-d08b-8a31b195ddfd"
      },
      "execution_count": 69,
      "outputs": [
        {
          "output_type": "display_data",
          "data": {
            "image/png": "[encoded data removed]",
            "text/plain": [
              "<Figure size 432x288 with 1 Axes>"
            ]
          },
          "metadata": {
            "needs_background": "light"
          }
        }
      ]
    },
    {
      "cell_type": "markdown",
      "source": [
        "## Here there is slight increase in the accuracy of validation and training dataset"
      ],
      "metadata": {
        "id": "RlpU53Ufhnog"
      }
    },
    {
      "cell_type": "markdown",
      "source": [
        "# 2. LSTM\n",
        "\n",
        "We'll use pre-trained word embeddings in following models and allow them to be updated as well. "
      ],
      "metadata": {
        "id": "1jBxbJkUa7QQ"
      }
    },
    {
      "cell_type": "markdown",
      "source": [
        "**Create model architecture**"
      ],
      "metadata": {
        "id": "vZRxckBHbBwD"
      }
    },
    {
      "cell_type": "code",
      "source": [
        "# create architecture\n",
        "\n",
        "lstm_model = Sequential()\n",
        "lstm_model.add(Embedding(input_dim     = VOCABULARY_SIZE,         # vocabulary size - number of unique words in data\n",
        "                         output_dim    = EMBEDDING_SIZE,          # length of vector with which each word is represented\n",
        "                         input_length  = MAX_SEQ_LENGTH,          # length of input sequence\n",
        "                         weights       = [embedding_weights],     # word embedding matrix\n",
        "                         trainable     = True                     # True - update embeddings_weight matrix\n",
        "))\n",
        "lstm_model.add(LSTM(64, return_sequences=True)) # using the LSTM Layer\n",
        "lstm_model.add(TimeDistributed(Dense(NUM_CLASSES, activation='softmax')))"
      ],
      "metadata": {
        "id": "zHgVd547aQDM"
      },
      "execution_count": 63,
      "outputs": []
    },
    {
      "cell_type": "markdown",
      "source": [
        "## Compile model"
      ],
      "metadata": {
        "id": "xhj18QTRdNrR"
      }
    },
    {
      "cell_type": "code",
      "source": [
        "lstm_model.compile(loss      =  'categorical_crossentropy',\n",
        "                   optimizer =  'adam',\n",
        "                   metrics   =  ['acc'])\n",
        "lstm_model.summary()"
      ],
      "metadata": {
        "colab": {
          "base_uri": "https://localhost:8080/"
        },
        "id": "E38AQMNSdKc2",
        "outputId": "0df57b1f-6d8c-4879-9c9a-bf4882457038"
      },
      "execution_count": 64,
      "outputs": [
        {
          "output_type": "stream",
          "name": "stdout",
          "text": [
            "Model: \"sequential_2\"\n",
            "_________________________________________________________________\n",
            " Layer (type)                Output Shape              Param #   \n",
            "=================================================================\n",
            " embedding_2 (Embedding)     (None, 110, 300)          17834700  \n",
            "                                                                 \n",
            " lstm (LSTM)                 (None, 110, 64)           93440     \n",
            "                                                                 \n",
            " time_distributed_2 (TimeDis  (None, 110, 13)          845       \n",
            " tributed)                                                       \n",
            "                                                                 \n",
            "=================================================================\n",
            "Total params: 17,928,985\n",
            "Trainable params: 17,928,985\n",
            "Non-trainable params: 0\n",
            "_________________________________________________________________\n"
          ]
        }
      ]
    },
    {
      "cell_type": "markdown",
      "source": [
        "# Fit the model"
      ],
      "metadata": {
        "id": "sYwN6W-cdk8c"
      }
    },
    {
      "cell_type": "code",
      "source": [
        "lstm_training = lstm_model.fit(X_train, Y_train, batch_size=128, epochs=10, validation_data=(X_validation, Y_validation))"
      ],
      "metadata": {
        "colab": {
          "base_uri": "https://localhost:8080/"
        },
        "id": "i5tLiHTCdemi",
        "outputId": "8c7dbac6-1153-41ed-cc0d-bc6353013675"
      },
      "execution_count": 65,
      "outputs": [
        {
          "output_type": "stream",
          "name": "stdout",
          "text": [
            "Epoch 1/10\n",
            "408/408 [==============================] - 21s 41ms/step - loss: 0.2795 - acc: 0.9403 - val_loss: 0.0449 - val_acc: 0.9883\n",
            "Epoch 2/10\n",
            "408/408 [==============================] - 16s 39ms/step - loss: 0.0317 - acc: 0.9904 - val_loss: 0.0275 - val_acc: 0.9907\n",
            "Epoch 3/10\n",
            "408/408 [==============================] - 16s 39ms/step - loss: 0.0218 - acc: 0.9925 - val_loss: 0.0241 - val_acc: 0.9915\n",
            "Epoch 4/10\n",
            "408/408 [==============================] - 16s 39ms/step - loss: 0.0183 - acc: 0.9934 - val_loss: 0.0229 - val_acc: 0.9918\n",
            "Epoch 5/10\n",
            "408/408 [==============================] - 16s 39ms/step - loss: 0.0164 - acc: 0.9940 - val_loss: 0.0223 - val_acc: 0.9920\n",
            "Epoch 6/10\n",
            "408/408 [==============================] - 16s 39ms/step - loss: 0.0150 - acc: 0.9945 - val_loss: 0.0221 - val_acc: 0.9921\n",
            "Epoch 7/10\n",
            "408/408 [==============================] - 16s 39ms/step - loss: 0.0138 - acc: 0.9949 - val_loss: 0.0221 - val_acc: 0.9922\n",
            "Epoch 8/10\n",
            "408/408 [==============================] - 16s 39ms/step - loss: 0.0126 - acc: 0.9953 - val_loss: 0.0223 - val_acc: 0.9922\n",
            "Epoch 9/10\n",
            "408/408 [==============================] - 17s 41ms/step - loss: 0.0115 - acc: 0.9958 - val_loss: 0.0227 - val_acc: 0.9922\n",
            "Epoch 10/10\n",
            "408/408 [==============================] - 16s 39ms/step - loss: 0.0102 - acc: 0.9964 - val_loss: 0.0233 - val_acc: 0.9922\n"
          ]
        }
      ]
    },
    {
      "cell_type": "code",
      "source": [
        "# visualise training history\n",
        "plt.plot(lstm_training.history['acc'])\n",
        "plt.plot(lstm_training.history['val_acc'])\n",
        "plt.title('model accuracy')\n",
        "plt.ylabel('accuracy')\n",
        "plt.xlabel('epoch')\n",
        "plt.legend(['train', 'test'], loc=\"lower right\")\n",
        "plt.show()"
      ],
      "metadata": {
        "colab": {
          "base_uri": "https://localhost:8080/",
          "height": 295
        },
        "id": "HirT7yZadm-h",
        "outputId": "1563ac1e-556f-48ae-9016-6b5793f88f3d"
      },
      "execution_count": 70,
      "outputs": [
        {
          "output_type": "display_data",
          "data": {
            "image/png": "[encoded data removed]",
            "text/plain": [
              "<Figure size 432x288 with 1 Axes>"
            ]
          },
          "metadata": {
            "needs_background": "light"
          }
        }
      ]
    },
    {
      "cell_type": "markdown",
      "source": [
        "## using LSTM there is further increase in VAL and TRAIN accuracy"
      ],
      "metadata": {
        "id": "APqQ4I1niC7h"
      }
    },
    {
      "cell_type": "markdown",
      "source": [
        "# 3. GRU\n",
        "### Create model architecture"
      ],
      "metadata": {
        "id": "JFL64YSpic4a"
      }
    },
    {
      "cell_type": "code",
      "source": [
        "# create architecture\n",
        "\n",
        "gru_model = Sequential()\n",
        "gru_model.add(Embedding(input_dim     = VOCABULARY_SIZE,\n",
        "                        output_dim    = EMBEDDING_SIZE,\n",
        "                        input_length  = MAX_SEQ_LENGTH,\n",
        "                        weights       = [embedding_weights],\n",
        "                        trainable     = True\n",
        "))\n",
        "gru_model.add(GRU(64, return_sequences=True)) ## using the GRU layer\n",
        "gru_model.add(TimeDistributed(Dense(NUM_CLASSES, activation='softmax')))"
      ],
      "metadata": {
        "id": "Ejvzh7weiAts"
      },
      "execution_count": 71,
      "outputs": []
    },
    {
      "cell_type": "markdown",
      "source": [
        "## Compile model"
      ],
      "metadata": {
        "id": "_5kwLEqRioYI"
      }
    },
    {
      "cell_type": "code",
      "source": [
        "gru_model.compile(loss='categorical_crossentropy',\n",
        "              optimizer='adam',\n",
        "              metrics=['acc'])\n",
        "\n",
        "# check summary of model\n",
        "gru_model.summary()"
      ],
      "metadata": {
        "colab": {
          "base_uri": "https://localhost:8080/"
        },
        "id": "2G8H-QCYik6V",
        "outputId": "0d881308-a180-4c8e-a810-ae8c8629ba7f"
      },
      "execution_count": 72,
      "outputs": [
        {
          "output_type": "stream",
          "name": "stdout",
          "text": [
            "Model: \"sequential_4\"\n",
            "_________________________________________________________________\n",
            " Layer (type)                Output Shape              Param #   \n",
            "=================================================================\n",
            " embedding_4 (Embedding)     (None, 110, 300)          17834700  \n",
            "                                                                 \n",
            " gru (GRU)                   (None, 110, 64)           70272     \n",
            "                                                                 \n",
            " time_distributed_4 (TimeDis  (None, 110, 13)          845       \n",
            " tributed)                                                       \n",
            "                                                                 \n",
            "=================================================================\n",
            "Total params: 17,905,817\n",
            "Trainable params: 17,905,817\n",
            "Non-trainable params: 0\n",
            "_________________________________________________________________\n"
          ]
        }
      ]
    },
    {
      "cell_type": "markdown",
      "source": [
        "## Fit the model"
      ],
      "metadata": {
        "id": "FktEABpriwbI"
      }
    },
    {
      "cell_type": "code",
      "source": [
        "gru_training = gru_model.fit(X_train, Y_train, batch_size=128, epochs=10, validation_data=(X_validation, Y_validation))"
      ],
      "metadata": {
        "colab": {
          "base_uri": "https://localhost:8080/"
        },
        "id": "10RPwomYisds",
        "outputId": "094f74a1-76e0-4e62-a215-af14ab3bff2b"
      },
      "execution_count": 73,
      "outputs": [
        {
          "output_type": "stream",
          "name": "stdout",
          "text": [
            "Epoch 1/10\n",
            "408/408 [==============================] - 19s 41ms/step - loss: 0.2008 - acc: 0.9629 - val_loss: 0.0320 - val_acc: 0.9898\n",
            "Epoch 2/10\n",
            "408/408 [==============================] - 16s 39ms/step - loss: 0.0249 - acc: 0.9913 - val_loss: 0.0244 - val_acc: 0.9912\n",
            "Epoch 3/10\n",
            "408/408 [==============================] - 16s 39ms/step - loss: 0.0189 - acc: 0.9931 - val_loss: 0.0224 - val_acc: 0.9918\n",
            "Epoch 4/10\n",
            "408/408 [==============================] - 16s 39ms/step - loss: 0.0164 - acc: 0.9939 - val_loss: 0.0217 - val_acc: 0.9921\n",
            "Epoch 5/10\n",
            "408/408 [==============================] - 16s 39ms/step - loss: 0.0149 - acc: 0.9944 - val_loss: 0.0214 - val_acc: 0.9922\n",
            "Epoch 6/10\n",
            "408/408 [==============================] - 16s 39ms/step - loss: 0.0138 - acc: 0.9948 - val_loss: 0.0216 - val_acc: 0.9923\n",
            "Epoch 7/10\n",
            "408/408 [==============================] - 16s 39ms/step - loss: 0.0128 - acc: 0.9952 - val_loss: 0.0218 - val_acc: 0.9923\n",
            "Epoch 8/10\n",
            "408/408 [==============================] - 16s 39ms/step - loss: 0.0118 - acc: 0.9956 - val_loss: 0.0220 - val_acc: 0.9923\n",
            "Epoch 9/10\n",
            "408/408 [==============================] - 16s 39ms/step - loss: 0.0109 - acc: 0.9959 - val_loss: 0.0226 - val_acc: 0.9922\n",
            "Epoch 10/10\n",
            "408/408 [==============================] - 16s 39ms/step - loss: 0.0099 - acc: 0.9963 - val_loss: 0.0233 - val_acc: 0.9923\n"
          ]
        }
      ]
    },
    {
      "cell_type": "code",
      "source": [
        "# visualise training history\n",
        "plt.plot(gru_training.history['acc'])\n",
        "plt.plot(gru_training.history['val_acc'])\n",
        "plt.title('model accuracy')\n",
        "plt.ylabel('accuracy')\n",
        "plt.xlabel('epoch')\n",
        "plt.legend(['train', 'test'], loc=\"lower right\")\n",
        "plt.show()"
      ],
      "metadata": {
        "colab": {
          "base_uri": "https://localhost:8080/",
          "height": 295
        },
        "id": "-n8Dvk5Oixes",
        "outputId": "a283e410-95e7-4c63-bbf3-04b20f36776c"
      },
      "execution_count": 74,
      "outputs": [
        {
          "output_type": "display_data",
          "data": {
            "image/png": "[encoded data removed]",
            "text/plain": [
              "<Figure size 432x288 with 1 Axes>"
            ]
          },
          "metadata": {
            "needs_background": "light"
          }
        }
      ]
    },
    {
      "cell_type": "markdown",
      "source": [
        "#### Trainable params: 17,928,985 in LSTM\n",
        "#### Trainable params: 17,905,817 in GRU\n",
        "**As we know GRU is more simpler model compared to lSTM, So it has less trainable parameters and faster to execute then LSTM**\n"
      ],
      "metadata": {
        "id": "87oJ6XA2j4mQ"
      }
    },
    {
      "cell_type": "markdown",
      "source": [
        "# 4. Bidirectional LSTM\n",
        "\n",
        "## Create model architecture"
      ],
      "metadata": {
        "id": "Ua7QG6F_lcL1"
      }
    },
    {
      "cell_type": "code",
      "source": [
        "# create architecture\n",
        "\n",
        "bidirect_model = Sequential()\n",
        "bidirect_model.add(Embedding(input_dim     = VOCABULARY_SIZE,\n",
        "                             output_dim    = EMBEDDING_SIZE,\n",
        "                             input_length  = MAX_SEQ_LENGTH,\n",
        "                             weights       = [embedding_weights],\n",
        "                             trainable     = True\n",
        "))\n",
        "bidirect_model.add(Bidirectional(LSTM(64, return_sequences=True))) ## using BIDERCTIONAL LSTM \n",
        "bidirect_model.add(TimeDistributed(Dense(NUM_CLASSES, activation='softmax')))"
      ],
      "metadata": {
        "id": "ye0aVwVjjoIM"
      },
      "execution_count": 75,
      "outputs": []
    },
    {
      "cell_type": "markdown",
      "source": [
        "## Compile the Model"
      ],
      "metadata": {
        "id": "bynSSm44lnvR"
      }
    },
    {
      "cell_type": "code",
      "source": [
        "bidirect_model.compile(loss='categorical_crossentropy',\n",
        "              optimizer='adam',\n",
        "              metrics=['acc'])\n",
        "bidirect_model.summary()"
      ],
      "metadata": {
        "colab": {
          "base_uri": "https://localhost:8080/"
        },
        "id": "f-xPO5O-llDX",
        "outputId": "48fd107c-3850-4d25-b7c5-c5fd89654bae"
      },
      "execution_count": 76,
      "outputs": [
        {
          "output_type": "stream",
          "name": "stdout",
          "text": [
            "Model: \"sequential_5\"\n",
            "_________________________________________________________________\n",
            " Layer (type)                Output Shape              Param #   \n",
            "=================================================================\n",
            " embedding_5 (Embedding)     (None, 110, 300)          17834700  \n",
            "                                                                 \n",
            " bidirectional (Bidirectiona  (None, 110, 128)         186880    \n",
            " l)                                                              \n",
            "                                                                 \n",
            " time_distributed_5 (TimeDis  (None, 110, 13)          1677      \n",
            " tributed)                                                       \n",
            "                                                                 \n",
            "=================================================================\n",
            "Total params: 18,023,257\n",
            "Trainable params: 18,023,257\n",
            "Non-trainable params: 0\n",
            "_________________________________________________________________\n"
          ]
        }
      ]
    },
    {
      "cell_type": "markdown",
      "source": [
        "## Fit the Model"
      ],
      "metadata": {
        "id": "zWEeO4lXlyHD"
      }
    },
    {
      "cell_type": "code",
      "source": [
        "bidirect_training = bidirect_model.fit(X_train, Y_train, batch_size=128, epochs=10, validation_data=(X_validation, Y_validation))"
      ],
      "metadata": {
        "colab": {
          "base_uri": "https://localhost:8080/"
        },
        "id": "EJBcG6-NlsC_",
        "outputId": "e60b4251-4143-4f25-9aca-7eab06537c5e"
      },
      "execution_count": 77,
      "outputs": [
        {
          "output_type": "stream",
          "name": "stdout",
          "text": [
            "Epoch 1/10\n",
            "408/408 [==============================] - 33s 68ms/step - loss: 0.2296 - acc: 0.9471 - val_loss: 0.0297 - val_acc: 0.9910\n",
            "Epoch 2/10\n",
            "408/408 [==============================] - 27s 66ms/step - loss: 0.0217 - acc: 0.9931 - val_loss: 0.0200 - val_acc: 0.9934\n",
            "Epoch 3/10\n",
            "408/408 [==============================] - 27s 66ms/step - loss: 0.0147 - acc: 0.9951 - val_loss: 0.0176 - val_acc: 0.9940\n",
            "Epoch 4/10\n",
            "408/408 [==============================] - 27s 66ms/step - loss: 0.0117 - acc: 0.9961 - val_loss: 0.0167 - val_acc: 0.9943\n",
            "Epoch 5/10\n",
            "408/408 [==============================] - 27s 66ms/step - loss: 0.0097 - acc: 0.9967 - val_loss: 0.0164 - val_acc: 0.9945\n",
            "Epoch 6/10\n",
            "408/408 [==============================] - 27s 66ms/step - loss: 0.0081 - acc: 0.9973 - val_loss: 0.0162 - val_acc: 0.9946\n",
            "Epoch 7/10\n",
            "408/408 [==============================] - 27s 66ms/step - loss: 0.0066 - acc: 0.9979 - val_loss: 0.0168 - val_acc: 0.9946\n",
            "Epoch 8/10\n",
            "408/408 [==============================] - 27s 66ms/step - loss: 0.0052 - acc: 0.9984 - val_loss: 0.0171 - val_acc: 0.9946\n",
            "Epoch 9/10\n",
            "408/408 [==============================] - 27s 66ms/step - loss: 0.0041 - acc: 0.9988 - val_loss: 0.0180 - val_acc: 0.9946\n",
            "Epoch 10/10\n",
            "408/408 [==============================] - 27s 66ms/step - loss: 0.0031 - acc: 0.9991 - val_loss: 0.0191 - val_acc: 0.9945\n"
          ]
        }
      ]
    },
    {
      "cell_type": "code",
      "source": [
        "# visualise training history\n",
        "plt.plot(bidirect_training.history['acc'])\n",
        "plt.plot(bidirect_training.history['val_acc'])\n",
        "plt.title('model accuracy')\n",
        "plt.ylabel('accuracy')\n",
        "plt.xlabel('epoch')\n",
        "plt.legend(['train', 'test'], loc=\"lower right\")\n",
        "plt.show()"
      ],
      "metadata": {
        "colab": {
          "base_uri": "https://localhost:8080/",
          "height": 295
        },
        "id": "ghm29I6JlxM1",
        "outputId": "b05703ca-0cb5-427d-a913-a28643fcae9d"
      },
      "execution_count": 78,
      "outputs": [
        {
          "output_type": "display_data",
          "data": {
            "image/png": "[encoded data removed]",
            "text/plain": [
              "<Figure size 432x288 with 1 Axes>"
            ]
          },
          "metadata": {
            "needs_background": "light"
          }
        }
      ]
    },
    {
      "cell_type": "markdown",
      "source": [
        "#### acc: 0.9991, val_acc: 0.9945.. Here we see the accuracy exponentially increased using Bidirectional"
      ],
      "metadata": {
        "id": "y6s7gP7BnMGf"
      }
    },
    {
      "cell_type": "markdown",
      "source": [
        "# 4. Bidirectional GRU\n",
        "\n",
        "## Create model architecture"
      ],
      "metadata": {
        "id": "bNGWIbybnb4U"
      }
    },
    {
      "cell_type": "code",
      "source": [
        "# create architecture\n",
        "\n",
        "bidirect_gru = Sequential()\n",
        "bidirect_gru.add(Embedding(input_dim     = VOCABULARY_SIZE,\n",
        "                             output_dim    = EMBEDDING_SIZE,\n",
        "                             input_length  = MAX_SEQ_LENGTH,\n",
        "                             weights       = [embedding_weights],\n",
        "                             trainable     = True\n",
        "))\n",
        "bidirect_gru.add(Bidirectional(GRU(64, return_sequences=True))) ## Using bideirectional GRU\n",
        "bidirect_gru.add(TimeDistributed(Dense(NUM_CLASSES, activation='softmax')))"
      ],
      "metadata": {
        "id": "ZOyTTux4nGWu"
      },
      "execution_count": 79,
      "outputs": []
    },
    {
      "cell_type": "markdown",
      "source": [
        "## Compile the model"
      ],
      "metadata": {
        "id": "MkdCAWzEn0es"
      }
    },
    {
      "cell_type": "code",
      "source": [
        "bidirect_gru.compile(loss='categorical_crossentropy',\n",
        "              optimizer='adam',\n",
        "              metrics=['acc'])\n",
        "bidirect_gru.summary()"
      ],
      "metadata": {
        "colab": {
          "base_uri": "https://localhost:8080/"
        },
        "id": "YrCT_UgCnxFU",
        "outputId": "d3f146e3-d03e-4a5a-83fe-667012e42397"
      },
      "execution_count": 80,
      "outputs": [
        {
          "output_type": "stream",
          "name": "stdout",
          "text": [
            "Model: \"sequential_6\"\n",
            "_________________________________________________________________\n",
            " Layer (type)                Output Shape              Param #   \n",
            "=================================================================\n",
            " embedding_6 (Embedding)     (None, 110, 300)          17834700  \n",
            "                                                                 \n",
            " bidirectional_1 (Bidirectio  (None, 110, 128)         140544    \n",
            " nal)                                                            \n",
            "                                                                 \n",
            " time_distributed_6 (TimeDis  (None, 110, 13)          1677      \n",
            " tributed)                                                       \n",
            "                                                                 \n",
            "=================================================================\n",
            "Total params: 17,976,921\n",
            "Trainable params: 17,976,921\n",
            "Non-trainable params: 0\n",
            "_________________________________________________________________\n"
          ]
        }
      ]
    },
    {
      "cell_type": "code",
      "source": [
        "bidirect_training_gru = bidirect_gru.fit(X_train, Y_train, batch_size=128, epochs=10, validation_data=(X_validation, Y_validation))"
      ],
      "metadata": {
        "colab": {
          "base_uri": "https://localhost:8080/"
        },
        "id": "bZZGravdn64I",
        "outputId": "55691940-926e-4e94-9d15-26677df112e8"
      },
      "execution_count": 81,
      "outputs": [
        {
          "output_type": "stream",
          "name": "stdout",
          "text": [
            "Epoch 1/10\n",
            "408/408 [==============================] - 31s 67ms/step - loss: 0.1648 - acc: 0.9691 - val_loss: 0.0230 - val_acc: 0.9923\n",
            "Epoch 2/10\n",
            "408/408 [==============================] - 26s 64ms/step - loss: 0.0176 - acc: 0.9941 - val_loss: 0.0178 - val_acc: 0.9939\n",
            "Epoch 3/10\n",
            "408/408 [==============================] - 27s 66ms/step - loss: 0.0127 - acc: 0.9957 - val_loss: 0.0166 - val_acc: 0.9943\n",
            "Epoch 4/10\n",
            "408/408 [==============================] - 27s 65ms/step - loss: 0.0103 - acc: 0.9965 - val_loss: 0.0161 - val_acc: 0.9945\n",
            "Epoch 5/10\n",
            "408/408 [==============================] - 26s 65ms/step - loss: 0.0087 - acc: 0.9970 - val_loss: 0.0161 - val_acc: 0.9946\n",
            "Epoch 6/10\n",
            "408/408 [==============================] - 27s 65ms/step - loss: 0.0074 - acc: 0.9975 - val_loss: 0.0163 - val_acc: 0.9947\n",
            "Epoch 7/10\n",
            "408/408 [==============================] - 26s 65ms/step - loss: 0.0063 - acc: 0.9979 - val_loss: 0.0168 - val_acc: 0.9947\n",
            "Epoch 8/10\n",
            "408/408 [==============================] - 26s 65ms/step - loss: 0.0053 - acc: 0.9983 - val_loss: 0.0174 - val_acc: 0.9946\n",
            "Epoch 9/10\n",
            "408/408 [==============================] - 27s 65ms/step - loss: 0.0043 - acc: 0.9986 - val_loss: 0.0184 - val_acc: 0.9947\n",
            "Epoch 10/10\n",
            "408/408 [==============================] - 27s 65ms/step - loss: 0.0035 - acc: 0.9989 - val_loss: 0.0192 - val_acc: 0.9946\n"
          ]
        }
      ]
    },
    {
      "cell_type": "code",
      "source": [
        "# visualise training history\n",
        "plt.plot(bidirect_training_gru.history['acc'])\n",
        "plt.plot(bidirect_training_gru.history['val_acc'])\n",
        "plt.title('model accuracy')\n",
        "plt.ylabel('accuracy')\n",
        "plt.xlabel('epoch')\n",
        "plt.legend(['train', 'test'], loc=\"lower right\")\n",
        "plt.show()"
      ],
      "metadata": {
        "colab": {
          "base_uri": "https://localhost:8080/",
          "height": 295
        },
        "id": "LMAX3bZyoYsB",
        "outputId": "073defe8-d93d-4513-c12f-650c2d205314"
      },
      "execution_count": 82,
      "outputs": [
        {
          "output_type": "display_data",
          "data": {
            "image/png": "[encoded data removed]",
            "text/plain": [
              "<Figure size 432x288 with 1 Axes>"
            ]
          },
          "metadata": {
            "needs_background": "light"
          }
        }
      ]
    },
    {
      "cell_type": "markdown",
      "source": [
        "# 5. Model evaluation"
      ],
      "metadata": {
        "id": "xefJWa7Rpt5H"
      }
    },
    {
      "cell_type": "markdown",
      "source": [
        "**For RNN model**"
      ],
      "metadata": {
        "id": "rcfFyzE-pzHi"
      }
    },
    {
      "cell_type": "code",
      "source": [
        "loss, accuracy = rnn_model.evaluate(X_test, Y_test, verbose = 1)\n",
        "print(\"Loss: {0},\\nAccuracy: {1}\".format(loss, accuracy))"
      ],
      "metadata": {
        "colab": {
          "base_uri": "https://localhost:8080/"
        },
        "id": "GUhNqsK6pqKm",
        "outputId": "0bb208a0-149a-4f7e-e5f4-dc973e8225ae"
      },
      "execution_count": 83,
      "outputs": [
        {
          "output_type": "stream",
          "name": "stdout",
          "text": [
            "339/339 [==============================] - 8s 25ms/step - loss: 0.0281 - acc: 0.9914\n",
            "Loss: 0.028060179203748703,\n",
            "Accuracy: 0.9913816452026367\n"
          ]
        }
      ]
    },
    {
      "cell_type": "markdown",
      "source": [
        "**For LSTM model**"
      ],
      "metadata": {
        "id": "fj8NSDHPp5h9"
      }
    },
    {
      "cell_type": "code",
      "source": [
        "loss, accuracy = lstm_model.evaluate(X_test, Y_test, verbose = 1)\n",
        "print(\"Loss: {0},\\nAccuracy: {1}\".format(loss, accuracy))"
      ],
      "metadata": {
        "colab": {
          "base_uri": "https://localhost:8080/"
        },
        "id": "sEvNVyHZpxdb",
        "outputId": "b6ec661c-c223-4327-b9c0-b2df6cf90560"
      },
      "execution_count": 84,
      "outputs": [
        {
          "output_type": "stream",
          "name": "stdout",
          "text": [
            "339/339 [==============================] - 4s 11ms/step - loss: 0.0233 - acc: 0.9922\n",
            "Loss: 0.023281970992684364,\n",
            "Accuracy: 0.9922058582305908\n"
          ]
        }
      ]
    },
    {
      "cell_type": "markdown",
      "source": [
        "**For GRU model**"
      ],
      "metadata": {
        "id": "yNYFwZ_HqA3P"
      }
    },
    {
      "cell_type": "code",
      "source": [
        "loss, accuracy = gru_model.evaluate(X_test, Y_test, verbose = 1)\n",
        "print(\"Loss: {0},\\nAccuracy: {1}\".format(loss, accuracy))"
      ],
      "metadata": {
        "colab": {
          "base_uri": "https://localhost:8080/"
        },
        "id": "I8vfMkqRp8W6",
        "outputId": "384d13ec-867a-4bdd-d4f0-c1a8c7185845"
      },
      "execution_count": 85,
      "outputs": [
        {
          "output_type": "stream",
          "name": "stdout",
          "text": [
            "339/339 [==============================] - 4s 11ms/step - loss: 0.0232 - acc: 0.9922\n",
            "Loss: 0.023225510492920876,\n",
            "Accuracy: 0.9922260046005249\n"
          ]
        }
      ]
    },
    {
      "cell_type": "markdown",
      "source": [
        "**For Bidirectional LSTM**"
      ],
      "metadata": {
        "id": "FCsuyt0JqG6m"
      }
    },
    {
      "cell_type": "code",
      "source": [
        "loss, accuracy = bidirect_model.evaluate(X_test, Y_test, verbose = 1)\n",
        "print(\"Loss: {0},\\nAccuracy: {1}\".format(loss, accuracy))"
      ],
      "metadata": {
        "colab": {
          "base_uri": "https://localhost:8080/"
        },
        "id": "d4I7pjdSp_fj",
        "outputId": "5185756d-0650-48f8-df4d-73bba9c0ab2a"
      },
      "execution_count": 86,
      "outputs": [
        {
          "output_type": "stream",
          "name": "stdout",
          "text": [
            "339/339 [==============================] - 7s 20ms/step - loss: 0.0193 - acc: 0.9945\n",
            "Loss: 0.019281139597296715,\n",
            "Accuracy: 0.9945417642593384\n"
          ]
        }
      ]
    },
    {
      "cell_type": "markdown",
      "source": [
        "**For Bidirectional GRU**"
      ],
      "metadata": {
        "id": "J7lieujOqMu-"
      }
    },
    {
      "cell_type": "code",
      "source": [
        "loss, accuracy = bidirect_gru.evaluate(X_test, Y_test, verbose = 1)\n",
        "print(\"Loss: {0},\\nAccuracy: {1}\".format(loss, accuracy))"
      ],
      "metadata": {
        "colab": {
          "base_uri": "https://localhost:8080/"
        },
        "id": "tTdxMJQgqMdC",
        "outputId": "1021082a-f77d-4f74-b7a2-5401d04e5e1f"
      },
      "execution_count": 87,
      "outputs": [
        {
          "output_type": "stream",
          "name": "stdout",
          "text": [
            "339/339 [==============================] - 7s 20ms/step - loss: 0.0192 - acc: 0.9945\n",
            "Loss: 0.019223451614379883,\n",
            "Accuracy: 0.9945107102394104\n"
          ]
        }
      ]
    },
    {
      "cell_type": "code",
      "source": [
        ""
      ],
      "metadata": {
        "id": "w9wErWzjqGBK"
      },
      "execution_count": null,
      "outputs": []
    }
  ],
  "metadata": {
    "accelerator": "GPU",
    "colab": {
      "collapsed_sections": [],
      "name": "RNN POS_Tagging.ipynb",
      "provenance": []
    },
    "kernelspec": {
      "display_name": "Python 3",
      "name": "python3"
    },
    "language_info": {
      "name": "python"
    }
  },
  "nbformat": 4,
  "nbformat_minor": 0
}