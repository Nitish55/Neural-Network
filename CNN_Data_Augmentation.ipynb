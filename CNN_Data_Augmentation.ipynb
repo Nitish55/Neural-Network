{
 "cells": [
  {
   "cell_type": "code",
   "execution_count": 1,
   "metadata": {},
   "outputs": [],
   "source": [
    "import keras"
   ]
  },
  {
   "cell_type": "markdown",
   "metadata": {},
   "source": [
    "# Data Augmentation using keras"
   ]
  },
  {
   "cell_type": "code",
   "execution_count": 2,
   "metadata": {},
   "outputs": [],
   "source": [
    "from keras.preprocessing.image import ImageDataGenerator,array_to_img,img_to_array,load_img\n",
    "datagen=ImageDataGenerator(\n",
    "    rotation_range=40,\n",
    "    width_shift_range=0.2,\n",
    "    height_shift_range=0.2,\n",
    "    shear_range=0.2,\n",
    "    zoom_range=0.2,\n",
    "    horizontal_flip=True,\n",
    "    fill_mode=\"nearest\")\n",
    "img=load_img(\"Cat_or_dog/cat_or_dog_1.jpg\")\n",
    "x=img_to_array(img)        #This is a numpy array with shape(1,3,150,150)\n",
    "x=x.reshape((1,)+x.shape) # here 3 is the chhanel, 150*150 is the pixel.\n",
    "                            # Here the image is represnted in 4-d , thats why we put 1 in (1,3,150,150)\n",
    "# The flow command below generate batches of randomly generated images and save the result in the directory mentioned in\n",
    "# save_to_dir=\"any_name\"\n",
    "i=0\n",
    "for batch in datagen.flow(x,batch_size=1,\n",
    "                         save_to_dir=\"image_aug\",save_prefix=\"dog\",save_format=\"jpeg\" ):\n",
    "    i+=1\n",
    "    if i>20:\n",
    "        break # otherwise the loop will go infinite\n",
    "    \n",
    "    "
   ]
  },
  {
   "cell_type": "code",
   "execution_count": null,
   "metadata": {},
   "outputs": [],
   "source": []
  }
 ],
 "metadata": {
  "kernelspec": {
   "display_name": "Python 3",
   "language": "python",
   "name": "python3"
  },
  "language_info": {
   "codemirror_mode": {
    "name": "ipython",
    "version": 3
   },
   "file_extension": ".py",
   "mimetype": "text/x-python",
   "name": "python",
   "nbconvert_exporter": "python",
   "pygments_lexer": "ipython3",
   "version": "3.7.6"
  }
 },
 "nbformat": 4,
 "nbformat_minor": 4
}
