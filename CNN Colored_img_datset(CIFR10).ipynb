{
  "nbformat": 4,
  "nbformat_minor": 0,
  "metadata": {
    "colab": {
      "name": "Cifr10+CNN.ipynb",
      "provenance": [],
      "collapsed_sections": []
    },
    "kernelspec": {
      "name": "python3",
      "display_name": "Python 3"
    },
    "language_info": {
      "name": "python"
    },
    "accelerator": "GPU"
  },
  "cells": [
    {
      "cell_type": "code",
      "execution_count": 1,
      "metadata": {
        "id": "kJg8hGxrn8sg"
      },
      "outputs": [],
      "source": [
        "# import libraries\n",
        "from __future__ import print_function\n",
        "import keras\n",
        "from keras.datasets import cifar10\n",
        "from keras.preprocessing.image import ImageDataGenerator\n",
        "from keras.models import Sequential\n",
        "from keras.layers import Dense, Dropout, Activation, Flatten\n",
        "from keras.layers import Conv2D, MaxPooling2D\n",
        "import numpy as np\n",
        "from tensorflow.keras.layers import BatchNormalization\n",
        "import os\n",
        "from keras import utils as np_utils\n",
        "import matplotlib.pyplot as plt\n",
        "%matplotlib inline"
      ]
    },
    {
      "cell_type": "code",
      "source": [
        "# The data, split between train and test sets:\n",
        "(x_train, y_train), (x_test, y_test) = cifar10.load_data()\n",
        "print('x_train shape:', x_train.shape)\n",
        "print(\"-\"*100)\n",
        "print('y_train shape:', y_train.shape)\n",
        "print(\"-\"*100)\n",
        "print('x_test shape:', x_test.shape)\n",
        "print(\"-\"*100)\n",
        "print('y_test shape:', y_test.shape)\n",
        "print(\"-\"*100)\n",
        "print(x_train.shape[0], 'train samples')\n",
        "print(\"-\"*100)\n",
        "print(x_test.shape[0], 'test samples')"
      ],
      "metadata": {
        "colab": {
          "base_uri": "https://localhost:8080/"
        },
        "id": "GswH5qJqoDrs",
        "outputId": "6c483721-4e2c-4497-87d9-155fcd4e434f"
      },
      "execution_count": 73,
      "outputs": [
        {
          "output_type": "stream",
          "name": "stdout",
          "text": [
            "x_train shape: (50000, 32, 32, 3)\n",
            "----------------------------------------------------------------------------------------------------\n",
            "y_train shape: (50000, 1)\n",
            "----------------------------------------------------------------------------------------------------\n",
            "x_test shape: (10000, 32, 32, 3)\n",
            "----------------------------------------------------------------------------------------------------\n",
            "y_test shape: (10000, 1)\n",
            "----------------------------------------------------------------------------------------------------\n",
            "50000 train samples\n",
            "----------------------------------------------------------------------------------------------------\n",
            "10000 test samples\n"
          ]
        }
      ]
    },
    {
      "cell_type": "code",
      "source": [
        "# checking the images\n",
        "fig = plt.figure(figsize=(8,3))\n",
        "plt.imshow(x_train[9])"
      ],
      "metadata": {
        "colab": {
          "base_uri": "https://localhost:8080/",
          "height": 229
        },
        "id": "TWzk1sWHoRx4",
        "outputId": "87b1a176-348a-43b2-a5f8-c7110e49ee20"
      },
      "execution_count": 3,
      "outputs": [
        {
          "output_type": "execute_result",
          "data": {
            "text/plain": [
              "<matplotlib.image.AxesImage at 0x7fd2e4f03450>"
            ]
          },
          "metadata": {},
          "execution_count": 3
        },
        {
          "output_type": "display_data",
          "data": {
            "image/png": "[encoded data removed]",
            "text/plain": [
              "<Figure size 576x216 with 1 Axes>"
            ]
          },
          "metadata": {
            "needs_background": "light"
          }
        }
      ]
    },
    {
      "cell_type": "code",
      "source": [
        "# checking the unique columns in the label column \n",
        "np.unique(y_train,)"
      ],
      "metadata": {
        "colab": {
          "base_uri": "https://localhost:8080/"
        },
        "id": "WlunTwQipLLq",
        "outputId": "b5ee186b-a89e-4bab-d958-2738a7d9b11d"
      },
      "execution_count": 4,
      "outputs": [
        {
          "output_type": "execute_result",
          "data": {
            "text/plain": [
              "array([0, 1, 2, 3, 4, 5, 6, 7, 8, 9], dtype=uint8)"
            ]
          },
          "metadata": {},
          "execution_count": 4
        }
      ]
    },
    {
      "cell_type": "code",
      "source": [
        ""
      ],
      "metadata": {
        "id": "GSD9QIdzFEFD"
      },
      "execution_count": 4,
      "outputs": []
    },
    {
      "cell_type": "markdown",
      "source": [
        "Ploting some of the images using subplot"
      ],
      "metadata": {
        "id": "dn_5YPYDFFl7"
      }
    },
    {
      "cell_type": "code",
      "source": [
        "fig=plt.figure()\n",
        "ax=[]\n",
        "for i in range(15):\n",
        "  ax.append( fig.add_subplot(3, 5, i+1) )\n",
        "  subplot_title=(\"Subplot\")\n",
        "  plt.imshow(x_train[i])\n",
        "fig.tight_layout()\n",
        "plt.show()\n"
      ],
      "metadata": {
        "colab": {
          "base_uri": "https://localhost:8080/",
          "height": 290
        },
        "id": "I161_q84phLS",
        "outputId": "3d958747-74fe-439b-f715-cb31b322d43f"
      },
      "execution_count": 5,
      "outputs": [
        {
          "output_type": "display_data",
          "data": {
            "image/png": "[encoded data removed]",
            "text/plain": [
              "<Figure size 432x288 with 15 Axes>"
            ]
          },
          "metadata": {
            "needs_background": "light"
          }
        }
      ]
    },
    {
      "cell_type": "code",
      "source": [
        "class_names = ['frog','truck','truck','deer','car',\n",
        "               'car','peacock','horse','ship','cat']\n",
        "fig=plt.figure()\n",
        "ax=[]\n",
        "for i in range(10):\n",
        "  ax.append( fig.add_subplot(2, 5, i+1) )\n",
        "  subplot_title=class_names[i]\n",
        "  ax[-1].set_title(subplot_title)  \n",
        "  plt.imshow(x_train[i])\n",
        "fig.tight_layout()\n",
        "plt.show()"
      ],
      "metadata": {
        "colab": {
          "base_uri": "https://localhost:8080/",
          "height": 252
        },
        "id": "XjMKW73eqeXy",
        "outputId": "c650040a-750e-4fc8-cb04-3344eb2bbae9"
      },
      "execution_count": 6,
      "outputs": [
        {
          "output_type": "display_data",
          "data": {
            "image/png": "[encoded data removed]",
            "text/plain": [
              "<Figure size 432x288 with 10 Axes>"
            ]
          },
          "metadata": {
            "needs_background": "light"
          }
        }
      ]
    },
    {
      "cell_type": "markdown",
      "source": [
        "We cant use reshape thats why we import and use util libabry"
      ],
      "metadata": {
        "id": "NzrHwDQgFWrf"
      }
    },
    {
      "cell_type": "code",
      "source": [
        "\n",
        "# reshaping the data\n",
        "y_train=y_train.reshape(len(y_train),10) #as num of uniue value is 10 in label column"
      ],
      "metadata": {
        "colab": {
          "base_uri": "https://localhost:8080/",
          "height": 200
        },
        "id": "_OEv9gq_i-pM",
        "outputId": "dd5e71af-81d7-4cd9-a3c2-3a98a8b48337"
      },
      "execution_count": 74,
      "outputs": [
        {
          "output_type": "error",
          "ename": "ValueError",
          "evalue": "ignored",
          "traceback": [
            "\u001b[0;31m---------------------------------------------------------------------------\u001b[0m",
            "\u001b[0;31mValueError\u001b[0m                                Traceback (most recent call last)",
            "\u001b[0;32m<ipython-input-74-6e13bee12c49>\u001b[0m in \u001b[0;36m<module>\u001b[0;34m()\u001b[0m\n\u001b[1;32m      1\u001b[0m \u001b[0;34m\u001b[0m\u001b[0m\n\u001b[1;32m      2\u001b[0m \u001b[0;31m# reshaping the data\u001b[0m\u001b[0;34m\u001b[0m\u001b[0;34m\u001b[0m\u001b[0;34m\u001b[0m\u001b[0m\n\u001b[0;32m----> 3\u001b[0;31m \u001b[0my_train\u001b[0m\u001b[0;34m=\u001b[0m\u001b[0my_train\u001b[0m\u001b[0;34m.\u001b[0m\u001b[0mreshape\u001b[0m\u001b[0;34m(\u001b[0m\u001b[0mlen\u001b[0m\u001b[0;34m(\u001b[0m\u001b[0my_train\u001b[0m\u001b[0;34m)\u001b[0m\u001b[0;34m,\u001b[0m\u001b[0;36m10\u001b[0m\u001b[0;34m)\u001b[0m \u001b[0;31m#as num of uniue value is 10 in label column\u001b[0m\u001b[0;34m\u001b[0m\u001b[0;34m\u001b[0m\u001b[0m\n\u001b[0m",
            "\u001b[0;31mValueError\u001b[0m: cannot reshape array of size 50000 into shape (50000,10)"
          ]
        }
      ]
    },
    {
      "cell_type": "code",
      "source": [
        "from keras import utils as np_utils"
      ],
      "metadata": {
        "id": "3WGVcu_ap5MY"
      },
      "execution_count": 8,
      "outputs": []
    },
    {
      "cell_type": "code",
      "source": [
        "# resgaping the y_train and y_test\n",
        "y_train=keras.utils.np_utils.to_categorical(y_train,10)\n",
        "y_test=keras.utils.np_utils.to_categorical(y_test,10)\n",
        "print(\"y_train shape\",y_train.shape)\n",
        "print(\"y_test shape\",y_test.shape)"
      ],
      "metadata": {
        "colab": {
          "base_uri": "https://localhost:8080/"
        },
        "id": "jOqgpepaqElX",
        "outputId": "f8d32f8b-a106-431d-93b2-2b3f1542badb"
      },
      "execution_count": 9,
      "outputs": [
        {
          "output_type": "stream",
          "name": "stdout",
          "text": [
            "y_train shape (50000, 10)\n",
            "y_test shape (10000, 10)\n"
          ]
        }
      ]
    },
    {
      "cell_type": "code",
      "source": [
        "# we know\n",
        "x_train.shape[1:]\n"
      ],
      "metadata": {
        "colab": {
          "base_uri": "https://localhost:8080/"
        },
        "id": "JdT1FGLqsHMd",
        "outputId": "31339e39-a890-4034-cc84-5aea44e104ba"
      },
      "execution_count": 10,
      "outputs": [
        {
          "output_type": "execute_result",
          "data": {
            "text/plain": [
              "(32, 32, 3)"
            ]
          },
          "metadata": {},
          "execution_count": 10
        }
      ]
    },
    {
      "cell_type": "code",
      "source": [
        "# Model Architecture\n",
        "model=keras.Sequential()\n",
        "layers=keras.layers\n",
        "model.add(layers.Conv2D(filters=32,kernel_size=(3,3),activation=\"relu\",input_shape=x_train.shape[1:]))\n",
        "model.add(layers.Conv2D(filters=32,kernel_size=(3,3),activation=\"relu\"))\n",
        "model.add(layers.MaxPooling2D(pool_size=(2,2)))\n",
        "model.add(layers.Dropout(0.25))\n",
        "\n",
        "model.add(layers.Conv2D(filters=64,kernel_size=(3,3),activation=\"relu\"))\n",
        "model.add(layers.Conv2D(filters=32,kernel_size=(3,3),activation=\"relu\"))\n",
        "model.add(layers.MaxPooling2D(pool_size=(2,2)))\n",
        "model.add(layers.Dropout(0.25))\n",
        "\n",
        "model.add(layers.Flatten())\n",
        "model.add(layers.Dense(units=512,activation=\"relu\"))\n",
        "model.add(layers.Dropout(0.5))\n",
        "model.add(layers.Dense(10,activation=\"softmax\"))"
      ],
      "metadata": {
        "id": "TDQkVHQfuOHt"
      },
      "execution_count": 11,
      "outputs": []
    },
    {
      "cell_type": "code",
      "source": [
        "model.summary()"
      ],
      "metadata": {
        "colab": {
          "base_uri": "https://localhost:8080/"
        },
        "id": "_TWzQoUGxSB3",
        "outputId": "2c562ea6-90b3-4a9f-cb55-3f2777728b26"
      },
      "execution_count": 12,
      "outputs": [
        {
          "output_type": "stream",
          "name": "stdout",
          "text": [
            "Model: \"sequential\"\n",
            "_________________________________________________________________\n",
            " Layer (type)                Output Shape              Param #   \n",
            "=================================================================\n",
            " conv2d (Conv2D)             (None, 30, 30, 32)        896       \n",
            "                                                                 \n",
            " conv2d_1 (Conv2D)           (None, 28, 28, 32)        9248      \n",
            "                                                                 \n",
            " max_pooling2d (MaxPooling2D  (None, 14, 14, 32)       0         \n",
            " )                                                               \n",
            "                                                                 \n",
            " dropout (Dropout)           (None, 14, 14, 32)        0         \n",
            "                                                                 \n",
            " conv2d_2 (Conv2D)           (None, 12, 12, 64)        18496     \n",
            "                                                                 \n",
            " conv2d_3 (Conv2D)           (None, 10, 10, 32)        18464     \n",
            "                                                                 \n",
            " max_pooling2d_1 (MaxPooling  (None, 5, 5, 32)         0         \n",
            " 2D)                                                             \n",
            "                                                                 \n",
            " dropout_1 (Dropout)         (None, 5, 5, 32)          0         \n",
            "                                                                 \n",
            " flatten (Flatten)           (None, 800)               0         \n",
            "                                                                 \n",
            " dense (Dense)               (None, 512)               410112    \n",
            "                                                                 \n",
            " dropout_2 (Dropout)         (None, 512)               0         \n",
            "                                                                 \n",
            " dense_1 (Dense)             (None, 10)                5130      \n",
            "                                                                 \n",
            "=================================================================\n",
            "Total params: 462,346\n",
            "Trainable params: 462,346\n",
            "Non-trainable params: 0\n",
            "_________________________________________________________________\n"
          ]
        }
      ]
    },
    {
      "cell_type": "code",
      "source": [
        "# compile the model\n",
        "model.compile(optimizer=\"adam\",loss=\"categorical_crossentropy\",metrics=[\"accuracy\"])"
      ],
      "metadata": {
        "id": "mdbeMqgUx__s"
      },
      "execution_count": 13,
      "outputs": []
    },
    {
      "cell_type": "code",
      "source": [
        "# check type of x_train,x_test\n",
        "print(x_train.dtype)\n",
        "print(\"-\"*100)\n",
        "print(x_test.dtype)"
      ],
      "metadata": {
        "colab": {
          "base_uri": "https://localhost:8080/"
        },
        "id": "Kv3xYKY83SM0",
        "outputId": "f44d135e-03c1-4953-8f8a-6df3ac084b71"
      },
      "execution_count": 14,
      "outputs": [
        {
          "output_type": "stream",
          "name": "stdout",
          "text": [
            "uint8\n",
            "----------------------------------------------------------------------------------------------------\n",
            "uint8\n"
          ]
        }
      ]
    },
    {
      "cell_type": "code",
      "source": [
        "x_train=x_train.astype(\"float32\")\n",
        "x_test=x_test.astype(\"float32\")\n",
        "print(x_train.dtype)\n",
        "print(\"-\"*100)\n",
        "print(x_test.dtype)"
      ],
      "metadata": {
        "colab": {
          "base_uri": "https://localhost:8080/"
        },
        "id": "t4OgiQAr3b9N",
        "outputId": "b726afa5-69e3-4beb-9136-ff3aaa6c0b64"
      },
      "execution_count": 15,
      "outputs": [
        {
          "output_type": "stream",
          "name": "stdout",
          "text": [
            "float32\n",
            "----------------------------------------------------------------------------------------------------\n",
            "float32\n"
          ]
        }
      ]
    },
    {
      "cell_type": "code",
      "source": [
        "# Normalize the data\n",
        "x_train=x_train/255.0\n",
        "x_test=x_test/255.0"
      ],
      "metadata": {
        "id": "lHc4Cvl430FC"
      },
      "execution_count": 16,
      "outputs": []
    },
    {
      "cell_type": "code",
      "source": [
        "# fit the model\n",
        "model.fit(x_train,y_train,batch_size=32,epochs=10,validation_data=(x_test,y_test),shuffle=True)"
      ],
      "metadata": {
        "colab": {
          "base_uri": "https://localhost:8080/"
        },
        "id": "aAL7DuhI39yg",
        "outputId": "e60a831d-d2f3-4512-8e33-bb61e6f28261"
      },
      "execution_count": 17,
      "outputs": [
        {
          "output_type": "stream",
          "name": "stdout",
          "text": [
            "Epoch 1/10\n",
            "1563/1563 [==============================] - 29s 11ms/step - loss: 1.6130 - accuracy: 0.4066 - val_loss: 1.3031 - val_accuracy: 0.5294\n",
            "Epoch 2/10\n",
            "1563/1563 [==============================] - 15s 10ms/step - loss: 1.2597 - accuracy: 0.5486 - val_loss: 1.1231 - val_accuracy: 0.5976\n",
            "Epoch 3/10\n",
            "1563/1563 [==============================] - 15s 10ms/step - loss: 1.1150 - accuracy: 0.6047 - val_loss: 0.9484 - val_accuracy: 0.6636\n",
            "Epoch 4/10\n",
            "1563/1563 [==============================] - 15s 10ms/step - loss: 1.0123 - accuracy: 0.6404 - val_loss: 0.8969 - val_accuracy: 0.6871\n",
            "Epoch 5/10\n",
            "1563/1563 [==============================] - 16s 10ms/step - loss: 0.9380 - accuracy: 0.6696 - val_loss: 0.8459 - val_accuracy: 0.6990\n",
            "Epoch 6/10\n",
            "1563/1563 [==============================] - 17s 11ms/step - loss: 0.8923 - accuracy: 0.6850 - val_loss: 0.8518 - val_accuracy: 0.7034\n",
            "Epoch 7/10\n",
            "1563/1563 [==============================] - 17s 11ms/step - loss: 0.8585 - accuracy: 0.6996 - val_loss: 0.8089 - val_accuracy: 0.7132\n",
            "Epoch 8/10\n",
            "1563/1563 [==============================] - 17s 11ms/step - loss: 0.8267 - accuracy: 0.7070 - val_loss: 0.7638 - val_accuracy: 0.7341\n",
            "Epoch 9/10\n",
            "1563/1563 [==============================] - 18s 11ms/step - loss: 0.7990 - accuracy: 0.7205 - val_loss: 0.7412 - val_accuracy: 0.7401\n",
            "Epoch 10/10\n",
            "1563/1563 [==============================] - 16s 11ms/step - loss: 0.7815 - accuracy: 0.7257 - val_loss: 0.7518 - val_accuracy: 0.7358\n"
          ]
        },
        {
          "output_type": "execute_result",
          "data": {
            "text/plain": [
              "<keras.callbacks.History at 0x7fd2d00ee290>"
            ]
          },
          "metadata": {},
          "execution_count": 17
        }
      ]
    },
    {
      "cell_type": "markdown",
      "source": [
        "Here accuracy(.7533) and validation accuracy(.7646) at the end of 10 epoch is close to each other we can say its a ideal model"
      ],
      "metadata": {
        "id": "Q22A-iDKFkzq"
      }
    },
    {
      "cell_type": "markdown",
      "source": [
        "**Creating model by removing dropout except for output dense layer and introducing batch normalization**"
      ],
      "metadata": {
        "id": "hZ1tg5EwF3_U"
      }
    },
    {
      "cell_type": "code",
      "source": [
        "# Creating model by removing dropout except for output dense layer and introducing batch normalization\n",
        "# Model Architecture\n",
        "model=keras.Sequential()\n",
        "layers=keras.layers\n",
        "model.add(layers.Conv2D(filters=32,kernel_size=(3,3),activation=\"relu\",input_shape=x_train.shape[1:]))\n",
        "model.add(layers.BatchNormalization())\n",
        "model.add(layers.Conv2D(filters=32,kernel_size=(3,3),activation=\"relu\"))\n",
        "model.add(layers.BatchNormalization())\n",
        "model.add(layers.MaxPooling2D(pool_size=(2,2)))\n",
        "\n",
        "model.add(layers.Conv2D(filters=64,kernel_size=(3,3),activation=\"relu\"))\n",
        "model.add(layers.BatchNormalization())\n",
        "model.add(layers.Conv2D(filters=32,kernel_size=(3,3),activation=\"relu\"))\n",
        "model.add(layers.BatchNormalization())\n",
        "model.add(layers.MaxPooling2D(pool_size=(2,2)))\n",
        "\n",
        "model.add(layers.Flatten())\n",
        "model.add(layers.Dense(units=512,activation=\"relu\"))\n",
        "model.add(layers.Dropout(0.5))\n",
        "model.add(layers.Dense(10,activation=\"softmax\"))"
      ],
      "metadata": {
        "id": "yJ3w00Ov-Df-"
      },
      "execution_count": 18,
      "outputs": []
    },
    {
      "cell_type": "code",
      "source": [
        "model.summary()"
      ],
      "metadata": {
        "colab": {
          "base_uri": "https://localhost:8080/"
        },
        "id": "e0reh57zCLhe",
        "outputId": "91f8398c-262b-489a-b6f6-14bc4e0f5716"
      },
      "execution_count": 19,
      "outputs": [
        {
          "output_type": "stream",
          "name": "stdout",
          "text": [
            "Model: \"sequential_1\"\n",
            "_________________________________________________________________\n",
            " Layer (type)                Output Shape              Param #   \n",
            "=================================================================\n",
            " conv2d_4 (Conv2D)           (None, 30, 30, 32)        896       \n",
            "                                                                 \n",
            " batch_normalization (BatchN  (None, 30, 30, 32)       128       \n",
            " ormalization)                                                   \n",
            "                                                                 \n",
            " conv2d_5 (Conv2D)           (None, 28, 28, 32)        9248      \n",
            "                                                                 \n",
            " batch_normalization_1 (Batc  (None, 28, 28, 32)       128       \n",
            " hNormalization)                                                 \n",
            "                                                                 \n",
            " max_pooling2d_2 (MaxPooling  (None, 14, 14, 32)       0         \n",
            " 2D)                                                             \n",
            "                                                                 \n",
            " conv2d_6 (Conv2D)           (None, 12, 12, 64)        18496     \n",
            "                                                                 \n",
            " batch_normalization_2 (Batc  (None, 12, 12, 64)       256       \n",
            " hNormalization)                                                 \n",
            "                                                                 \n",
            " conv2d_7 (Conv2D)           (None, 10, 10, 32)        18464     \n",
            "                                                                 \n",
            " batch_normalization_3 (Batc  (None, 10, 10, 32)       128       \n",
            " hNormalization)                                                 \n",
            "                                                                 \n",
            " max_pooling2d_3 (MaxPooling  (None, 5, 5, 32)         0         \n",
            " 2D)                                                             \n",
            "                                                                 \n",
            " flatten_1 (Flatten)         (None, 800)               0         \n",
            "                                                                 \n",
            " dense_2 (Dense)             (None, 512)               410112    \n",
            "                                                                 \n",
            " dropout_3 (Dropout)         (None, 512)               0         \n",
            "                                                                 \n",
            " dense_3 (Dense)             (None, 10)                5130      \n",
            "                                                                 \n",
            "=================================================================\n",
            "Total params: 462,986\n",
            "Trainable params: 462,666\n",
            "Non-trainable params: 320\n",
            "_________________________________________________________________\n"
          ]
        }
      ]
    },
    {
      "cell_type": "code",
      "source": [
        "# compile the model\n",
        "model.compile(optimizer=\"adam\",loss=\"categorical_crossentropy\",metrics=[\"accuracy\"])"
      ],
      "metadata": {
        "id": "-wpJiaJ8COfD"
      },
      "execution_count": 20,
      "outputs": []
    },
    {
      "cell_type": "code",
      "source": [
        "# fit the model\n",
        "model.fit(x_train,y_train,batch_size=32,epochs=10,validation_data=(x_test,y_test),shuffle=True)"
      ],
      "metadata": {
        "colab": {
          "base_uri": "https://localhost:8080/"
        },
        "id": "ooYML0HqCZ2q",
        "outputId": "02292d09-2e91-4f9b-bff0-0f8a80961b86"
      },
      "execution_count": 21,
      "outputs": [
        {
          "output_type": "stream",
          "name": "stdout",
          "text": [
            "Epoch 1/10\n",
            "1563/1563 [==============================] - 21s 13ms/step - loss: 1.4313 - accuracy: 0.4997 - val_loss: 1.2356 - val_accuracy: 0.5540\n",
            "Epoch 2/10\n",
            "1563/1563 [==============================] - 19s 12ms/step - loss: 1.0127 - accuracy: 0.6461 - val_loss: 0.9137 - val_accuracy: 0.6805\n",
            "Epoch 3/10\n",
            "1563/1563 [==============================] - 19s 12ms/step - loss: 0.8582 - accuracy: 0.7020 - val_loss: 1.1183 - val_accuracy: 0.6181\n",
            "Epoch 4/10\n",
            "1563/1563 [==============================] - 18s 11ms/step - loss: 0.7628 - accuracy: 0.7336 - val_loss: 0.7854 - val_accuracy: 0.7252\n",
            "Epoch 5/10\n",
            "1563/1563 [==============================] - 18s 11ms/step - loss: 0.6880 - accuracy: 0.7598 - val_loss: 0.7233 - val_accuracy: 0.7522\n",
            "Epoch 6/10\n",
            "1563/1563 [==============================] - 18s 11ms/step - loss: 0.6263 - accuracy: 0.7819 - val_loss: 0.7551 - val_accuracy: 0.7474\n",
            "Epoch 7/10\n",
            "1563/1563 [==============================] - 19s 12ms/step - loss: 0.5727 - accuracy: 0.7988 - val_loss: 0.6789 - val_accuracy: 0.7714\n",
            "Epoch 8/10\n",
            "1563/1563 [==============================] - 19s 12ms/step - loss: 0.5269 - accuracy: 0.8146 - val_loss: 0.6644 - val_accuracy: 0.7880\n",
            "Epoch 9/10\n",
            "1563/1563 [==============================] - 18s 11ms/step - loss: 0.4840 - accuracy: 0.8310 - val_loss: 0.6632 - val_accuracy: 0.7803\n",
            "Epoch 10/10\n",
            "1563/1563 [==============================] - 19s 12ms/step - loss: 0.4434 - accuracy: 0.8432 - val_loss: 0.7434 - val_accuracy: 0.7594\n"
          ]
        },
        {
          "output_type": "execute_result",
          "data": {
            "text/plain": [
              "<keras.callbacks.History at 0x7fd2e4935ad0>"
            ]
          },
          "metadata": {},
          "execution_count": 21
        }
      ]
    },
    {
      "cell_type": "markdown",
      "source": [
        "Here see there is decent diff between accuracy and val_ccuracy, thats how dropouts helps in dealing with overfitting, but this model is a clear overfit"
      ],
      "metadata": {
        "id": "MkYM-gYYEXXR"
      }
    },
    {
      "cell_type": "markdown",
      "source": [
        "## Lets include dropout and batch normalization both"
      ],
      "metadata": {
        "id": "wHyTT2HlMADT"
      }
    },
    {
      "cell_type": "code",
      "source": [
        "# Model Architecture\n",
        "model_1=keras.Sequential()\n",
        "layers=keras.layers\n",
        "model_1.add(layers.Conv2D(filters=32,kernel_size=(3,3),activation=\"relu\",input_shape=x_train.shape[1:]))\n",
        "model_1.add(layers.BatchNormalization())\n",
        "model_1.add(layers.Conv2D(filters=32,kernel_size=(3,3),activation=\"relu\"))\n",
        "model_1.add(layers.BatchNormalization())\n",
        "model_1.add(layers.MaxPooling2D(pool_size=(2,2)))\n",
        "model_1.add(layers.Dropout(0.25))\n",
        "\n",
        "model_1.add(layers.Conv2D(filters=64,kernel_size=(3,3),activation=\"relu\"))\n",
        "model_1.add(layers.BatchNormalization())\n",
        "model_1.add(layers.Conv2D(filters=32,kernel_size=(3,3),activation=\"relu\"))\n",
        "model_1.add(layers.BatchNormalization())\n",
        "model_1.add(layers.MaxPooling2D(pool_size=(2,2)))\n",
        "model_1.add(layers.Dropout(0.25))\n",
        "\n",
        "model_1.add(layers.Flatten())\n",
        "model_1.add(layers.Dense(units=512,activation=\"relu\"))\n",
        "model_1.add(layers.Dropout(0.5))\n",
        "model_1.add(layers.Dense(10,activation=\"softmax\"))"
      ],
      "metadata": {
        "id": "f_lUKRzaMOIa"
      },
      "execution_count": 22,
      "outputs": []
    },
    {
      "cell_type": "code",
      "source": [
        "model_1.summary()"
      ],
      "metadata": {
        "colab": {
          "base_uri": "https://localhost:8080/"
        },
        "id": "vx8Y9SpYMbkt",
        "outputId": "189b276c-4d3f-4d76-992b-d9a854bae5ca"
      },
      "execution_count": 23,
      "outputs": [
        {
          "output_type": "stream",
          "name": "stdout",
          "text": [
            "Model: \"sequential_2\"\n",
            "_________________________________________________________________\n",
            " Layer (type)                Output Shape              Param #   \n",
            "=================================================================\n",
            " conv2d_8 (Conv2D)           (None, 30, 30, 32)        896       \n",
            "                                                                 \n",
            " batch_normalization_4 (Batc  (None, 30, 30, 32)       128       \n",
            " hNormalization)                                                 \n",
            "                                                                 \n",
            " conv2d_9 (Conv2D)           (None, 28, 28, 32)        9248      \n",
            "                                                                 \n",
            " batch_normalization_5 (Batc  (None, 28, 28, 32)       128       \n",
            " hNormalization)                                                 \n",
            "                                                                 \n",
            " max_pooling2d_4 (MaxPooling  (None, 14, 14, 32)       0         \n",
            " 2D)                                                             \n",
            "                                                                 \n",
            " dropout_4 (Dropout)         (None, 14, 14, 32)        0         \n",
            "                                                                 \n",
            " conv2d_10 (Conv2D)          (None, 12, 12, 64)        18496     \n",
            "                                                                 \n",
            " batch_normalization_6 (Batc  (None, 12, 12, 64)       256       \n",
            " hNormalization)                                                 \n",
            "                                                                 \n",
            " conv2d_11 (Conv2D)          (None, 10, 10, 32)        18464     \n",
            "                                                                 \n",
            " batch_normalization_7 (Batc  (None, 10, 10, 32)       128       \n",
            " hNormalization)                                                 \n",
            "                                                                 \n",
            " max_pooling2d_5 (MaxPooling  (None, 5, 5, 32)         0         \n",
            " 2D)                                                             \n",
            "                                                                 \n",
            " dropout_5 (Dropout)         (None, 5, 5, 32)          0         \n",
            "                                                                 \n",
            " flatten_2 (Flatten)         (None, 800)               0         \n",
            "                                                                 \n",
            " dense_4 (Dense)             (None, 512)               410112    \n",
            "                                                                 \n",
            " dropout_6 (Dropout)         (None, 512)               0         \n",
            "                                                                 \n",
            " dense_5 (Dense)             (None, 10)                5130      \n",
            "                                                                 \n",
            "=================================================================\n",
            "Total params: 462,986\n",
            "Trainable params: 462,666\n",
            "Non-trainable params: 320\n",
            "_________________________________________________________________\n"
          ]
        }
      ]
    },
    {
      "cell_type": "code",
      "source": [
        "# compile the model\n",
        "model_1.compile(optimizer=\"adam\",loss=\"categorical_crossentropy\",metrics=[\"accuracy\"])"
      ],
      "metadata": {
        "id": "TUa5uObhMiX9"
      },
      "execution_count": 24,
      "outputs": []
    },
    {
      "cell_type": "code",
      "source": [
        "# fit the model\n",
        "model_1.fit(x_train,y_train,batch_size=32,epochs=10,validation_data=(x_test,y_test),shuffle=True)"
      ],
      "metadata": {
        "colab": {
          "base_uri": "https://localhost:8080/"
        },
        "id": "HJuP0w2qM98s",
        "outputId": "e503bf15-88c8-407a-89a1-702a5f323054"
      },
      "execution_count": 25,
      "outputs": [
        {
          "output_type": "stream",
          "name": "stdout",
          "text": [
            "Epoch 1/10\n",
            "1563/1563 [==============================] - 20s 12ms/step - loss: 1.5660 - accuracy: 0.4510 - val_loss: 1.1959 - val_accuracy: 0.5738\n",
            "Epoch 2/10\n",
            "1563/1563 [==============================] - 19s 12ms/step - loss: 1.1374 - accuracy: 0.5988 - val_loss: 0.9870 - val_accuracy: 0.6547\n",
            "Epoch 3/10\n",
            "1563/1563 [==============================] - 20s 13ms/step - loss: 0.9765 - accuracy: 0.6596 - val_loss: 1.2626 - val_accuracy: 0.5934\n",
            "Epoch 4/10\n",
            "1563/1563 [==============================] - 19s 12ms/step - loss: 0.8834 - accuracy: 0.6906 - val_loss: 0.7795 - val_accuracy: 0.7319\n",
            "Epoch 5/10\n",
            "1563/1563 [==============================] - 19s 12ms/step - loss: 0.8224 - accuracy: 0.7128 - val_loss: 0.7252 - val_accuracy: 0.7480\n",
            "Epoch 6/10\n",
            "1563/1563 [==============================] - 18s 12ms/step - loss: 0.7760 - accuracy: 0.7317 - val_loss: 0.6803 - val_accuracy: 0.7624\n",
            "Epoch 7/10\n",
            "1563/1563 [==============================] - 18s 12ms/step - loss: 0.7273 - accuracy: 0.7453 - val_loss: 0.6853 - val_accuracy: 0.7625\n",
            "Epoch 8/10\n",
            "1563/1563 [==============================] - 18s 11ms/step - loss: 0.6936 - accuracy: 0.7577 - val_loss: 0.6547 - val_accuracy: 0.7726\n",
            "Epoch 9/10\n",
            "1563/1563 [==============================] - 19s 12ms/step - loss: 0.6671 - accuracy: 0.7654 - val_loss: 0.6988 - val_accuracy: 0.7606\n",
            "Epoch 10/10\n",
            "1563/1563 [==============================] - 18s 12ms/step - loss: 0.6414 - accuracy: 0.7765 - val_loss: 0.6084 - val_accuracy: 0.7885\n"
          ]
        },
        {
          "output_type": "execute_result",
          "data": {
            "text/plain": [
              "<keras.callbacks.History at 0x7fd25f16d250>"
            ]
          },
          "metadata": {},
          "execution_count": 25
        }
      ]
    },
    {
      "cell_type": "markdown",
      "source": [
        "**By adding dropouts and batch normalization the overfiiting is reduced as we can see yje accuracy and va_accuracy are close to each other**"
      ],
      "metadata": {
        "id": "d4_aXLfuO9E0"
      }
    },
    {
      "cell_type": "markdown",
      "source": [
        "# By adding the regularizatuion i.e L2(ridge regularization) and removing dropouts"
      ],
      "metadata": {
        "id": "NUs1CoStPUNs"
      }
    },
    {
      "cell_type": "code",
      "source": [
        "from keras.regularizers import l2"
      ],
      "metadata": {
        "id": "vamPCaQ9Plsr"
      },
      "execution_count": 26,
      "outputs": []
    },
    {
      "cell_type": "code",
      "source": [
        "# Model Architecture\n",
        "model_1=keras.Sequential()\n",
        "layers=keras.layers\n",
        "model_1.add(layers.Conv2D(filters=32,kernel_size=(3,3),activation=\"relu\",input_shape=x_train.shape[1:]))\n",
        "model_1.add(layers.BatchNormalization())\n",
        "model_1.add(layers.Conv2D(filters=32,kernel_size=(3,3),activation=\"relu\"))\n",
        "model_1.add(layers.BatchNormalization())\n",
        "model_1.add(layers.MaxPooling2D(pool_size=(2,2)))\n",
        "\n",
        "model_1.add(layers.Conv2D(filters=64,kernel_size=(3,3),activation=\"relu\"))\n",
        "model_1.add(layers.BatchNormalization())\n",
        "model_1.add(layers.Conv2D(filters=32,kernel_size=(3,3),activation=\"relu\"))\n",
        "model_1.add(layers.BatchNormalization())\n",
        "model_1.add(layers.MaxPooling2D(pool_size=(2,2)))\n",
        "\n",
        "model_1.add(layers.Flatten())\n",
        "model_1.add(layers.Dense(units=512,activation=\"relu\",kernel_regularizer=l2(.01)))\n",
        "model_1.add(layers.Dropout(0.5))\n",
        "model_1.add(layers.Dense(10,activation=\"softmax\"))"
      ],
      "metadata": {
        "id": "8_Ht7vA3Qsl0"
      },
      "execution_count": 27,
      "outputs": []
    },
    {
      "cell_type": "code",
      "source": [
        "model_1.summary()"
      ],
      "metadata": {
        "colab": {
          "base_uri": "https://localhost:8080/"
        },
        "id": "B0XbyuEARgUf",
        "outputId": "61808664-b9ff-4b07-c504-6c65c8db9333"
      },
      "execution_count": 28,
      "outputs": [
        {
          "output_type": "stream",
          "name": "stdout",
          "text": [
            "Model: \"sequential_3\"\n",
            "_________________________________________________________________\n",
            " Layer (type)                Output Shape              Param #   \n",
            "=================================================================\n",
            " conv2d_12 (Conv2D)          (None, 30, 30, 32)        896       \n",
            "                                                                 \n",
            " batch_normalization_8 (Batc  (None, 30, 30, 32)       128       \n",
            " hNormalization)                                                 \n",
            "                                                                 \n",
            " conv2d_13 (Conv2D)          (None, 28, 28, 32)        9248      \n",
            "                                                                 \n",
            " batch_normalization_9 (Batc  (None, 28, 28, 32)       128       \n",
            " hNormalization)                                                 \n",
            "                                                                 \n",
            " max_pooling2d_6 (MaxPooling  (None, 14, 14, 32)       0         \n",
            " 2D)                                                             \n",
            "                                                                 \n",
            " conv2d_14 (Conv2D)          (None, 12, 12, 64)        18496     \n",
            "                                                                 \n",
            " batch_normalization_10 (Bat  (None, 12, 12, 64)       256       \n",
            " chNormalization)                                                \n",
            "                                                                 \n",
            " conv2d_15 (Conv2D)          (None, 10, 10, 32)        18464     \n",
            "                                                                 \n",
            " batch_normalization_11 (Bat  (None, 10, 10, 32)       128       \n",
            " chNormalization)                                                \n",
            "                                                                 \n",
            " max_pooling2d_7 (MaxPooling  (None, 5, 5, 32)         0         \n",
            " 2D)                                                             \n",
            "                                                                 \n",
            " flatten_3 (Flatten)         (None, 800)               0         \n",
            "                                                                 \n",
            " dense_6 (Dense)             (None, 512)               410112    \n",
            "                                                                 \n",
            " dropout_7 (Dropout)         (None, 512)               0         \n",
            "                                                                 \n",
            " dense_7 (Dense)             (None, 10)                5130      \n",
            "                                                                 \n",
            "=================================================================\n",
            "Total params: 462,986\n",
            "Trainable params: 462,666\n",
            "Non-trainable params: 320\n",
            "_________________________________________________________________\n"
          ]
        }
      ]
    },
    {
      "cell_type": "code",
      "source": [
        "# compile the model\n",
        "model_1.compile(optimizer=\"adam\",loss=\"categorical_crossentropy\",metrics=[\"accuracy\"])"
      ],
      "metadata": {
        "id": "b98UZyr1RizH"
      },
      "execution_count": 29,
      "outputs": []
    },
    {
      "cell_type": "code",
      "source": [
        "# fit the model\n",
        "model_1.fit(x_train,y_train,batch_size=32,epochs=10,validation_data=(x_test,y_test),shuffle=True)"
      ],
      "metadata": {
        "colab": {
          "base_uri": "https://localhost:8080/"
        },
        "id": "lwxK8yp3RvPy",
        "outputId": "cc44849f-48d8-40f2-c66c-646e2921c726"
      },
      "execution_count": 30,
      "outputs": [
        {
          "output_type": "stream",
          "name": "stdout",
          "text": [
            "Epoch 1/10\n",
            "1563/1563 [==============================] - 20s 12ms/step - loss: 2.5756 - accuracy: 0.5070 - val_loss: 1.5698 - val_accuracy: 0.5894\n",
            "Epoch 2/10\n",
            "1563/1563 [==============================] - 17s 11ms/step - loss: 1.4219 - accuracy: 0.6387 - val_loss: 1.4945 - val_accuracy: 0.6208\n",
            "Epoch 3/10\n",
            "1563/1563 [==============================] - 18s 12ms/step - loss: 1.3349 - accuracy: 0.6763 - val_loss: 1.3955 - val_accuracy: 0.6437\n",
            "Epoch 4/10\n",
            "1563/1563 [==============================] - 19s 12ms/step - loss: 1.2882 - accuracy: 0.6995 - val_loss: 1.3325 - val_accuracy: 0.6847\n",
            "Epoch 5/10\n",
            "1563/1563 [==============================] - 17s 11ms/step - loss: 1.2644 - accuracy: 0.7132 - val_loss: 1.2884 - val_accuracy: 0.7024\n",
            "Epoch 6/10\n",
            "1563/1563 [==============================] - 17s 11ms/step - loss: 1.2349 - accuracy: 0.7297 - val_loss: 1.2957 - val_accuracy: 0.7052\n",
            "Epoch 7/10\n",
            "1563/1563 [==============================] - 19s 12ms/step - loss: 1.2034 - accuracy: 0.7393 - val_loss: 1.2465 - val_accuracy: 0.7198\n",
            "Epoch 8/10\n",
            "1563/1563 [==============================] - 19s 12ms/step - loss: 1.1884 - accuracy: 0.7521 - val_loss: 1.2706 - val_accuracy: 0.7204\n",
            "Epoch 9/10\n",
            "1563/1563 [==============================] - 18s 11ms/step - loss: 1.1685 - accuracy: 0.7551 - val_loss: 1.2161 - val_accuracy: 0.7350\n",
            "Epoch 10/10\n",
            "1563/1563 [==============================] - 19s 12ms/step - loss: 1.1505 - accuracy: 0.7646 - val_loss: 1.1509 - val_accuracy: 0.7549\n"
          ]
        },
        {
          "output_type": "execute_result",
          "data": {
            "text/plain": [
              "<keras.callbacks.History at 0x7fd25eeb4510>"
            ]
          },
          "metadata": {},
          "execution_count": 30
        }
      ]
    },
    {
      "cell_type": "markdown",
      "source": [
        "**Adding l2 regularization and removing the dropouts leads to overfitting**"
      ],
      "metadata": {
        "id": "n5Ie2vaOSnB2"
      }
    },
    {
      "cell_type": "markdown",
      "source": [
        "# By adding the regularizatuion i.e L2(ridge regularization) and adding dropouts to"
      ],
      "metadata": {
        "id": "ljqzZqZ46s0_"
      }
    },
    {
      "cell_type": "code",
      "source": [
        "model_1=keras.Sequential()\n",
        "layers=keras.layers\n",
        "model_1.add(layers.Conv2D(filters=32,kernel_size=(3,3),activation=\"relu\",input_shape=x_train.shape[1:]))\n",
        "model_1.add(layers.BatchNormalization())\n",
        "model_1.add(layers.Conv2D(filters=32,kernel_size=(3,3),activation=\"relu\"))\n",
        "model_1.add(layers.BatchNormalization())\n",
        "model_1.add(layers.MaxPooling2D(pool_size=(2,2)))\n",
        "model_1.add(layers.Dropout(0.25))\n",
        "\n",
        "model_1.add(layers.Conv2D(filters=64,kernel_size=(3,3),activation=\"relu\"))\n",
        "model_1.add(layers.BatchNormalization())\n",
        "model_1.add(layers.Conv2D(filters=32,kernel_size=(3,3),activation=\"relu\"))\n",
        "model_1.add(layers.BatchNormalization())\n",
        "model_1.add(layers.MaxPooling2D(pool_size=(2,2)))\n",
        "model_1.add(layers.Dropout(0.25))\n",
        "\n",
        "model_1.add(layers.Flatten())\n",
        "model_1.add(layers.Dense(units=512,activation=\"relu\",kernel_regularizer=l2(.01)))\n",
        "model_1.add(layers.Dropout(0.5))\n",
        "model_1.add(layers.Dense(10,activation=\"softmax\"))"
      ],
      "metadata": {
        "id": "3AuNrkdV61qJ"
      },
      "execution_count": 31,
      "outputs": []
    },
    {
      "cell_type": "code",
      "source": [
        "model_1.summary()"
      ],
      "metadata": {
        "colab": {
          "base_uri": "https://localhost:8080/"
        },
        "id": "V4kohxtQ7YC8",
        "outputId": "656f92f9-4f03-477a-aa2b-d90903d14d8b"
      },
      "execution_count": 33,
      "outputs": [
        {
          "output_type": "stream",
          "name": "stdout",
          "text": [
            "Model: \"sequential_4\"\n",
            "_________________________________________________________________\n",
            " Layer (type)                Output Shape              Param #   \n",
            "=================================================================\n",
            " conv2d_16 (Conv2D)          (None, 30, 30, 32)        896       \n",
            "                                                                 \n",
            " batch_normalization_12 (Bat  (None, 30, 30, 32)       128       \n",
            " chNormalization)                                                \n",
            "                                                                 \n",
            " conv2d_17 (Conv2D)          (None, 28, 28, 32)        9248      \n",
            "                                                                 \n",
            " batch_normalization_13 (Bat  (None, 28, 28, 32)       128       \n",
            " chNormalization)                                                \n",
            "                                                                 \n",
            " max_pooling2d_8 (MaxPooling  (None, 14, 14, 32)       0         \n",
            " 2D)                                                             \n",
            "                                                                 \n",
            " dropout_8 (Dropout)         (None, 14, 14, 32)        0         \n",
            "                                                                 \n",
            " conv2d_18 (Conv2D)          (None, 12, 12, 64)        18496     \n",
            "                                                                 \n",
            " batch_normalization_14 (Bat  (None, 12, 12, 64)       256       \n",
            " chNormalization)                                                \n",
            "                                                                 \n",
            " conv2d_19 (Conv2D)          (None, 10, 10, 32)        18464     \n",
            "                                                                 \n",
            " batch_normalization_15 (Bat  (None, 10, 10, 32)       128       \n",
            " chNormalization)                                                \n",
            "                                                                 \n",
            " max_pooling2d_9 (MaxPooling  (None, 5, 5, 32)         0         \n",
            " 2D)                                                             \n",
            "                                                                 \n",
            " dropout_9 (Dropout)         (None, 5, 5, 32)          0         \n",
            "                                                                 \n",
            " flatten_4 (Flatten)         (None, 800)               0         \n",
            "                                                                 \n",
            " dense_8 (Dense)             (None, 512)               410112    \n",
            "                                                                 \n",
            " dropout_10 (Dropout)        (None, 512)               0         \n",
            "                                                                 \n",
            " dense_9 (Dense)             (None, 10)                5130      \n",
            "                                                                 \n",
            "=================================================================\n",
            "Total params: 462,986\n",
            "Trainable params: 462,666\n",
            "Non-trainable params: 320\n",
            "_________________________________________________________________\n"
          ]
        }
      ]
    },
    {
      "cell_type": "code",
      "source": [
        "# compile the model\n",
        "model_1.compile(optimizer=\"adam\",loss=\"categorical_crossentropy\",metrics=[\"accuracy\"])"
      ],
      "metadata": {
        "id": "cz7hj9tg7e3i"
      },
      "execution_count": 34,
      "outputs": []
    },
    {
      "cell_type": "code",
      "source": [
        "# fit the model\n",
        "model_1.fit(x_train,y_train,batch_size=32,epochs=10,validation_data=(x_test,y_test),shuffle=True)"
      ],
      "metadata": {
        "colab": {
          "base_uri": "https://localhost:8080/"
        },
        "id": "Y3fgVfLx7hT3",
        "outputId": "fe074209-417c-4e8c-b44e-47fe3ac70187"
      },
      "execution_count": 35,
      "outputs": [
        {
          "output_type": "stream",
          "name": "stdout",
          "text": [
            "Epoch 1/10\n",
            "1563/1563 [==============================] - 19s 12ms/step - loss: 2.8866 - accuracy: 0.4655 - val_loss: 1.6488 - val_accuracy: 0.5779\n",
            "Epoch 2/10\n",
            "1563/1563 [==============================] - 18s 11ms/step - loss: 1.5692 - accuracy: 0.6066 - val_loss: 1.5267 - val_accuracy: 0.6143\n",
            "Epoch 3/10\n",
            "1563/1563 [==============================] - 19s 12ms/step - loss: 1.4653 - accuracy: 0.6419 - val_loss: 1.3983 - val_accuracy: 0.6548\n",
            "Epoch 4/10\n",
            "1563/1563 [==============================] - 18s 12ms/step - loss: 1.4148 - accuracy: 0.6690 - val_loss: 1.3181 - val_accuracy: 0.7002\n",
            "Epoch 5/10\n",
            "1563/1563 [==============================] - 18s 11ms/step - loss: 1.3835 - accuracy: 0.6804 - val_loss: 1.3132 - val_accuracy: 0.7087\n",
            "Epoch 6/10\n",
            "1563/1563 [==============================] - 18s 11ms/step - loss: 1.3533 - accuracy: 0.6950 - val_loss: 1.2933 - val_accuracy: 0.7147\n",
            "Epoch 7/10\n",
            "1563/1563 [==============================] - 18s 11ms/step - loss: 1.3294 - accuracy: 0.7043 - val_loss: 1.3169 - val_accuracy: 0.7094\n",
            "Epoch 8/10\n",
            "1563/1563 [==============================] - 19s 12ms/step - loss: 1.3078 - accuracy: 0.7126 - val_loss: 1.3072 - val_accuracy: 0.7124\n",
            "Epoch 9/10\n",
            "1563/1563 [==============================] - 18s 12ms/step - loss: 1.2952 - accuracy: 0.7133 - val_loss: 1.2855 - val_accuracy: 0.7080\n",
            "Epoch 10/10\n",
            "1563/1563 [==============================] - 19s 12ms/step - loss: 1.2695 - accuracy: 0.7222 - val_loss: 1.1756 - val_accuracy: 0.7510\n"
          ]
        },
        {
          "output_type": "execute_result",
          "data": {
            "text/plain": [
              "<keras.callbacks.History at 0x7fd25eb785d0>"
            ]
          },
          "metadata": {},
          "execution_count": 35
        }
      ]
    },
    {
      "cell_type": "code",
      "source": [
        "model_1.evaluate(x_test,y_test)"
      ],
      "metadata": {
        "colab": {
          "base_uri": "https://localhost:8080/"
        },
        "id": "C0oCrVqv9PfD",
        "outputId": "09f37ed7-3ba3-409d-8ecf-48b1b8da9603"
      },
      "execution_count": 36,
      "outputs": [
        {
          "output_type": "stream",
          "name": "stdout",
          "text": [
            "313/313 [==============================] - 2s 6ms/step - loss: 1.1756 - accuracy: 0.7510\n"
          ]
        },
        {
          "output_type": "execute_result",
          "data": {
            "text/plain": [
              "[1.175553560256958, 0.7509999871253967]"
            ]
          },
          "metadata": {},
          "execution_count": 36
        }
      ]
    },
    {
      "cell_type": "markdown",
      "source": [
        "**Model is performing fine here as test accuracy is more than that of train accuracy**"
      ],
      "metadata": {
        "id": "_POPr1Wr86fD"
      }
    },
    {
      "cell_type": "markdown",
      "source": [
        "# Lets add more convolution Layer and see the result and using padding=\"same\""
      ],
      "metadata": {
        "id": "YIf80Lbm9HHz"
      }
    },
    {
      "cell_type": "markdown",
      "source": [
        "**Padding = Same:**\n",
        " means the input image ought to have zero padding so that the output in convolution doesnt differ in size as input. \n",
        "\n",
        "Note: (1-pixel border is 1 layer of zero pixel, 2-pixel border means 2 layers of pixel, depend on kernel we choose)\n",
        "\n",
        "**Padding = Valid:**\n",
        " means we dont add the zero pixel padding around the input matrix, and its like saying, we are ready to loose some information. when we do valid padding, the convolution happens and based on kernel size we taking, only the inside pixel of input is considered to be ‘valid’ which appears in feature map."
      ],
      "metadata": {
        "id": "gYI7FmnIDWqO"
      }
    },
    {
      "cell_type": "code",
      "source": [
        "model_2=keras.Sequential()\n",
        "layers=keras.layers\n",
        "model_2.add(layers.Conv2D(filters=32,kernel_size=(3,3),padding=\"same\",activation=\"relu\",input_shape=x_train.shape[1:]))\n",
        "model_2.add(layers.BatchNormalization())\n",
        "model_2.add(layers.Conv2D(filters=32,kernel_size=(3,3),activation=\"relu\"))\n",
        "model_2.add(layers.BatchNormalization())\n",
        "model_2.add(layers.MaxPooling2D(pool_size=(2,2)))\n",
        "model_2.add(layers.Dropout(0.25))\n",
        "\n",
        "model_2.add(layers.Conv2D(filters=64,kernel_size=(3,3),padding=\"same\",activation=\"relu\"))\n",
        "model_2.add(layers.BatchNormalization())\n",
        "model_2.add(layers.Conv2D(filters=32,kernel_size=(3,3),activation=\"relu\"))\n",
        "model_2.add(layers.BatchNormalization())\n",
        "model_2.add(layers.MaxPooling2D(pool_size=(2,2)))\n",
        "model_2.add(layers.Dropout(0.25))\n",
        "\n",
        "# Adding more layer\n",
        "model_2.add(layers.Conv2D(filters=128,kernel_size=(3,3),padding=\"same\",activation=\"relu\"))\n",
        "model_2.add(layers.BatchNormalization())\n",
        "model_2.add(layers.Conv2D(filters=128,kernel_size=(3,3),activation=\"relu\"))\n",
        "model_2.add(layers.BatchNormalization())\n",
        "model_2.add(layers.MaxPooling2D(pool_size=(2,2)))\n",
        "model_2.add(layers.Dropout(0.25))\n",
        "\n",
        "model_2.add(layers.Flatten())\n",
        "model_2.add(layers.Dense(units=512,activation=\"relu\",kernel_regularizer=l2(.01)))\n",
        "model_2.add(layers.Dropout(0.5))\n",
        "model_2.add(layers.Dense(10,activation=\"softmax\"))"
      ],
      "metadata": {
        "id": "UwQw6la293Fw"
      },
      "execution_count": 41,
      "outputs": []
    },
    {
      "cell_type": "code",
      "source": [
        "model_2.summary()"
      ],
      "metadata": {
        "colab": {
          "base_uri": "https://localhost:8080/"
        },
        "id": "BGxLzySG-Vof",
        "outputId": "6f322141-e272-4ca3-c3be-c013504010f4"
      },
      "execution_count": 42,
      "outputs": [
        {
          "output_type": "stream",
          "name": "stdout",
          "text": [
            "Model: \"sequential_8\"\n",
            "_________________________________________________________________\n",
            " Layer (type)                Output Shape              Param #   \n",
            "=================================================================\n",
            " conv2d_38 (Conv2D)          (None, 32, 32, 32)        896       \n",
            "                                                                 \n",
            " batch_normalization_34 (Bat  (None, 32, 32, 32)       128       \n",
            " chNormalization)                                                \n",
            "                                                                 \n",
            " conv2d_39 (Conv2D)          (None, 30, 30, 32)        9248      \n",
            "                                                                 \n",
            " batch_normalization_35 (Bat  (None, 30, 30, 32)       128       \n",
            " chNormalization)                                                \n",
            "                                                                 \n",
            " max_pooling2d_19 (MaxPoolin  (None, 15, 15, 32)       0         \n",
            " g2D)                                                            \n",
            "                                                                 \n",
            " dropout_17 (Dropout)        (None, 15, 15, 32)        0         \n",
            "                                                                 \n",
            " conv2d_40 (Conv2D)          (None, 15, 15, 64)        18496     \n",
            "                                                                 \n",
            " batch_normalization_36 (Bat  (None, 15, 15, 64)       256       \n",
            " chNormalization)                                                \n",
            "                                                                 \n",
            " conv2d_41 (Conv2D)          (None, 13, 13, 32)        18464     \n",
            "                                                                 \n",
            " batch_normalization_37 (Bat  (None, 13, 13, 32)       128       \n",
            " chNormalization)                                                \n",
            "                                                                 \n",
            " max_pooling2d_20 (MaxPoolin  (None, 6, 6, 32)         0         \n",
            " g2D)                                                            \n",
            "                                                                 \n",
            " dropout_18 (Dropout)        (None, 6, 6, 32)          0         \n",
            "                                                                 \n",
            " conv2d_42 (Conv2D)          (None, 6, 6, 128)         36992     \n",
            "                                                                 \n",
            " batch_normalization_38 (Bat  (None, 6, 6, 128)        512       \n",
            " chNormalization)                                                \n",
            "                                                                 \n",
            " conv2d_43 (Conv2D)          (None, 4, 4, 128)         147584    \n",
            "                                                                 \n",
            " batch_normalization_39 (Bat  (None, 4, 4, 128)        512       \n",
            " chNormalization)                                                \n",
            "                                                                 \n",
            " max_pooling2d_21 (MaxPoolin  (None, 2, 2, 128)        0         \n",
            " g2D)                                                            \n",
            "                                                                 \n",
            " dropout_19 (Dropout)        (None, 2, 2, 128)         0         \n",
            "                                                                 \n",
            " flatten_5 (Flatten)         (None, 512)               0         \n",
            "                                                                 \n",
            " dense_10 (Dense)            (None, 512)               262656    \n",
            "                                                                 \n",
            " dropout_20 (Dropout)        (None, 512)               0         \n",
            "                                                                 \n",
            " dense_11 (Dense)            (None, 10)                5130      \n",
            "                                                                 \n",
            "=================================================================\n",
            "Total params: 501,130\n",
            "Trainable params: 500,298\n",
            "Non-trainable params: 832\n",
            "_________________________________________________________________\n"
          ]
        }
      ]
    },
    {
      "cell_type": "code",
      "source": [
        "# compile the model\n",
        "model_2.compile(optimizer=\"adam\",loss=\"categorical_crossentropy\",metrics=[\"accuracy\"])"
      ],
      "metadata": {
        "id": "e5fc_T0G__cj"
      },
      "execution_count": 45,
      "outputs": []
    },
    {
      "cell_type": "code",
      "source": [
        "# fit the model\n",
        "model_2.fit(x_train,y_train,batch_size=32,epochs=10,validation_data=(x_test,y_test),shuffle=True)"
      ],
      "metadata": {
        "colab": {
          "base_uri": "https://localhost:8080/"
        },
        "id": "JTrsgRtSAQrq",
        "outputId": "b04a438a-4c32-4440-f3c0-39e7816962a0"
      },
      "execution_count": 46,
      "outputs": [
        {
          "output_type": "stream",
          "name": "stdout",
          "text": [
            "Epoch 1/10\n",
            "1563/1563 [==============================] - 28s 17ms/step - loss: 2.5584 - accuracy: 0.4558 - val_loss: 1.5058 - val_accuracy: 0.5416\n",
            "Epoch 2/10\n",
            "1563/1563 [==============================] - 24s 16ms/step - loss: 1.3316 - accuracy: 0.6116 - val_loss: 1.1845 - val_accuracy: 0.6571\n",
            "Epoch 3/10\n",
            "1563/1563 [==============================] - 24s 16ms/step - loss: 1.1724 - accuracy: 0.6733 - val_loss: 1.0735 - val_accuracy: 0.7178\n",
            "Epoch 4/10\n",
            "1563/1563 [==============================] - 25s 16ms/step - loss: 1.1005 - accuracy: 0.7043 - val_loss: 0.9660 - val_accuracy: 0.7581\n",
            "Epoch 5/10\n",
            "1563/1563 [==============================] - 25s 16ms/step - loss: 1.0411 - accuracy: 0.7299 - val_loss: 1.0830 - val_accuracy: 0.7086\n",
            "Epoch 6/10\n",
            "1563/1563 [==============================] - 26s 17ms/step - loss: 1.0059 - accuracy: 0.7461 - val_loss: 0.9864 - val_accuracy: 0.7562\n",
            "Epoch 7/10\n",
            "1563/1563 [==============================] - 28s 18ms/step - loss: 0.9692 - accuracy: 0.7608 - val_loss: 0.9929 - val_accuracy: 0.7518\n",
            "Epoch 8/10\n",
            "1563/1563 [==============================] - 28s 18ms/step - loss: 0.9454 - accuracy: 0.7660 - val_loss: 0.8621 - val_accuracy: 0.7959\n",
            "Epoch 9/10\n",
            "1563/1563 [==============================] - 28s 18ms/step - loss: 0.9153 - accuracy: 0.7789 - val_loss: 0.8699 - val_accuracy: 0.7960\n",
            "Epoch 10/10\n",
            "1563/1563 [==============================] - 30s 19ms/step - loss: 0.8999 - accuracy: 0.7841 - val_loss: 0.8745 - val_accuracy: 0.7973\n"
          ]
        },
        {
          "output_type": "execute_result",
          "data": {
            "text/plain": [
              "<keras.callbacks.History at 0x7fd25eb54090>"
            ]
          },
          "metadata": {},
          "execution_count": 46
        }
      ]
    },
    {
      "cell_type": "markdown",
      "source": [
        "**Adding more layer also yield good result but it also add more parameters making model to take more time for computation**"
      ],
      "metadata": {
        "id": "y_cZfUJuCalM"
      }
    },
    {
      "cell_type": "markdown",
      "source": [
        "# Adding feature map i.e to extract more features from the same patch, instead of 32 and 64 we now use 64 and 128"
      ],
      "metadata": {
        "id": "Dsj_uRr7D1Tc"
      }
    },
    {
      "cell_type": "code",
      "source": [
        "model_3=keras.Sequential()\n",
        "layers=keras.layers\n",
        "model_3.add(layers.Conv2D(filters=64,kernel_size=(3,3),padding=\"same\",activation=\"relu\",input_shape=x_train.shape[1:]))\n",
        "model_3.add(layers.BatchNormalization())\n",
        "model_3.add(layers.Conv2D(filters=64,kernel_size=(3,3),activation=\"relu\"))\n",
        "model_3.add(layers.BatchNormalization())\n",
        "model_3.add(layers.MaxPooling2D(pool_size=(2,2)))\n",
        "model_3.add(layers.Dropout(0.25))\n",
        "\n",
        "model_3.add(layers.Conv2D(filters=128,kernel_size=(3,3),padding=\"same\",activation=\"relu\"))\n",
        "model_3.add(layers.BatchNormalization())\n",
        "model_3.add(layers.Conv2D(filters=128,kernel_size=(3,3),activation=\"relu\"))\n",
        "model_3.add(layers.BatchNormalization())\n",
        "model_3.add(layers.MaxPooling2D(pool_size=(2,2)))\n",
        "model_3.add(layers.Dropout(0.25))\n",
        "\n",
        "model_3.add(layers.Flatten())\n",
        "model_3.add(layers.Dense(units=512,activation=\"relu\",kernel_regularizer=l2(.01)))\n",
        "model_3.add(layers.Dropout(0.5))\n",
        "model_3.add(layers.Dense(10,activation=\"softmax\"))"
      ],
      "metadata": {
        "id": "7mgBrvsjCqhU"
      },
      "execution_count": 47,
      "outputs": []
    },
    {
      "cell_type": "code",
      "source": [
        "model_3.summary()"
      ],
      "metadata": {
        "colab": {
          "base_uri": "https://localhost:8080/"
        },
        "id": "FL4LwBUVEcph",
        "outputId": "7af8e227-baed-4a5d-880b-d0e58908692e"
      },
      "execution_count": 48,
      "outputs": [
        {
          "output_type": "stream",
          "name": "stdout",
          "text": [
            "Model: \"sequential_9\"\n",
            "_________________________________________________________________\n",
            " Layer (type)                Output Shape              Param #   \n",
            "=================================================================\n",
            " conv2d_44 (Conv2D)          (None, 32, 32, 64)        1792      \n",
            "                                                                 \n",
            " batch_normalization_40 (Bat  (None, 32, 32, 64)       256       \n",
            " chNormalization)                                                \n",
            "                                                                 \n",
            " conv2d_45 (Conv2D)          (None, 30, 30, 64)        36928     \n",
            "                                                                 \n",
            " batch_normalization_41 (Bat  (None, 30, 30, 64)       256       \n",
            " chNormalization)                                                \n",
            "                                                                 \n",
            " max_pooling2d_22 (MaxPoolin  (None, 15, 15, 64)       0         \n",
            " g2D)                                                            \n",
            "                                                                 \n",
            " dropout_21 (Dropout)        (None, 15, 15, 64)        0         \n",
            "                                                                 \n",
            " conv2d_46 (Conv2D)          (None, 15, 15, 128)       73856     \n",
            "                                                                 \n",
            " batch_normalization_42 (Bat  (None, 15, 15, 128)      512       \n",
            " chNormalization)                                                \n",
            "                                                                 \n",
            " conv2d_47 (Conv2D)          (None, 13, 13, 128)       147584    \n",
            "                                                                 \n",
            " batch_normalization_43 (Bat  (None, 13, 13, 128)      512       \n",
            " chNormalization)                                                \n",
            "                                                                 \n",
            " max_pooling2d_23 (MaxPoolin  (None, 6, 6, 128)        0         \n",
            " g2D)                                                            \n",
            "                                                                 \n",
            " dropout_22 (Dropout)        (None, 6, 6, 128)         0         \n",
            "                                                                 \n",
            " flatten_6 (Flatten)         (None, 4608)              0         \n",
            "                                                                 \n",
            " dense_12 (Dense)            (None, 512)               2359808   \n",
            "                                                                 \n",
            " dropout_23 (Dropout)        (None, 512)               0         \n",
            "                                                                 \n",
            " dense_13 (Dense)            (None, 10)                5130      \n",
            "                                                                 \n",
            "=================================================================\n",
            "Total params: 2,626,634\n",
            "Trainable params: 2,625,866\n",
            "Non-trainable params: 768\n",
            "_________________________________________________________________\n"
          ]
        }
      ]
    },
    {
      "cell_type": "code",
      "source": [
        "# compile the model\n",
        "model_3.compile(optimizer=\"adam\",loss=\"categorical_crossentropy\",metrics=[\"accuracy\"])"
      ],
      "metadata": {
        "id": "PXRLrhF2Ek34"
      },
      "execution_count": 49,
      "outputs": []
    },
    {
      "cell_type": "code",
      "source": [
        "# fit the model\n",
        "model_3.fit(x_train,y_train,batch_size=32,epochs=10,validation_data=(x_test,y_test),shuffle=True)"
      ],
      "metadata": {
        "colab": {
          "base_uri": "https://localhost:8080/"
        },
        "id": "e1-ctQjAEoOI",
        "outputId": "ceb4b536-62fe-4643-cae6-4bb64b7c1a8e"
      },
      "execution_count": 50,
      "outputs": [
        {
          "output_type": "stream",
          "name": "stdout",
          "text": [
            "Epoch 1/10\n",
            "1563/1563 [==============================] - 33s 20ms/step - loss: 3.4603 - accuracy: 0.4610 - val_loss: 2.0304 - val_accuracy: 0.5986\n",
            "Epoch 2/10\n",
            "1563/1563 [==============================] - 31s 20ms/step - loss: 1.8466 - accuracy: 0.6416 - val_loss: 2.0538 - val_accuracy: 0.5581\n",
            "Epoch 3/10\n",
            "1563/1563 [==============================] - 31s 20ms/step - loss: 1.7620 - accuracy: 0.6789 - val_loss: 1.8460 - val_accuracy: 0.6578\n",
            "Epoch 4/10\n",
            "1563/1563 [==============================] - 31s 20ms/step - loss: 1.6874 - accuracy: 0.7075 - val_loss: 1.5801 - val_accuracy: 0.7426\n",
            "Epoch 5/10\n",
            "1563/1563 [==============================] - 32s 20ms/step - loss: 1.6497 - accuracy: 0.7252 - val_loss: 1.8473 - val_accuracy: 0.6647\n",
            "Epoch 6/10\n",
            "1563/1563 [==============================] - ETA: 0s - loss: 1.6094 - accuracy: 0.7418Epoch 7/10\n",
            "1563/1563 [==============================] - 31s 20ms/step - loss: 1.5731 - accuracy: 0.7547 - val_loss: 1.5117 - val_accuracy: 0.7758\n",
            "Epoch 8/10\n",
            "1563/1563 [==============================] - 31s 20ms/step - loss: 1.5427 - accuracy: 0.7660 - val_loss: 1.6613 - val_accuracy: 0.7254\n",
            "Epoch 9/10\n",
            "1563/1563 [==============================] - 31s 20ms/step - loss: 1.5140 - accuracy: 0.7742 - val_loss: 1.5047 - val_accuracy: 0.7719\n",
            "Epoch 10/10\n",
            "1563/1563 [==============================] - 31s 20ms/step - loss: 1.4759 - accuracy: 0.7800 - val_loss: 1.6877 - val_accuracy: 0.7408\n"
          ]
        },
        {
          "output_type": "execute_result",
          "data": {
            "text/plain": [
              "<keras.callbacks.History at 0x7fd1eb449390>"
            ]
          },
          "metadata": {},
          "execution_count": 50
        }
      ]
    },
    {
      "cell_type": "markdown",
      "source": [
        "# Lets by proper hypertuning find the best parameters"
      ],
      "metadata": {
        "id": "7awtbfrJGZCR"
      }
    },
    {
      "cell_type": "code",
      "source": [
        "!pip install keras-tuner"
      ],
      "metadata": {
        "colab": {
          "base_uri": "https://localhost:8080/"
        },
        "id": "2Nh-nMBoGfti",
        "outputId": "07df9aad-92f1-4b85-c8b5-785691a07f31"
      },
      "execution_count": 51,
      "outputs": [
        {
          "output_type": "stream",
          "name": "stdout",
          "text": [
            "Collecting keras-tuner\n",
            "  Downloading keras_tuner-1.1.0-py3-none-any.whl (98 kB)\n",
            "\u001b[?25l\r\u001b[K     |███▍                            | 10 kB 31.9 MB/s eta 0:00:01\r\u001b[K     |██████▊                         | 20 kB 30.4 MB/s eta 0:00:01\r\u001b[K     |██████████                      | 30 kB 21.3 MB/s eta 0:00:01\r\u001b[K     |█████████████▍                  | 40 kB 18.1 MB/s eta 0:00:01\r\u001b[K     |████████████████▊               | 51 kB 14.1 MB/s eta 0:00:01\r\u001b[K     |████████████████████            | 61 kB 12.2 MB/s eta 0:00:01\r\u001b[K     |███████████████████████▍        | 71 kB 12.4 MB/s eta 0:00:01\r\u001b[K     |██████████████████████████▊     | 81 kB 13.2 MB/s eta 0:00:01\r\u001b[K     |██████████████████████████████  | 92 kB 11.5 MB/s eta 0:00:01\r\u001b[K     |████████████████████████████████| 98 kB 4.8 MB/s \n",
            "\u001b[?25hRequirement already satisfied: tensorboard in /usr/local/lib/python3.7/dist-packages (from keras-tuner) (2.7.0)\n",
            "Requirement already satisfied: scipy in /usr/local/lib/python3.7/dist-packages (from keras-tuner) (1.4.1)\n",
            "Requirement already satisfied: ipython in /usr/local/lib/python3.7/dist-packages (from keras-tuner) (5.5.0)\n",
            "Collecting kt-legacy\n",
            "  Downloading kt_legacy-1.0.4-py3-none-any.whl (9.6 kB)\n",
            "Requirement already satisfied: packaging in /usr/local/lib/python3.7/dist-packages (from keras-tuner) (21.3)\n",
            "Requirement already satisfied: numpy in /usr/local/lib/python3.7/dist-packages (from keras-tuner) (1.19.5)\n",
            "Requirement already satisfied: requests in /usr/local/lib/python3.7/dist-packages (from keras-tuner) (2.23.0)\n",
            "Requirement already satisfied: pygments in /usr/local/lib/python3.7/dist-packages (from ipython->keras-tuner) (2.6.1)\n",
            "Requirement already satisfied: pexpect in /usr/local/lib/python3.7/dist-packages (from ipython->keras-tuner) (4.8.0)\n",
            "Requirement already satisfied: decorator in /usr/local/lib/python3.7/dist-packages (from ipython->keras-tuner) (4.4.2)\n",
            "Requirement already satisfied: setuptools>=18.5 in /usr/local/lib/python3.7/dist-packages (from ipython->keras-tuner) (57.4.0)\n",
            "Requirement already satisfied: pickleshare in /usr/local/lib/python3.7/dist-packages (from ipython->keras-tuner) (0.7.5)\n",
            "Requirement already satisfied: prompt-toolkit<2.0.0,>=1.0.4 in /usr/local/lib/python3.7/dist-packages (from ipython->keras-tuner) (1.0.18)\n",
            "Requirement already satisfied: traitlets>=4.2 in /usr/local/lib/python3.7/dist-packages (from ipython->keras-tuner) (5.1.1)\n",
            "Requirement already satisfied: simplegeneric>0.8 in /usr/local/lib/python3.7/dist-packages (from ipython->keras-tuner) (0.8.1)\n",
            "Requirement already satisfied: six>=1.9.0 in /usr/local/lib/python3.7/dist-packages (from prompt-toolkit<2.0.0,>=1.0.4->ipython->keras-tuner) (1.15.0)\n",
            "Requirement already satisfied: wcwidth in /usr/local/lib/python3.7/dist-packages (from prompt-toolkit<2.0.0,>=1.0.4->ipython->keras-tuner) (0.2.5)\n",
            "Requirement already satisfied: pyparsing!=3.0.5,>=2.0.2 in /usr/local/lib/python3.7/dist-packages (from packaging->keras-tuner) (3.0.6)\n",
            "Requirement already satisfied: ptyprocess>=0.5 in /usr/local/lib/python3.7/dist-packages (from pexpect->ipython->keras-tuner) (0.7.0)\n",
            "Requirement already satisfied: chardet<4,>=3.0.2 in /usr/local/lib/python3.7/dist-packages (from requests->keras-tuner) (3.0.4)\n",
            "Requirement already satisfied: idna<3,>=2.5 in /usr/local/lib/python3.7/dist-packages (from requests->keras-tuner) (2.10)\n",
            "Requirement already satisfied: certifi>=2017.4.17 in /usr/local/lib/python3.7/dist-packages (from requests->keras-tuner) (2021.10.8)\n",
            "Requirement already satisfied: urllib3!=1.25.0,!=1.25.1,<1.26,>=1.21.1 in /usr/local/lib/python3.7/dist-packages (from requests->keras-tuner) (1.24.3)\n",
            "Requirement already satisfied: google-auth-oauthlib<0.5,>=0.4.1 in /usr/local/lib/python3.7/dist-packages (from tensorboard->keras-tuner) (0.4.6)\n",
            "Requirement already satisfied: tensorboard-data-server<0.7.0,>=0.6.0 in /usr/local/lib/python3.7/dist-packages (from tensorboard->keras-tuner) (0.6.1)\n",
            "Requirement already satisfied: tensorboard-plugin-wit>=1.6.0 in /usr/local/lib/python3.7/dist-packages (from tensorboard->keras-tuner) (1.8.0)\n",
            "Requirement already satisfied: absl-py>=0.4 in /usr/local/lib/python3.7/dist-packages (from tensorboard->keras-tuner) (0.12.0)\n",
            "Requirement already satisfied: protobuf>=3.6.0 in /usr/local/lib/python3.7/dist-packages (from tensorboard->keras-tuner) (3.17.3)\n",
            "Requirement already satisfied: markdown>=2.6.8 in /usr/local/lib/python3.7/dist-packages (from tensorboard->keras-tuner) (3.3.6)\n",
            "Requirement already satisfied: grpcio>=1.24.3 in /usr/local/lib/python3.7/dist-packages (from tensorboard->keras-tuner) (1.42.0)\n",
            "Requirement already satisfied: werkzeug>=0.11.15 in /usr/local/lib/python3.7/dist-packages (from tensorboard->keras-tuner) (1.0.1)\n",
            "Requirement already satisfied: google-auth<3,>=1.6.3 in /usr/local/lib/python3.7/dist-packages (from tensorboard->keras-tuner) (1.35.0)\n",
            "Requirement already satisfied: wheel>=0.26 in /usr/local/lib/python3.7/dist-packages (from tensorboard->keras-tuner) (0.37.0)\n",
            "Requirement already satisfied: rsa<5,>=3.1.4 in /usr/local/lib/python3.7/dist-packages (from google-auth<3,>=1.6.3->tensorboard->keras-tuner) (4.8)\n",
            "Requirement already satisfied: pyasn1-modules>=0.2.1 in /usr/local/lib/python3.7/dist-packages (from google-auth<3,>=1.6.3->tensorboard->keras-tuner) (0.2.8)\n",
            "Requirement already satisfied: cachetools<5.0,>=2.0.0 in /usr/local/lib/python3.7/dist-packages (from google-auth<3,>=1.6.3->tensorboard->keras-tuner) (4.2.4)\n",
            "Requirement already satisfied: requests-oauthlib>=0.7.0 in /usr/local/lib/python3.7/dist-packages (from google-auth-oauthlib<0.5,>=0.4.1->tensorboard->keras-tuner) (1.3.0)\n",
            "Requirement already satisfied: importlib-metadata>=4.4 in /usr/local/lib/python3.7/dist-packages (from markdown>=2.6.8->tensorboard->keras-tuner) (4.8.2)\n",
            "Requirement already satisfied: typing-extensions>=3.6.4 in /usr/local/lib/python3.7/dist-packages (from importlib-metadata>=4.4->markdown>=2.6.8->tensorboard->keras-tuner) (3.10.0.2)\n",
            "Requirement already satisfied: zipp>=0.5 in /usr/local/lib/python3.7/dist-packages (from importlib-metadata>=4.4->markdown>=2.6.8->tensorboard->keras-tuner) (3.6.0)\n",
            "Requirement already satisfied: pyasn1<0.5.0,>=0.4.6 in /usr/local/lib/python3.7/dist-packages (from pyasn1-modules>=0.2.1->google-auth<3,>=1.6.3->tensorboard->keras-tuner) (0.4.8)\n",
            "Requirement already satisfied: oauthlib>=3.0.0 in /usr/local/lib/python3.7/dist-packages (from requests-oauthlib>=0.7.0->google-auth-oauthlib<0.5,>=0.4.1->tensorboard->keras-tuner) (3.1.1)\n",
            "Installing collected packages: kt-legacy, keras-tuner\n",
            "Successfully installed keras-tuner-1.1.0 kt-legacy-1.0.4\n"
          ]
        }
      ]
    },
    {
      "cell_type": "code",
      "source": [
        "from keras_tuner.tuners import RandomSearch\n",
        "# Loading liabraries\n",
        "import keras\n",
        "import tensorflow as tf\n",
        "from tensorflow import keras\n",
        "import numpy as np\n",
        "import matplotlib.pyplot as plt\n",
        "%matplotlib inline\n",
        "\n",
        "from tensorflow import keras\n",
        "from tensorflow.keras import layers,Sequential\n",
        "from keras_tuner.tuners import RandomSearch\n",
        "from keras.layers.convolutional import Conv2D"
      ],
      "metadata": {
        "id": "i71Ld4GbGqpm"
      },
      "execution_count": 58,
      "outputs": []
    },
    {
      "cell_type": "code",
      "source": [
        "# Building Model\n",
        "def build_model(hp):\n",
        "  model=keras.Sequential()\n",
        "  model.add(layers.Conv2D(\n",
        "      filters=hp.Int(\"conv_1_filter\",min_value=32,max_value=128,step=16),\n",
        "      kernel_size=hp.Choice(\"conv_1_kernel\",values=[3,5]),\n",
        "      activation=\"relu\",\n",
        "      input_shape=x_train.shape[1:]\n",
        "  ))\n",
        "\n",
        "  model.add(layers.Conv2D(\n",
        "      \n",
        "      filters=hp.Int(\"conv_2_filter\",min_value=32,max_value=64,step=16),\n",
        "      kernel_size=hp.Choice(\"conv_2_kernel\",values=[3,5]),\n",
        "      activation=\"relu\"\n",
        "  ))\n",
        "  model.add(layers.Flatten())\n",
        "  model.add(layers.Dense(\n",
        "      units=hp.Int(\"dense_1_unit\",min_value=32,max_value=128,step=16),\n",
        "      activation=\"relu\"\n",
        "  ))\n",
        "\n",
        "  model.add(layers.Dense(10,activation=\"softmax\")) # 10 here means length of output is 10\n",
        "\n",
        "  model.compile(optimizer=keras.optimizers.Adam(hp.Choice('learning_rate', values=[1e-2, 1e-3])),\n",
        "              loss='categorical_crossentropy',\n",
        "              metrics=['accuracy'])\n",
        "  return model"
      ],
      "metadata": {
        "id": "BXylyXMiHhd9"
      },
      "execution_count": 68,
      "outputs": []
    },
    {
      "cell_type": "code",
      "source": [
        "from keras_tuner import RandomSearch\n",
        "from keras_tuner.engine.hyperparameters import HyperParameters"
      ],
      "metadata": {
        "id": "KiFI_uA-IGpp"
      },
      "execution_count": 69,
      "outputs": []
    },
    {
      "cell_type": "code",
      "source": [
        "# Searching for best value for the model\n",
        "tuner_search=RandomSearch(build_model,\n",
        "                          objective='val_accuracy',\n",
        "                          max_trials=5,directory='outputs',project_name=\"CIFR10\")"
      ],
      "metadata": {
        "colab": {
          "base_uri": "https://localhost:8080/"
        },
        "id": "LzgYQISCINmZ",
        "outputId": "6023c7df-e0f9-4d6a-e7f2-6c9bb027b972"
      },
      "execution_count": 70,
      "outputs": [
        {
          "output_type": "stream",
          "name": "stdout",
          "text": [
            "INFO:tensorflow:Reloading Oracle from existing project outputs/CIFR10/oracle.json\n"
          ]
        }
      ]
    },
    {
      "cell_type": "code",
      "source": [
        "y_train.shape"
      ],
      "metadata": {
        "colab": {
          "base_uri": "https://localhost:8080/"
        },
        "id": "VrT5W9nDKC8h",
        "outputId": "03912573-f325-459c-f331-4a7c677038ce"
      },
      "execution_count": 66,
      "outputs": [
        {
          "output_type": "execute_result",
          "data": {
            "text/plain": [
              "(50000, 10)"
            ]
          },
          "metadata": {},
          "execution_count": 66
        }
      ]
    },
    {
      "cell_type": "code",
      "source": [
        "#fitting the model\n",
        "tuner_search.search(x_train,y_train,epochs=10,validation_split=0.1)"
      ],
      "metadata": {
        "colab": {
          "base_uri": "https://localhost:8080/"
        },
        "id": "uU7Mc8nLI0n5",
        "outputId": "dc70825a-269c-4e89-92c7-fd138e8cdaa0"
      },
      "execution_count": 72,
      "outputs": [
        {
          "output_type": "stream",
          "name": "stdout",
          "text": [
            "Trial 7 Complete [00h 03m 23s]\n",
            "val_accuracy: 0.10580000281333923\n",
            "\n",
            "Best val_accuracy So Far: 0.6539999842643738\n",
            "Total elapsed time: 00h 14m 23s\n",
            "INFO:tensorflow:Oracle triggered exit\n"
          ]
        }
      ]
    },
    {
      "cell_type": "code",
      "source": [
        ""
      ],
      "metadata": {
        "id": "Skm-T5t2JY-_"
      },
      "execution_count": null,
      "outputs": []
    }
  ]
}